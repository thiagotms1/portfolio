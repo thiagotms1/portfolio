{
  "cells": [
    {
      "cell_type": "markdown",
      "id": "56350271",
      "metadata": {
        "id": "56350271"
      },
      "source": [
        "#### Student: Thiago Medeiros de Souza\n",
        "#### Subject: Statistical Techniques for Data Analysis\n",
        "#### CCT College"
      ]
    },
    {
      "cell_type": "markdown",
      "id": "62c74762",
      "metadata": {
        "id": "62c74762"
      },
      "source": [
        "## Section One: Descriptive stats & Dataset"
      ]
    },
    {
      "cell_type": "markdown",
      "id": "eb4194ce",
      "metadata": {
        "id": "eb4194ce"
      },
      "source": [
        "### 1. Pick a dataset of your interest and upload it to your Jupyter Notebook. Add a small brief about the dataset, including the reason you picked this dataset and the variables dictionary."
      ]
    },
    {
      "cell_type": "code",
      "execution_count": null,
      "id": "b8f13360",
      "metadata": {
        "id": "b8f13360"
      },
      "outputs": [],
      "source": [
        "import pandas as pd\n",
        "import seaborn as sns"
      ]
    },
    {
      "cell_type": "code",
      "source": [
        "data_soccer = pd.read_csv('SOCCER SEASON 2018-19.csv')"
      ],
      "metadata": {
        "id": "mPfXUwR2zibJ"
      },
      "id": "mPfXUwR2zibJ",
      "execution_count": null,
      "outputs": []
    },
    {
      "cell_type": "markdown",
      "id": "68f644b0",
      "metadata": {
        "id": "68f644b0"
      },
      "source": [
        "#### This data set comprehends the last two season of soccer for championships around the globe. It shows the matches, the results of the matches and its predictions for the matches before they started. It also shows a few stats of the home and away teams that could help understand if said stats can be an indicator of success for the winning team. This data set was created by me using a web scrapper and an API connection I developed in order to get this values from the website flashscore.com\n",
        "#### I picked this data set because I am passionate about soccer and I believe that soccer can be predicted if you can find the right approach to develop a machine learning model.\n",
        "##### Please see below the variables dictionary"
      ]
    },
    {
      "cell_type": "code",
      "execution_count": null,
      "id": "bcd207e8",
      "metadata": {
        "scrolled": false,
        "colab": {
          "base_uri": "https://localhost:8080/",
          "height": 582
        },
        "id": "bcd207e8",
        "outputId": "efcb85e5-8a53-496a-a4da-cfdf1c577f1b"
      },
      "outputs": [
        {
          "output_type": "execute_result",
          "data": {
            "text/plain": [
              "              Variables                                        Description\n",
              "0             Home_Team                   Name of the team playing at home\n",
              "1       Score_Home_Team                     Score of the team playing Home\n",
              "2       Score_Away_Team                     Score of the team playing Away\n",
              "3             Away_team                      Name of the team playing away\n",
              "4              FAVORITE                 The favorite team to win the match\n",
              "5               RESULTS  The final result of who won the match or if it...\n",
              "6              Home_odd  The odd/probability of the home team win the m...\n",
              "7              Draw_odd     The odd/probability of the match end in a draw\n",
              "8              Away_odd  The odd/probability of the away team win the m...\n",
              "9     Ball_possession_h  The percentage of how much the home team had t...\n",
              "10    Ball_possession_a  The percentage of how much the away team had t...\n",
              "11      Goal_attempts_h  The amount of time the Home team attempted to ...\n",
              "12      Goal_attempts_a  The amount of time the Away team attempted to ...\n",
              "13            Attacks_h      The number of attack created by the Home team\n",
              "14            Attacks_a      The number of attack created by the Away team\n",
              "15  Dangerous_attacks_h  The number of dangerous attacks created by the...\n",
              "16  Dangerous_attacks_a  The number of dangerous attacks created by the..."
            ],
            "text/html": [
              "\n",
              "  <div id=\"df-a0cd7b9a-57be-4af7-b9bf-3f1f3e0789a1\">\n",
              "    <div class=\"colab-df-container\">\n",
              "      <div>\n",
              "<style scoped>\n",
              "    .dataframe tbody tr th:only-of-type {\n",
              "        vertical-align: middle;\n",
              "    }\n",
              "\n",
              "    .dataframe tbody tr th {\n",
              "        vertical-align: top;\n",
              "    }\n",
              "\n",
              "    .dataframe thead th {\n",
              "        text-align: right;\n",
              "    }\n",
              "</style>\n",
              "<table border=\"1\" class=\"dataframe\">\n",
              "  <thead>\n",
              "    <tr style=\"text-align: right;\">\n",
              "      <th></th>\n",
              "      <th>Variables</th>\n",
              "      <th>Description</th>\n",
              "    </tr>\n",
              "  </thead>\n",
              "  <tbody>\n",
              "    <tr>\n",
              "      <th>0</th>\n",
              "      <td>Home_Team</td>\n",
              "      <td>Name of the team playing at home</td>\n",
              "    </tr>\n",
              "    <tr>\n",
              "      <th>1</th>\n",
              "      <td>Score_Home_Team</td>\n",
              "      <td>Score of the team playing Home</td>\n",
              "    </tr>\n",
              "    <tr>\n",
              "      <th>2</th>\n",
              "      <td>Score_Away_Team</td>\n",
              "      <td>Score of the team playing Away</td>\n",
              "    </tr>\n",
              "    <tr>\n",
              "      <th>3</th>\n",
              "      <td>Away_team</td>\n",
              "      <td>Name of the team playing away</td>\n",
              "    </tr>\n",
              "    <tr>\n",
              "      <th>4</th>\n",
              "      <td>FAVORITE</td>\n",
              "      <td>The favorite team to win the match</td>\n",
              "    </tr>\n",
              "    <tr>\n",
              "      <th>5</th>\n",
              "      <td>RESULTS</td>\n",
              "      <td>The final result of who won the match or if it...</td>\n",
              "    </tr>\n",
              "    <tr>\n",
              "      <th>6</th>\n",
              "      <td>Home_odd</td>\n",
              "      <td>The odd/probability of the home team win the m...</td>\n",
              "    </tr>\n",
              "    <tr>\n",
              "      <th>7</th>\n",
              "      <td>Draw_odd</td>\n",
              "      <td>The odd/probability of the match end in a draw</td>\n",
              "    </tr>\n",
              "    <tr>\n",
              "      <th>8</th>\n",
              "      <td>Away_odd</td>\n",
              "      <td>The odd/probability of the away team win the m...</td>\n",
              "    </tr>\n",
              "    <tr>\n",
              "      <th>9</th>\n",
              "      <td>Ball_possession_h</td>\n",
              "      <td>The percentage of how much the home team had t...</td>\n",
              "    </tr>\n",
              "    <tr>\n",
              "      <th>10</th>\n",
              "      <td>Ball_possession_a</td>\n",
              "      <td>The percentage of how much the away team had t...</td>\n",
              "    </tr>\n",
              "    <tr>\n",
              "      <th>11</th>\n",
              "      <td>Goal_attempts_h</td>\n",
              "      <td>The amount of time the Home team attempted to ...</td>\n",
              "    </tr>\n",
              "    <tr>\n",
              "      <th>12</th>\n",
              "      <td>Goal_attempts_a</td>\n",
              "      <td>The amount of time the Away team attempted to ...</td>\n",
              "    </tr>\n",
              "    <tr>\n",
              "      <th>13</th>\n",
              "      <td>Attacks_h</td>\n",
              "      <td>The number of attack created by the Home team</td>\n",
              "    </tr>\n",
              "    <tr>\n",
              "      <th>14</th>\n",
              "      <td>Attacks_a</td>\n",
              "      <td>The number of attack created by the Away team</td>\n",
              "    </tr>\n",
              "    <tr>\n",
              "      <th>15</th>\n",
              "      <td>Dangerous_attacks_h</td>\n",
              "      <td>The number of dangerous attacks created by the...</td>\n",
              "    </tr>\n",
              "    <tr>\n",
              "      <th>16</th>\n",
              "      <td>Dangerous_attacks_a</td>\n",
              "      <td>The number of dangerous attacks created by the...</td>\n",
              "    </tr>\n",
              "  </tbody>\n",
              "</table>\n",
              "</div>\n",
              "      <button class=\"colab-df-convert\" onclick=\"convertToInteractive('df-a0cd7b9a-57be-4af7-b9bf-3f1f3e0789a1')\"\n",
              "              title=\"Convert this dataframe to an interactive table.\"\n",
              "              style=\"display:none;\">\n",
              "        \n",
              "  <svg xmlns=\"http://www.w3.org/2000/svg\" height=\"24px\"viewBox=\"0 0 24 24\"\n",
              "       width=\"24px\">\n",
              "    <path d=\"M0 0h24v24H0V0z\" fill=\"none\"/>\n",
              "    <path d=\"M18.56 5.44l.94 2.06.94-2.06 2.06-.94-2.06-.94-.94-2.06-.94 2.06-2.06.94zm-11 1L8.5 8.5l.94-2.06 2.06-.94-2.06-.94L8.5 2.5l-.94 2.06-2.06.94zm10 10l.94 2.06.94-2.06 2.06-.94-2.06-.94-.94-2.06-.94 2.06-2.06.94z\"/><path d=\"M17.41 7.96l-1.37-1.37c-.4-.4-.92-.59-1.43-.59-.52 0-1.04.2-1.43.59L10.3 9.45l-7.72 7.72c-.78.78-.78 2.05 0 2.83L4 21.41c.39.39.9.59 1.41.59.51 0 1.02-.2 1.41-.59l7.78-7.78 2.81-2.81c.8-.78.8-2.07 0-2.86zM5.41 20L4 18.59l7.72-7.72 1.47 1.35L5.41 20z\"/>\n",
              "  </svg>\n",
              "      </button>\n",
              "      \n",
              "  <style>\n",
              "    .colab-df-container {\n",
              "      display:flex;\n",
              "      flex-wrap:wrap;\n",
              "      gap: 12px;\n",
              "    }\n",
              "\n",
              "    .colab-df-convert {\n",
              "      background-color: #E8F0FE;\n",
              "      border: none;\n",
              "      border-radius: 50%;\n",
              "      cursor: pointer;\n",
              "      display: none;\n",
              "      fill: #1967D2;\n",
              "      height: 32px;\n",
              "      padding: 0 0 0 0;\n",
              "      width: 32px;\n",
              "    }\n",
              "\n",
              "    .colab-df-convert:hover {\n",
              "      background-color: #E2EBFA;\n",
              "      box-shadow: 0px 1px 2px rgba(60, 64, 67, 0.3), 0px 1px 3px 1px rgba(60, 64, 67, 0.15);\n",
              "      fill: #174EA6;\n",
              "    }\n",
              "\n",
              "    [theme=dark] .colab-df-convert {\n",
              "      background-color: #3B4455;\n",
              "      fill: #D2E3FC;\n",
              "    }\n",
              "\n",
              "    [theme=dark] .colab-df-convert:hover {\n",
              "      background-color: #434B5C;\n",
              "      box-shadow: 0px 1px 3px 1px rgba(0, 0, 0, 0.15);\n",
              "      filter: drop-shadow(0px 1px 2px rgba(0, 0, 0, 0.3));\n",
              "      fill: #FFFFFF;\n",
              "    }\n",
              "  </style>\n",
              "\n",
              "      <script>\n",
              "        const buttonEl =\n",
              "          document.querySelector('#df-a0cd7b9a-57be-4af7-b9bf-3f1f3e0789a1 button.colab-df-convert');\n",
              "        buttonEl.style.display =\n",
              "          google.colab.kernel.accessAllowed ? 'block' : 'none';\n",
              "\n",
              "        async function convertToInteractive(key) {\n",
              "          const element = document.querySelector('#df-a0cd7b9a-57be-4af7-b9bf-3f1f3e0789a1');\n",
              "          const dataTable =\n",
              "            await google.colab.kernel.invokeFunction('convertToInteractive',\n",
              "                                                     [key], {});\n",
              "          if (!dataTable) return;\n",
              "\n",
              "          const docLinkHtml = 'Like what you see? Visit the ' +\n",
              "            '<a target=\"_blank\" href=https://colab.research.google.com/notebooks/data_table.ipynb>data table notebook</a>'\n",
              "            + ' to learn more about interactive tables.';\n",
              "          element.innerHTML = '';\n",
              "          dataTable['output_type'] = 'display_data';\n",
              "          await google.colab.output.renderOutput(dataTable, element);\n",
              "          const docLink = document.createElement('div');\n",
              "          docLink.innerHTML = docLinkHtml;\n",
              "          element.appendChild(docLink);\n",
              "        }\n",
              "      </script>\n",
              "    </div>\n",
              "  </div>\n",
              "  "
            ]
          },
          "metadata": {},
          "execution_count": 3
        }
      ],
      "source": [
        "data = {'Variables': ['Home_Team', 'Score_Home_Team', 'Score_Away_Team', 'Away_team','FAVORITE','RESULTS','Home_odd','Draw_odd','Away_odd','Ball_possession_h','Ball_possession_a','Goal_attempts_h','Goal_attempts_a','Attacks_h','Attacks_a','Dangerous_attacks_h','Dangerous_attacks_a',], 'Description': ['Name of the team playing at home','Score of the team playing Home','Score of the team playing Away','Name of the team playing away','The favorite team to win the match','The final result of who won the match or if it is a draw','The odd/probability of the home team win the match','The odd/probability of the match end in a draw','The odd/probability of the away team win the match','The percentage of how much the home team had the possession of the ball','The percentage of how much the away team had the possession of the ball','The amount of time the Home team attempted to score a goal','The amount of time the Away team attempted to score a goal','The number of attack created by the Home team','The number of attack created by the Away team','The number of dangerous attacks created by the Home team','The number of dangerous attacks created by the Away team']}\n",
        "# Create DataFrame.\n",
        "df = pd.DataFrame(data)\n",
        "# Print the output.\n",
        "df"
      ]
    },
    {
      "cell_type": "markdown",
      "id": "a24bbc5a",
      "metadata": {
        "id": "a24bbc5a"
      },
      "source": [
        "### 2. Using appropriate Python code show relevant information about the data set selected"
      ]
    },
    {
      "cell_type": "markdown",
      "id": "695e0cb7",
      "metadata": {
        "id": "695e0cb7"
      },
      "source": [
        "#### First we will use the function .head() to have a quick look at the data set. By standard, we can see the 5 first rows of the data set and the columns names."
      ]
    },
    {
      "cell_type": "code",
      "execution_count": null,
      "id": "181b4dea",
      "metadata": {
        "colab": {
          "base_uri": "https://localhost:8080/",
          "height": 374
        },
        "id": "181b4dea",
        "outputId": "d91c0ef6-7409-4bc0-885d-2e7491f98a07"
      },
      "outputs": [
        {
          "output_type": "execute_result",
          "data": {
            "text/plain": [
              "            Home_team  Score_Home_Team  Score_Away_Team  \\\n",
              "0          Toronto FC                0                2   \n",
              "1      Houston Dynamo                4                0   \n",
              "2  Philadelphia Union                2                0   \n",
              "3        Orlando City                1                1   \n",
              "4           FC Dallas                1                1   \n",
              "\n",
              "                Away_team FAVORITE RESULTS  Home_odd  Draw_odd  Away_odd  \\\n",
              "0           Columbus Crew     AWAY    AWAY      1.55      4.15      5.75   \n",
              "1             Atlanta Utd     HOME    HOME      2.55      3.45      2.65   \n",
              "2  New England Revolution     HOME    HOME      1.93      3.50      3.90   \n",
              "3               DC United     HOME    DRAW      2.25      3.50      3.05   \n",
              "4          Real Salt Lake     HOME    DRAW      1.70      3.90      4.75   \n",
              "\n",
              "   Ball_possession_h  Ball_possession_a  Goal_attempts_h  Goal_attempts_a  \\\n",
              "0               0.58               0.42             13.0             12.0   \n",
              "1               0.41               0.59             13.0             13.0   \n",
              "2               0.64               0.36             21.0              8.0   \n",
              "3               0.59               0.41             12.0             14.0   \n",
              "4               0.53               0.47             18.0              9.0   \n",
              "\n",
              "   Attacks_h  Attacks_a  Dangerous_attacks_h  Dangerous_attacks_a  \n",
              "0       82.0       83.0                 75.0                 54.0  \n",
              "1        0.0        0.0                  0.0                  0.0  \n",
              "2        0.0        0.0                  0.0                  0.0  \n",
              "3      116.0       77.0                 77.0                 63.0  \n",
              "4      105.0      100.0                 68.0                 31.0  "
            ],
            "text/html": [
              "\n",
              "  <div id=\"df-121d4d13-24d8-4227-ab0d-76cdcbfb539b\">\n",
              "    <div class=\"colab-df-container\">\n",
              "      <div>\n",
              "<style scoped>\n",
              "    .dataframe tbody tr th:only-of-type {\n",
              "        vertical-align: middle;\n",
              "    }\n",
              "\n",
              "    .dataframe tbody tr th {\n",
              "        vertical-align: top;\n",
              "    }\n",
              "\n",
              "    .dataframe thead th {\n",
              "        text-align: right;\n",
              "    }\n",
              "</style>\n",
              "<table border=\"1\" class=\"dataframe\">\n",
              "  <thead>\n",
              "    <tr style=\"text-align: right;\">\n",
              "      <th></th>\n",
              "      <th>Home_team</th>\n",
              "      <th>Score_Home_Team</th>\n",
              "      <th>Score_Away_Team</th>\n",
              "      <th>Away_team</th>\n",
              "      <th>FAVORITE</th>\n",
              "      <th>RESULTS</th>\n",
              "      <th>Home_odd</th>\n",
              "      <th>Draw_odd</th>\n",
              "      <th>Away_odd</th>\n",
              "      <th>Ball_possession_h</th>\n",
              "      <th>Ball_possession_a</th>\n",
              "      <th>Goal_attempts_h</th>\n",
              "      <th>Goal_attempts_a</th>\n",
              "      <th>Attacks_h</th>\n",
              "      <th>Attacks_a</th>\n",
              "      <th>Dangerous_attacks_h</th>\n",
              "      <th>Dangerous_attacks_a</th>\n",
              "    </tr>\n",
              "  </thead>\n",
              "  <tbody>\n",
              "    <tr>\n",
              "      <th>0</th>\n",
              "      <td>Toronto FC</td>\n",
              "      <td>0</td>\n",
              "      <td>2</td>\n",
              "      <td>Columbus Crew</td>\n",
              "      <td>AWAY</td>\n",
              "      <td>AWAY</td>\n",
              "      <td>1.55</td>\n",
              "      <td>4.15</td>\n",
              "      <td>5.75</td>\n",
              "      <td>0.58</td>\n",
              "      <td>0.42</td>\n",
              "      <td>13.0</td>\n",
              "      <td>12.0</td>\n",
              "      <td>82.0</td>\n",
              "      <td>83.0</td>\n",
              "      <td>75.0</td>\n",
              "      <td>54.0</td>\n",
              "    </tr>\n",
              "    <tr>\n",
              "      <th>1</th>\n",
              "      <td>Houston Dynamo</td>\n",
              "      <td>4</td>\n",
              "      <td>0</td>\n",
              "      <td>Atlanta Utd</td>\n",
              "      <td>HOME</td>\n",
              "      <td>HOME</td>\n",
              "      <td>2.55</td>\n",
              "      <td>3.45</td>\n",
              "      <td>2.65</td>\n",
              "      <td>0.41</td>\n",
              "      <td>0.59</td>\n",
              "      <td>13.0</td>\n",
              "      <td>13.0</td>\n",
              "      <td>0.0</td>\n",
              "      <td>0.0</td>\n",
              "      <td>0.0</td>\n",
              "      <td>0.0</td>\n",
              "    </tr>\n",
              "    <tr>\n",
              "      <th>2</th>\n",
              "      <td>Philadelphia Union</td>\n",
              "      <td>2</td>\n",
              "      <td>0</td>\n",
              "      <td>New England Revolution</td>\n",
              "      <td>HOME</td>\n",
              "      <td>HOME</td>\n",
              "      <td>1.93</td>\n",
              "      <td>3.50</td>\n",
              "      <td>3.90</td>\n",
              "      <td>0.64</td>\n",
              "      <td>0.36</td>\n",
              "      <td>21.0</td>\n",
              "      <td>8.0</td>\n",
              "      <td>0.0</td>\n",
              "      <td>0.0</td>\n",
              "      <td>0.0</td>\n",
              "      <td>0.0</td>\n",
              "    </tr>\n",
              "    <tr>\n",
              "      <th>3</th>\n",
              "      <td>Orlando City</td>\n",
              "      <td>1</td>\n",
              "      <td>1</td>\n",
              "      <td>DC United</td>\n",
              "      <td>HOME</td>\n",
              "      <td>DRAW</td>\n",
              "      <td>2.25</td>\n",
              "      <td>3.50</td>\n",
              "      <td>3.05</td>\n",
              "      <td>0.59</td>\n",
              "      <td>0.41</td>\n",
              "      <td>12.0</td>\n",
              "      <td>14.0</td>\n",
              "      <td>116.0</td>\n",
              "      <td>77.0</td>\n",
              "      <td>77.0</td>\n",
              "      <td>63.0</td>\n",
              "    </tr>\n",
              "    <tr>\n",
              "      <th>4</th>\n",
              "      <td>FC Dallas</td>\n",
              "      <td>1</td>\n",
              "      <td>1</td>\n",
              "      <td>Real Salt Lake</td>\n",
              "      <td>HOME</td>\n",
              "      <td>DRAW</td>\n",
              "      <td>1.70</td>\n",
              "      <td>3.90</td>\n",
              "      <td>4.75</td>\n",
              "      <td>0.53</td>\n",
              "      <td>0.47</td>\n",
              "      <td>18.0</td>\n",
              "      <td>9.0</td>\n",
              "      <td>105.0</td>\n",
              "      <td>100.0</td>\n",
              "      <td>68.0</td>\n",
              "      <td>31.0</td>\n",
              "    </tr>\n",
              "  </tbody>\n",
              "</table>\n",
              "</div>\n",
              "      <button class=\"colab-df-convert\" onclick=\"convertToInteractive('df-121d4d13-24d8-4227-ab0d-76cdcbfb539b')\"\n",
              "              title=\"Convert this dataframe to an interactive table.\"\n",
              "              style=\"display:none;\">\n",
              "        \n",
              "  <svg xmlns=\"http://www.w3.org/2000/svg\" height=\"24px\"viewBox=\"0 0 24 24\"\n",
              "       width=\"24px\">\n",
              "    <path d=\"M0 0h24v24H0V0z\" fill=\"none\"/>\n",
              "    <path d=\"M18.56 5.44l.94 2.06.94-2.06 2.06-.94-2.06-.94-.94-2.06-.94 2.06-2.06.94zm-11 1L8.5 8.5l.94-2.06 2.06-.94-2.06-.94L8.5 2.5l-.94 2.06-2.06.94zm10 10l.94 2.06.94-2.06 2.06-.94-2.06-.94-.94-2.06-.94 2.06-2.06.94z\"/><path d=\"M17.41 7.96l-1.37-1.37c-.4-.4-.92-.59-1.43-.59-.52 0-1.04.2-1.43.59L10.3 9.45l-7.72 7.72c-.78.78-.78 2.05 0 2.83L4 21.41c.39.39.9.59 1.41.59.51 0 1.02-.2 1.41-.59l7.78-7.78 2.81-2.81c.8-.78.8-2.07 0-2.86zM5.41 20L4 18.59l7.72-7.72 1.47 1.35L5.41 20z\"/>\n",
              "  </svg>\n",
              "      </button>\n",
              "      \n",
              "  <style>\n",
              "    .colab-df-container {\n",
              "      display:flex;\n",
              "      flex-wrap:wrap;\n",
              "      gap: 12px;\n",
              "    }\n",
              "\n",
              "    .colab-df-convert {\n",
              "      background-color: #E8F0FE;\n",
              "      border: none;\n",
              "      border-radius: 50%;\n",
              "      cursor: pointer;\n",
              "      display: none;\n",
              "      fill: #1967D2;\n",
              "      height: 32px;\n",
              "      padding: 0 0 0 0;\n",
              "      width: 32px;\n",
              "    }\n",
              "\n",
              "    .colab-df-convert:hover {\n",
              "      background-color: #E2EBFA;\n",
              "      box-shadow: 0px 1px 2px rgba(60, 64, 67, 0.3), 0px 1px 3px 1px rgba(60, 64, 67, 0.15);\n",
              "      fill: #174EA6;\n",
              "    }\n",
              "\n",
              "    [theme=dark] .colab-df-convert {\n",
              "      background-color: #3B4455;\n",
              "      fill: #D2E3FC;\n",
              "    }\n",
              "\n",
              "    [theme=dark] .colab-df-convert:hover {\n",
              "      background-color: #434B5C;\n",
              "      box-shadow: 0px 1px 3px 1px rgba(0, 0, 0, 0.15);\n",
              "      filter: drop-shadow(0px 1px 2px rgba(0, 0, 0, 0.3));\n",
              "      fill: #FFFFFF;\n",
              "    }\n",
              "  </style>\n",
              "\n",
              "      <script>\n",
              "        const buttonEl =\n",
              "          document.querySelector('#df-121d4d13-24d8-4227-ab0d-76cdcbfb539b button.colab-df-convert');\n",
              "        buttonEl.style.display =\n",
              "          google.colab.kernel.accessAllowed ? 'block' : 'none';\n",
              "\n",
              "        async function convertToInteractive(key) {\n",
              "          const element = document.querySelector('#df-121d4d13-24d8-4227-ab0d-76cdcbfb539b');\n",
              "          const dataTable =\n",
              "            await google.colab.kernel.invokeFunction('convertToInteractive',\n",
              "                                                     [key], {});\n",
              "          if (!dataTable) return;\n",
              "\n",
              "          const docLinkHtml = 'Like what you see? Visit the ' +\n",
              "            '<a target=\"_blank\" href=https://colab.research.google.com/notebooks/data_table.ipynb>data table notebook</a>'\n",
              "            + ' to learn more about interactive tables.';\n",
              "          element.innerHTML = '';\n",
              "          dataTable['output_type'] = 'display_data';\n",
              "          await google.colab.output.renderOutput(dataTable, element);\n",
              "          const docLink = document.createElement('div');\n",
              "          docLink.innerHTML = docLinkHtml;\n",
              "          element.appendChild(docLink);\n",
              "        }\n",
              "      </script>\n",
              "    </div>\n",
              "  </div>\n",
              "  "
            ]
          },
          "metadata": {},
          "execution_count": 4
        }
      ],
      "source": [
        "data_soccer.head()"
      ]
    },
    {
      "cell_type": "markdown",
      "id": "7bd2eafb",
      "metadata": {
        "id": "7bd2eafb"
      },
      "source": [
        "#### Now we will use the .info() function of pandas that will show relevant information about the whole data set. Like number of entries, the total of columns, the type of the data, the size of the data set, if there is any null value and the name of the columns."
      ]
    },
    {
      "cell_type": "code",
      "execution_count": null,
      "id": "1f20e849",
      "metadata": {
        "colab": {
          "base_uri": "https://localhost:8080/"
        },
        "id": "1f20e849",
        "outputId": "7bac2528-152d-41d6-9e6b-50a27757db24"
      },
      "outputs": [
        {
          "output_type": "stream",
          "name": "stdout",
          "text": [
            "<class 'pandas.core.frame.DataFrame'>\n",
            "RangeIndex: 10323 entries, 0 to 10322\n",
            "Data columns (total 17 columns):\n",
            " #   Column               Non-Null Count  Dtype  \n",
            "---  ------               --------------  -----  \n",
            " 0   Home_team            10323 non-null  object \n",
            " 1   Score_Home_Team      10323 non-null  int64  \n",
            " 2   Score_Away_Team      10323 non-null  int64  \n",
            " 3   Away_team            10323 non-null  object \n",
            " 4   FAVORITE             10292 non-null  object \n",
            " 5   RESULTS              10314 non-null  object \n",
            " 6   Home_odd             10319 non-null  float64\n",
            " 7   Draw_odd             10198 non-null  float64\n",
            " 8   Away_odd             10319 non-null  float64\n",
            " 9   Ball_possession_h    9768 non-null   float64\n",
            " 10  Ball_possession_a    9768 non-null   float64\n",
            " 11  Goal_attempts_h      9769 non-null   float64\n",
            " 12  Goal_attempts_a      9769 non-null   float64\n",
            " 13  Attacks_h            9714 non-null   float64\n",
            " 14  Attacks_a            9714 non-null   float64\n",
            " 15  Dangerous_attacks_h  9713 non-null   float64\n",
            " 16  Dangerous_attacks_a  9713 non-null   float64\n",
            "dtypes: float64(11), int64(2), object(4)\n",
            "memory usage: 1.3+ MB\n"
          ]
        }
      ],
      "source": [
        "data_soccer.info()"
      ]
    },
    {
      "cell_type": "markdown",
      "id": "c8649166",
      "metadata": {
        "id": "c8649166"
      },
      "source": [
        "#### Using the function .describe(include=object), pandas will count and give information about the categorical data. It will include only objects."
      ]
    },
    {
      "cell_type": "code",
      "execution_count": null,
      "id": "230bc3e1",
      "metadata": {
        "colab": {
          "base_uri": "https://localhost:8080/",
          "height": 175
        },
        "id": "230bc3e1",
        "outputId": "68a08265-125f-438c-8b09-eb75989a9b96"
      },
      "outputs": [
        {
          "output_type": "execute_result",
          "data": {
            "text/plain": [
              "            Home_team Away_team FAVORITE RESULTS\n",
              "count           10323     10323    10292   10314\n",
              "unique            361       360        2       3\n",
              "top     Sheffield Utd  Millwall     HOME    HOME\n",
              "freq               46        46     5604    4684"
            ],
            "text/html": [
              "\n",
              "  <div id=\"df-93bdcd80-a976-4d83-a72f-d425b3714b53\">\n",
              "    <div class=\"colab-df-container\">\n",
              "      <div>\n",
              "<style scoped>\n",
              "    .dataframe tbody tr th:only-of-type {\n",
              "        vertical-align: middle;\n",
              "    }\n",
              "\n",
              "    .dataframe tbody tr th {\n",
              "        vertical-align: top;\n",
              "    }\n",
              "\n",
              "    .dataframe thead th {\n",
              "        text-align: right;\n",
              "    }\n",
              "</style>\n",
              "<table border=\"1\" class=\"dataframe\">\n",
              "  <thead>\n",
              "    <tr style=\"text-align: right;\">\n",
              "      <th></th>\n",
              "      <th>Home_team</th>\n",
              "      <th>Away_team</th>\n",
              "      <th>FAVORITE</th>\n",
              "      <th>RESULTS</th>\n",
              "    </tr>\n",
              "  </thead>\n",
              "  <tbody>\n",
              "    <tr>\n",
              "      <th>count</th>\n",
              "      <td>10323</td>\n",
              "      <td>10323</td>\n",
              "      <td>10292</td>\n",
              "      <td>10314</td>\n",
              "    </tr>\n",
              "    <tr>\n",
              "      <th>unique</th>\n",
              "      <td>361</td>\n",
              "      <td>360</td>\n",
              "      <td>2</td>\n",
              "      <td>3</td>\n",
              "    </tr>\n",
              "    <tr>\n",
              "      <th>top</th>\n",
              "      <td>Sheffield Utd</td>\n",
              "      <td>Millwall</td>\n",
              "      <td>HOME</td>\n",
              "      <td>HOME</td>\n",
              "    </tr>\n",
              "    <tr>\n",
              "      <th>freq</th>\n",
              "      <td>46</td>\n",
              "      <td>46</td>\n",
              "      <td>5604</td>\n",
              "      <td>4684</td>\n",
              "    </tr>\n",
              "  </tbody>\n",
              "</table>\n",
              "</div>\n",
              "      <button class=\"colab-df-convert\" onclick=\"convertToInteractive('df-93bdcd80-a976-4d83-a72f-d425b3714b53')\"\n",
              "              title=\"Convert this dataframe to an interactive table.\"\n",
              "              style=\"display:none;\">\n",
              "        \n",
              "  <svg xmlns=\"http://www.w3.org/2000/svg\" height=\"24px\"viewBox=\"0 0 24 24\"\n",
              "       width=\"24px\">\n",
              "    <path d=\"M0 0h24v24H0V0z\" fill=\"none\"/>\n",
              "    <path d=\"M18.56 5.44l.94 2.06.94-2.06 2.06-.94-2.06-.94-.94-2.06-.94 2.06-2.06.94zm-11 1L8.5 8.5l.94-2.06 2.06-.94-2.06-.94L8.5 2.5l-.94 2.06-2.06.94zm10 10l.94 2.06.94-2.06 2.06-.94-2.06-.94-.94-2.06-.94 2.06-2.06.94z\"/><path d=\"M17.41 7.96l-1.37-1.37c-.4-.4-.92-.59-1.43-.59-.52 0-1.04.2-1.43.59L10.3 9.45l-7.72 7.72c-.78.78-.78 2.05 0 2.83L4 21.41c.39.39.9.59 1.41.59.51 0 1.02-.2 1.41-.59l7.78-7.78 2.81-2.81c.8-.78.8-2.07 0-2.86zM5.41 20L4 18.59l7.72-7.72 1.47 1.35L5.41 20z\"/>\n",
              "  </svg>\n",
              "      </button>\n",
              "      \n",
              "  <style>\n",
              "    .colab-df-container {\n",
              "      display:flex;\n",
              "      flex-wrap:wrap;\n",
              "      gap: 12px;\n",
              "    }\n",
              "\n",
              "    .colab-df-convert {\n",
              "      background-color: #E8F0FE;\n",
              "      border: none;\n",
              "      border-radius: 50%;\n",
              "      cursor: pointer;\n",
              "      display: none;\n",
              "      fill: #1967D2;\n",
              "      height: 32px;\n",
              "      padding: 0 0 0 0;\n",
              "      width: 32px;\n",
              "    }\n",
              "\n",
              "    .colab-df-convert:hover {\n",
              "      background-color: #E2EBFA;\n",
              "      box-shadow: 0px 1px 2px rgba(60, 64, 67, 0.3), 0px 1px 3px 1px rgba(60, 64, 67, 0.15);\n",
              "      fill: #174EA6;\n",
              "    }\n",
              "\n",
              "    [theme=dark] .colab-df-convert {\n",
              "      background-color: #3B4455;\n",
              "      fill: #D2E3FC;\n",
              "    }\n",
              "\n",
              "    [theme=dark] .colab-df-convert:hover {\n",
              "      background-color: #434B5C;\n",
              "      box-shadow: 0px 1px 3px 1px rgba(0, 0, 0, 0.15);\n",
              "      filter: drop-shadow(0px 1px 2px rgba(0, 0, 0, 0.3));\n",
              "      fill: #FFFFFF;\n",
              "    }\n",
              "  </style>\n",
              "\n",
              "      <script>\n",
              "        const buttonEl =\n",
              "          document.querySelector('#df-93bdcd80-a976-4d83-a72f-d425b3714b53 button.colab-df-convert');\n",
              "        buttonEl.style.display =\n",
              "          google.colab.kernel.accessAllowed ? 'block' : 'none';\n",
              "\n",
              "        async function convertToInteractive(key) {\n",
              "          const element = document.querySelector('#df-93bdcd80-a976-4d83-a72f-d425b3714b53');\n",
              "          const dataTable =\n",
              "            await google.colab.kernel.invokeFunction('convertToInteractive',\n",
              "                                                     [key], {});\n",
              "          if (!dataTable) return;\n",
              "\n",
              "          const docLinkHtml = 'Like what you see? Visit the ' +\n",
              "            '<a target=\"_blank\" href=https://colab.research.google.com/notebooks/data_table.ipynb>data table notebook</a>'\n",
              "            + ' to learn more about interactive tables.';\n",
              "          element.innerHTML = '';\n",
              "          dataTable['output_type'] = 'display_data';\n",
              "          await google.colab.output.renderOutput(dataTable, element);\n",
              "          const docLink = document.createElement('div');\n",
              "          docLink.innerHTML = docLinkHtml;\n",
              "          element.appendChild(docLink);\n",
              "        }\n",
              "      </script>\n",
              "    </div>\n",
              "  </div>\n",
              "  "
            ]
          },
          "metadata": {},
          "execution_count": 6
        }
      ],
      "source": [
        "data_soccer.describe(include=object)"
      ]
    },
    {
      "cell_type": "markdown",
      "id": "7da19e32",
      "metadata": {
        "id": "7da19e32"
      },
      "source": [
        "#### Now, the function .describe(), pandas will count and give information about the columns that have integer and float numbers, as well as the 5 number summary(min, Q1, median, Q3 and max) as shown below."
      ]
    },
    {
      "cell_type": "code",
      "execution_count": null,
      "id": "286a37a7",
      "metadata": {
        "colab": {
          "base_uri": "https://localhost:8080/",
          "height": 364
        },
        "id": "286a37a7",
        "outputId": "2ee63ed4-a11e-4bb9-da57-7bac4c8af174"
      },
      "outputs": [
        {
          "output_type": "execute_result",
          "data": {
            "text/plain": [
              "       Score_Home_Team  Score_Away_Team      Home_odd      Draw_odd  \\\n",
              "count     10323.000000     10323.000000  10319.000000  10198.000000   \n",
              "mean          1.554199         1.185508      2.630860      3.958948   \n",
              "std           1.295231         1.138439      1.816506      1.250097   \n",
              "min           0.000000         0.000000      0.000000      2.370000   \n",
              "25%           1.000000         0.000000      1.700000      3.300000   \n",
              "50%           1.000000         1.000000      2.170000      3.600000   \n",
              "75%           2.000000         2.000000      2.850000      4.000000   \n",
              "max          10.000000         8.000000     27.000000     23.000000   \n",
              "\n",
              "           Away_odd  Ball_possession_h  Ball_possession_a  Goal_attempts_h  \\\n",
              "count  10319.000000        9768.000000        9768.000000      9769.000000   \n",
              "mean       4.396789           0.522566           0.489415        13.461972   \n",
              "std        3.739598           0.168296           0.145411         5.216721   \n",
              "min        0.000000           0.000000           0.000000         0.000000   \n",
              "25%        2.500000           0.450000           0.420000        10.000000   \n",
              "50%        3.350000           0.520000           0.480000        13.000000   \n",
              "75%        4.850000           0.580000           0.550000        17.000000   \n",
              "max       51.000000           4.000000           4.000000        40.000000   \n",
              "\n",
              "       Goal_attempts_a    Attacks_h    Attacks_a  Dangerous_attacks_h  \\\n",
              "count      9769.000000  9714.000000  9714.000000          9713.000000   \n",
              "mean         10.840209   101.690344    95.046119            56.452486   \n",
              "std           4.607168    29.685389    27.939009            22.450638   \n",
              "min           0.000000     0.000000     0.000000             0.000000   \n",
              "25%           8.000000    86.000000    80.000000            41.000000   \n",
              "50%          10.000000   102.000000    96.000000            55.000000   \n",
              "75%          14.000000   120.000000   112.000000            71.000000   \n",
              "max          34.000000   221.000000   202.000000           165.000000   \n",
              "\n",
              "       Dangerous_attacks_a  \n",
              "count          9713.000000  \n",
              "mean             47.994235  \n",
              "std              20.003062  \n",
              "min               0.000000  \n",
              "25%              34.000000  \n",
              "50%              46.000000  \n",
              "75%              60.000000  \n",
              "max             148.000000  "
            ],
            "text/html": [
              "\n",
              "  <div id=\"df-1cfb2675-ad26-448d-a2a0-57df9187b4dc\">\n",
              "    <div class=\"colab-df-container\">\n",
              "      <div>\n",
              "<style scoped>\n",
              "    .dataframe tbody tr th:only-of-type {\n",
              "        vertical-align: middle;\n",
              "    }\n",
              "\n",
              "    .dataframe tbody tr th {\n",
              "        vertical-align: top;\n",
              "    }\n",
              "\n",
              "    .dataframe thead th {\n",
              "        text-align: right;\n",
              "    }\n",
              "</style>\n",
              "<table border=\"1\" class=\"dataframe\">\n",
              "  <thead>\n",
              "    <tr style=\"text-align: right;\">\n",
              "      <th></th>\n",
              "      <th>Score_Home_Team</th>\n",
              "      <th>Score_Away_Team</th>\n",
              "      <th>Home_odd</th>\n",
              "      <th>Draw_odd</th>\n",
              "      <th>Away_odd</th>\n",
              "      <th>Ball_possession_h</th>\n",
              "      <th>Ball_possession_a</th>\n",
              "      <th>Goal_attempts_h</th>\n",
              "      <th>Goal_attempts_a</th>\n",
              "      <th>Attacks_h</th>\n",
              "      <th>Attacks_a</th>\n",
              "      <th>Dangerous_attacks_h</th>\n",
              "      <th>Dangerous_attacks_a</th>\n",
              "    </tr>\n",
              "  </thead>\n",
              "  <tbody>\n",
              "    <tr>\n",
              "      <th>count</th>\n",
              "      <td>10323.000000</td>\n",
              "      <td>10323.000000</td>\n",
              "      <td>10319.000000</td>\n",
              "      <td>10198.000000</td>\n",
              "      <td>10319.000000</td>\n",
              "      <td>9768.000000</td>\n",
              "      <td>9768.000000</td>\n",
              "      <td>9769.000000</td>\n",
              "      <td>9769.000000</td>\n",
              "      <td>9714.000000</td>\n",
              "      <td>9714.000000</td>\n",
              "      <td>9713.000000</td>\n",
              "      <td>9713.000000</td>\n",
              "    </tr>\n",
              "    <tr>\n",
              "      <th>mean</th>\n",
              "      <td>1.554199</td>\n",
              "      <td>1.185508</td>\n",
              "      <td>2.630860</td>\n",
              "      <td>3.958948</td>\n",
              "      <td>4.396789</td>\n",
              "      <td>0.522566</td>\n",
              "      <td>0.489415</td>\n",
              "      <td>13.461972</td>\n",
              "      <td>10.840209</td>\n",
              "      <td>101.690344</td>\n",
              "      <td>95.046119</td>\n",
              "      <td>56.452486</td>\n",
              "      <td>47.994235</td>\n",
              "    </tr>\n",
              "    <tr>\n",
              "      <th>std</th>\n",
              "      <td>1.295231</td>\n",
              "      <td>1.138439</td>\n",
              "      <td>1.816506</td>\n",
              "      <td>1.250097</td>\n",
              "      <td>3.739598</td>\n",
              "      <td>0.168296</td>\n",
              "      <td>0.145411</td>\n",
              "      <td>5.216721</td>\n",
              "      <td>4.607168</td>\n",
              "      <td>29.685389</td>\n",
              "      <td>27.939009</td>\n",
              "      <td>22.450638</td>\n",
              "      <td>20.003062</td>\n",
              "    </tr>\n",
              "    <tr>\n",
              "      <th>min</th>\n",
              "      <td>0.000000</td>\n",
              "      <td>0.000000</td>\n",
              "      <td>0.000000</td>\n",
              "      <td>2.370000</td>\n",
              "      <td>0.000000</td>\n",
              "      <td>0.000000</td>\n",
              "      <td>0.000000</td>\n",
              "      <td>0.000000</td>\n",
              "      <td>0.000000</td>\n",
              "      <td>0.000000</td>\n",
              "      <td>0.000000</td>\n",
              "      <td>0.000000</td>\n",
              "      <td>0.000000</td>\n",
              "    </tr>\n",
              "    <tr>\n",
              "      <th>25%</th>\n",
              "      <td>1.000000</td>\n",
              "      <td>0.000000</td>\n",
              "      <td>1.700000</td>\n",
              "      <td>3.300000</td>\n",
              "      <td>2.500000</td>\n",
              "      <td>0.450000</td>\n",
              "      <td>0.420000</td>\n",
              "      <td>10.000000</td>\n",
              "      <td>8.000000</td>\n",
              "      <td>86.000000</td>\n",
              "      <td>80.000000</td>\n",
              "      <td>41.000000</td>\n",
              "      <td>34.000000</td>\n",
              "    </tr>\n",
              "    <tr>\n",
              "      <th>50%</th>\n",
              "      <td>1.000000</td>\n",
              "      <td>1.000000</td>\n",
              "      <td>2.170000</td>\n",
              "      <td>3.600000</td>\n",
              "      <td>3.350000</td>\n",
              "      <td>0.520000</td>\n",
              "      <td>0.480000</td>\n",
              "      <td>13.000000</td>\n",
              "      <td>10.000000</td>\n",
              "      <td>102.000000</td>\n",
              "      <td>96.000000</td>\n",
              "      <td>55.000000</td>\n",
              "      <td>46.000000</td>\n",
              "    </tr>\n",
              "    <tr>\n",
              "      <th>75%</th>\n",
              "      <td>2.000000</td>\n",
              "      <td>2.000000</td>\n",
              "      <td>2.850000</td>\n",
              "      <td>4.000000</td>\n",
              "      <td>4.850000</td>\n",
              "      <td>0.580000</td>\n",
              "      <td>0.550000</td>\n",
              "      <td>17.000000</td>\n",
              "      <td>14.000000</td>\n",
              "      <td>120.000000</td>\n",
              "      <td>112.000000</td>\n",
              "      <td>71.000000</td>\n",
              "      <td>60.000000</td>\n",
              "    </tr>\n",
              "    <tr>\n",
              "      <th>max</th>\n",
              "      <td>10.000000</td>\n",
              "      <td>8.000000</td>\n",
              "      <td>27.000000</td>\n",
              "      <td>23.000000</td>\n",
              "      <td>51.000000</td>\n",
              "      <td>4.000000</td>\n",
              "      <td>4.000000</td>\n",
              "      <td>40.000000</td>\n",
              "      <td>34.000000</td>\n",
              "      <td>221.000000</td>\n",
              "      <td>202.000000</td>\n",
              "      <td>165.000000</td>\n",
              "      <td>148.000000</td>\n",
              "    </tr>\n",
              "  </tbody>\n",
              "</table>\n",
              "</div>\n",
              "      <button class=\"colab-df-convert\" onclick=\"convertToInteractive('df-1cfb2675-ad26-448d-a2a0-57df9187b4dc')\"\n",
              "              title=\"Convert this dataframe to an interactive table.\"\n",
              "              style=\"display:none;\">\n",
              "        \n",
              "  <svg xmlns=\"http://www.w3.org/2000/svg\" height=\"24px\"viewBox=\"0 0 24 24\"\n",
              "       width=\"24px\">\n",
              "    <path d=\"M0 0h24v24H0V0z\" fill=\"none\"/>\n",
              "    <path d=\"M18.56 5.44l.94 2.06.94-2.06 2.06-.94-2.06-.94-.94-2.06-.94 2.06-2.06.94zm-11 1L8.5 8.5l.94-2.06 2.06-.94-2.06-.94L8.5 2.5l-.94 2.06-2.06.94zm10 10l.94 2.06.94-2.06 2.06-.94-2.06-.94-.94-2.06-.94 2.06-2.06.94z\"/><path d=\"M17.41 7.96l-1.37-1.37c-.4-.4-.92-.59-1.43-.59-.52 0-1.04.2-1.43.59L10.3 9.45l-7.72 7.72c-.78.78-.78 2.05 0 2.83L4 21.41c.39.39.9.59 1.41.59.51 0 1.02-.2 1.41-.59l7.78-7.78 2.81-2.81c.8-.78.8-2.07 0-2.86zM5.41 20L4 18.59l7.72-7.72 1.47 1.35L5.41 20z\"/>\n",
              "  </svg>\n",
              "      </button>\n",
              "      \n",
              "  <style>\n",
              "    .colab-df-container {\n",
              "      display:flex;\n",
              "      flex-wrap:wrap;\n",
              "      gap: 12px;\n",
              "    }\n",
              "\n",
              "    .colab-df-convert {\n",
              "      background-color: #E8F0FE;\n",
              "      border: none;\n",
              "      border-radius: 50%;\n",
              "      cursor: pointer;\n",
              "      display: none;\n",
              "      fill: #1967D2;\n",
              "      height: 32px;\n",
              "      padding: 0 0 0 0;\n",
              "      width: 32px;\n",
              "    }\n",
              "\n",
              "    .colab-df-convert:hover {\n",
              "      background-color: #E2EBFA;\n",
              "      box-shadow: 0px 1px 2px rgba(60, 64, 67, 0.3), 0px 1px 3px 1px rgba(60, 64, 67, 0.15);\n",
              "      fill: #174EA6;\n",
              "    }\n",
              "\n",
              "    [theme=dark] .colab-df-convert {\n",
              "      background-color: #3B4455;\n",
              "      fill: #D2E3FC;\n",
              "    }\n",
              "\n",
              "    [theme=dark] .colab-df-convert:hover {\n",
              "      background-color: #434B5C;\n",
              "      box-shadow: 0px 1px 3px 1px rgba(0, 0, 0, 0.15);\n",
              "      filter: drop-shadow(0px 1px 2px rgba(0, 0, 0, 0.3));\n",
              "      fill: #FFFFFF;\n",
              "    }\n",
              "  </style>\n",
              "\n",
              "      <script>\n",
              "        const buttonEl =\n",
              "          document.querySelector('#df-1cfb2675-ad26-448d-a2a0-57df9187b4dc button.colab-df-convert');\n",
              "        buttonEl.style.display =\n",
              "          google.colab.kernel.accessAllowed ? 'block' : 'none';\n",
              "\n",
              "        async function convertToInteractive(key) {\n",
              "          const element = document.querySelector('#df-1cfb2675-ad26-448d-a2a0-57df9187b4dc');\n",
              "          const dataTable =\n",
              "            await google.colab.kernel.invokeFunction('convertToInteractive',\n",
              "                                                     [key], {});\n",
              "          if (!dataTable) return;\n",
              "\n",
              "          const docLinkHtml = 'Like what you see? Visit the ' +\n",
              "            '<a target=\"_blank\" href=https://colab.research.google.com/notebooks/data_table.ipynb>data table notebook</a>'\n",
              "            + ' to learn more about interactive tables.';\n",
              "          element.innerHTML = '';\n",
              "          dataTable['output_type'] = 'display_data';\n",
              "          await google.colab.output.renderOutput(dataTable, element);\n",
              "          const docLink = document.createElement('div');\n",
              "          docLink.innerHTML = docLinkHtml;\n",
              "          element.appendChild(docLink);\n",
              "        }\n",
              "      </script>\n",
              "    </div>\n",
              "  </div>\n",
              "  "
            ]
          },
          "metadata": {},
          "execution_count": 7
        }
      ],
      "source": [
        "data_soccer.describe()"
      ]
    },
    {
      "cell_type": "markdown",
      "id": "857b0670",
      "metadata": {
        "id": "857b0670"
      },
      "source": [
        "#### The .shape() function is used to show the number of rows and columns."
      ]
    },
    {
      "cell_type": "code",
      "execution_count": null,
      "id": "99b3cca0",
      "metadata": {
        "colab": {
          "base_uri": "https://localhost:8080/"
        },
        "id": "99b3cca0",
        "outputId": "56daa98e-ed5b-4bd1-f4b1-10be867d878a"
      },
      "outputs": [
        {
          "output_type": "execute_result",
          "data": {
            "text/plain": [
              "(10323, 17)"
            ]
          },
          "metadata": {},
          "execution_count": 8
        }
      ],
      "source": [
        "data_soccer.shape"
      ]
    },
    {
      "cell_type": "markdown",
      "id": "15cde5ca",
      "metadata": {
        "id": "15cde5ca"
      },
      "source": [
        "#### When we use the code below, it will appear the number of entries per column, and it is easy to spot columns with no values."
      ]
    },
    {
      "cell_type": "code",
      "execution_count": null,
      "id": "6b317d1a",
      "metadata": {
        "colab": {
          "base_uri": "https://localhost:8080/"
        },
        "id": "6b317d1a",
        "outputId": "55c43f13-9fbf-43ca-92bc-7f1a43dd3c7a"
      },
      "outputs": [
        {
          "output_type": "execute_result",
          "data": {
            "text/plain": [
              "Home_team              10323\n",
              "Score_Home_Team        10323\n",
              "Score_Away_Team        10323\n",
              "Away_team              10323\n",
              "FAVORITE               10292\n",
              "RESULTS                10314\n",
              "Home_odd               10319\n",
              "Draw_odd               10198\n",
              "Away_odd               10319\n",
              "Ball_possession_h       9768\n",
              "Ball_possession_a       9768\n",
              "Goal_attempts_h         9769\n",
              "Goal_attempts_a         9769\n",
              "Attacks_h               9714\n",
              "Attacks_a               9714\n",
              "Dangerous_attacks_h     9713\n",
              "Dangerous_attacks_a     9713\n",
              "dtype: int64"
            ]
          },
          "metadata": {},
          "execution_count": 9
        }
      ],
      "source": [
        "data_soccer.count()"
      ]
    },
    {
      "cell_type": "markdown",
      "id": "5f9b171a",
      "metadata": {
        "id": "5f9b171a"
      },
      "source": [
        "#### We can check how many columns have missing values and the exact amount of it per column."
      ]
    },
    {
      "cell_type": "code",
      "execution_count": null,
      "id": "3a5f7b0c",
      "metadata": {
        "colab": {
          "base_uri": "https://localhost:8080/"
        },
        "id": "3a5f7b0c",
        "outputId": "c50f2b12-005c-428a-b767-6802534136c8"
      },
      "outputs": [
        {
          "output_type": "execute_result",
          "data": {
            "text/plain": [
              "Home_team                0\n",
              "Score_Home_Team          0\n",
              "Score_Away_Team          0\n",
              "Away_team                0\n",
              "FAVORITE                31\n",
              "RESULTS                  9\n",
              "Home_odd                 4\n",
              "Draw_odd               125\n",
              "Away_odd                 4\n",
              "Ball_possession_h      555\n",
              "Ball_possession_a      555\n",
              "Goal_attempts_h        554\n",
              "Goal_attempts_a        554\n",
              "Attacks_h              609\n",
              "Attacks_a              609\n",
              "Dangerous_attacks_h    610\n",
              "Dangerous_attacks_a    610\n",
              "dtype: int64"
            ]
          },
          "metadata": {},
          "execution_count": 10
        }
      ],
      "source": [
        "data_soccer.isnull().sum()"
      ]
    },
    {
      "cell_type": "markdown",
      "id": "cd9fe4e2",
      "metadata": {
        "id": "cd9fe4e2"
      },
      "source": [
        "#### Knowing that we have some rows without values, we can drop these rows to make other analysis better and more accurate. "
      ]
    },
    {
      "cell_type": "code",
      "execution_count": null,
      "id": "4f7165af",
      "metadata": {
        "id": "4f7165af"
      },
      "outputs": [],
      "source": [
        "data_soccer = data_soccer.dropna(axis=0)"
      ]
    },
    {
      "cell_type": "code",
      "execution_count": null,
      "id": "524f222d",
      "metadata": {
        "colab": {
          "base_uri": "https://localhost:8080/"
        },
        "id": "524f222d",
        "outputId": "1d0498ae-e636-4177-bfba-7362fe173666"
      },
      "outputs": [
        {
          "output_type": "execute_result",
          "data": {
            "text/plain": [
              "Home_team              0\n",
              "Score_Home_Team        0\n",
              "Score_Away_Team        0\n",
              "Away_team              0\n",
              "FAVORITE               0\n",
              "RESULTS                0\n",
              "Home_odd               0\n",
              "Draw_odd               0\n",
              "Away_odd               0\n",
              "Ball_possession_h      0\n",
              "Ball_possession_a      0\n",
              "Goal_attempts_h        0\n",
              "Goal_attempts_a        0\n",
              "Attacks_h              0\n",
              "Attacks_a              0\n",
              "Dangerous_attacks_h    0\n",
              "Dangerous_attacks_a    0\n",
              "dtype: int64"
            ]
          },
          "metadata": {},
          "execution_count": 12
        }
      ],
      "source": [
        "data_soccer.isnull().sum()"
      ]
    },
    {
      "cell_type": "markdown",
      "id": "f9f0d0d1",
      "metadata": {
        "id": "f9f0d0d1"
      },
      "source": [
        "### Now our data is cleaned and ready for further analysis."
      ]
    },
    {
      "cell_type": "markdown",
      "id": "8423e668",
      "metadata": {
        "id": "8423e668"
      },
      "source": [
        "### 3. Pick two different types of variables and calculate \n",
        "\n",
        "        a. their central tendency measures if possible"
      ]
    },
    {
      "cell_type": "code",
      "execution_count": null,
      "id": "0791a358",
      "metadata": {
        "colab": {
          "base_uri": "https://localhost:8080/",
          "height": 374
        },
        "id": "0791a358",
        "outputId": "f88ceba3-e4b5-4a8b-93bd-73e88b7ddd29"
      },
      "outputs": [
        {
          "output_type": "execute_result",
          "data": {
            "text/plain": [
              "            Home_team  Score_Home_Team  Score_Away_Team  \\\n",
              "0          Toronto FC                0                2   \n",
              "1      Houston Dynamo                4                0   \n",
              "2  Philadelphia Union                2                0   \n",
              "3        Orlando City                1                1   \n",
              "4           FC Dallas                1                1   \n",
              "\n",
              "                Away_team FAVORITE RESULTS  Home_odd  Draw_odd  Away_odd  \\\n",
              "0           Columbus Crew     AWAY    AWAY      1.55      4.15      5.75   \n",
              "1             Atlanta Utd     HOME    HOME      2.55      3.45      2.65   \n",
              "2  New England Revolution     HOME    HOME      1.93      3.50      3.90   \n",
              "3               DC United     HOME    DRAW      2.25      3.50      3.05   \n",
              "4          Real Salt Lake     HOME    DRAW      1.70      3.90      4.75   \n",
              "\n",
              "   Ball_possession_h  Ball_possession_a  Goal_attempts_h  Goal_attempts_a  \\\n",
              "0               0.58               0.42             13.0             12.0   \n",
              "1               0.41               0.59             13.0             13.0   \n",
              "2               0.64               0.36             21.0              8.0   \n",
              "3               0.59               0.41             12.0             14.0   \n",
              "4               0.53               0.47             18.0              9.0   \n",
              "\n",
              "   Attacks_h  Attacks_a  Dangerous_attacks_h  Dangerous_attacks_a  \n",
              "0       82.0       83.0                 75.0                 54.0  \n",
              "1        0.0        0.0                  0.0                  0.0  \n",
              "2        0.0        0.0                  0.0                  0.0  \n",
              "3      116.0       77.0                 77.0                 63.0  \n",
              "4      105.0      100.0                 68.0                 31.0  "
            ],
            "text/html": [
              "\n",
              "  <div id=\"df-6277dd0f-db1f-42f1-bc27-9bad4f8c8d7a\">\n",
              "    <div class=\"colab-df-container\">\n",
              "      <div>\n",
              "<style scoped>\n",
              "    .dataframe tbody tr th:only-of-type {\n",
              "        vertical-align: middle;\n",
              "    }\n",
              "\n",
              "    .dataframe tbody tr th {\n",
              "        vertical-align: top;\n",
              "    }\n",
              "\n",
              "    .dataframe thead th {\n",
              "        text-align: right;\n",
              "    }\n",
              "</style>\n",
              "<table border=\"1\" class=\"dataframe\">\n",
              "  <thead>\n",
              "    <tr style=\"text-align: right;\">\n",
              "      <th></th>\n",
              "      <th>Home_team</th>\n",
              "      <th>Score_Home_Team</th>\n",
              "      <th>Score_Away_Team</th>\n",
              "      <th>Away_team</th>\n",
              "      <th>FAVORITE</th>\n",
              "      <th>RESULTS</th>\n",
              "      <th>Home_odd</th>\n",
              "      <th>Draw_odd</th>\n",
              "      <th>Away_odd</th>\n",
              "      <th>Ball_possession_h</th>\n",
              "      <th>Ball_possession_a</th>\n",
              "      <th>Goal_attempts_h</th>\n",
              "      <th>Goal_attempts_a</th>\n",
              "      <th>Attacks_h</th>\n",
              "      <th>Attacks_a</th>\n",
              "      <th>Dangerous_attacks_h</th>\n",
              "      <th>Dangerous_attacks_a</th>\n",
              "    </tr>\n",
              "  </thead>\n",
              "  <tbody>\n",
              "    <tr>\n",
              "      <th>0</th>\n",
              "      <td>Toronto FC</td>\n",
              "      <td>0</td>\n",
              "      <td>2</td>\n",
              "      <td>Columbus Crew</td>\n",
              "      <td>AWAY</td>\n",
              "      <td>AWAY</td>\n",
              "      <td>1.55</td>\n",
              "      <td>4.15</td>\n",
              "      <td>5.75</td>\n",
              "      <td>0.58</td>\n",
              "      <td>0.42</td>\n",
              "      <td>13.0</td>\n",
              "      <td>12.0</td>\n",
              "      <td>82.0</td>\n",
              "      <td>83.0</td>\n",
              "      <td>75.0</td>\n",
              "      <td>54.0</td>\n",
              "    </tr>\n",
              "    <tr>\n",
              "      <th>1</th>\n",
              "      <td>Houston Dynamo</td>\n",
              "      <td>4</td>\n",
              "      <td>0</td>\n",
              "      <td>Atlanta Utd</td>\n",
              "      <td>HOME</td>\n",
              "      <td>HOME</td>\n",
              "      <td>2.55</td>\n",
              "      <td>3.45</td>\n",
              "      <td>2.65</td>\n",
              "      <td>0.41</td>\n",
              "      <td>0.59</td>\n",
              "      <td>13.0</td>\n",
              "      <td>13.0</td>\n",
              "      <td>0.0</td>\n",
              "      <td>0.0</td>\n",
              "      <td>0.0</td>\n",
              "      <td>0.0</td>\n",
              "    </tr>\n",
              "    <tr>\n",
              "      <th>2</th>\n",
              "      <td>Philadelphia Union</td>\n",
              "      <td>2</td>\n",
              "      <td>0</td>\n",
              "      <td>New England Revolution</td>\n",
              "      <td>HOME</td>\n",
              "      <td>HOME</td>\n",
              "      <td>1.93</td>\n",
              "      <td>3.50</td>\n",
              "      <td>3.90</td>\n",
              "      <td>0.64</td>\n",
              "      <td>0.36</td>\n",
              "      <td>21.0</td>\n",
              "      <td>8.0</td>\n",
              "      <td>0.0</td>\n",
              "      <td>0.0</td>\n",
              "      <td>0.0</td>\n",
              "      <td>0.0</td>\n",
              "    </tr>\n",
              "    <tr>\n",
              "      <th>3</th>\n",
              "      <td>Orlando City</td>\n",
              "      <td>1</td>\n",
              "      <td>1</td>\n",
              "      <td>DC United</td>\n",
              "      <td>HOME</td>\n",
              "      <td>DRAW</td>\n",
              "      <td>2.25</td>\n",
              "      <td>3.50</td>\n",
              "      <td>3.05</td>\n",
              "      <td>0.59</td>\n",
              "      <td>0.41</td>\n",
              "      <td>12.0</td>\n",
              "      <td>14.0</td>\n",
              "      <td>116.0</td>\n",
              "      <td>77.0</td>\n",
              "      <td>77.0</td>\n",
              "      <td>63.0</td>\n",
              "    </tr>\n",
              "    <tr>\n",
              "      <th>4</th>\n",
              "      <td>FC Dallas</td>\n",
              "      <td>1</td>\n",
              "      <td>1</td>\n",
              "      <td>Real Salt Lake</td>\n",
              "      <td>HOME</td>\n",
              "      <td>DRAW</td>\n",
              "      <td>1.70</td>\n",
              "      <td>3.90</td>\n",
              "      <td>4.75</td>\n",
              "      <td>0.53</td>\n",
              "      <td>0.47</td>\n",
              "      <td>18.0</td>\n",
              "      <td>9.0</td>\n",
              "      <td>105.0</td>\n",
              "      <td>100.0</td>\n",
              "      <td>68.0</td>\n",
              "      <td>31.0</td>\n",
              "    </tr>\n",
              "  </tbody>\n",
              "</table>\n",
              "</div>\n",
              "      <button class=\"colab-df-convert\" onclick=\"convertToInteractive('df-6277dd0f-db1f-42f1-bc27-9bad4f8c8d7a')\"\n",
              "              title=\"Convert this dataframe to an interactive table.\"\n",
              "              style=\"display:none;\">\n",
              "        \n",
              "  <svg xmlns=\"http://www.w3.org/2000/svg\" height=\"24px\"viewBox=\"0 0 24 24\"\n",
              "       width=\"24px\">\n",
              "    <path d=\"M0 0h24v24H0V0z\" fill=\"none\"/>\n",
              "    <path d=\"M18.56 5.44l.94 2.06.94-2.06 2.06-.94-2.06-.94-.94-2.06-.94 2.06-2.06.94zm-11 1L8.5 8.5l.94-2.06 2.06-.94-2.06-.94L8.5 2.5l-.94 2.06-2.06.94zm10 10l.94 2.06.94-2.06 2.06-.94-2.06-.94-.94-2.06-.94 2.06-2.06.94z\"/><path d=\"M17.41 7.96l-1.37-1.37c-.4-.4-.92-.59-1.43-.59-.52 0-1.04.2-1.43.59L10.3 9.45l-7.72 7.72c-.78.78-.78 2.05 0 2.83L4 21.41c.39.39.9.59 1.41.59.51 0 1.02-.2 1.41-.59l7.78-7.78 2.81-2.81c.8-.78.8-2.07 0-2.86zM5.41 20L4 18.59l7.72-7.72 1.47 1.35L5.41 20z\"/>\n",
              "  </svg>\n",
              "      </button>\n",
              "      \n",
              "  <style>\n",
              "    .colab-df-container {\n",
              "      display:flex;\n",
              "      flex-wrap:wrap;\n",
              "      gap: 12px;\n",
              "    }\n",
              "\n",
              "    .colab-df-convert {\n",
              "      background-color: #E8F0FE;\n",
              "      border: none;\n",
              "      border-radius: 50%;\n",
              "      cursor: pointer;\n",
              "      display: none;\n",
              "      fill: #1967D2;\n",
              "      height: 32px;\n",
              "      padding: 0 0 0 0;\n",
              "      width: 32px;\n",
              "    }\n",
              "\n",
              "    .colab-df-convert:hover {\n",
              "      background-color: #E2EBFA;\n",
              "      box-shadow: 0px 1px 2px rgba(60, 64, 67, 0.3), 0px 1px 3px 1px rgba(60, 64, 67, 0.15);\n",
              "      fill: #174EA6;\n",
              "    }\n",
              "\n",
              "    [theme=dark] .colab-df-convert {\n",
              "      background-color: #3B4455;\n",
              "      fill: #D2E3FC;\n",
              "    }\n",
              "\n",
              "    [theme=dark] .colab-df-convert:hover {\n",
              "      background-color: #434B5C;\n",
              "      box-shadow: 0px 1px 3px 1px rgba(0, 0, 0, 0.15);\n",
              "      filter: drop-shadow(0px 1px 2px rgba(0, 0, 0, 0.3));\n",
              "      fill: #FFFFFF;\n",
              "    }\n",
              "  </style>\n",
              "\n",
              "      <script>\n",
              "        const buttonEl =\n",
              "          document.querySelector('#df-6277dd0f-db1f-42f1-bc27-9bad4f8c8d7a button.colab-df-convert');\n",
              "        buttonEl.style.display =\n",
              "          google.colab.kernel.accessAllowed ? 'block' : 'none';\n",
              "\n",
              "        async function convertToInteractive(key) {\n",
              "          const element = document.querySelector('#df-6277dd0f-db1f-42f1-bc27-9bad4f8c8d7a');\n",
              "          const dataTable =\n",
              "            await google.colab.kernel.invokeFunction('convertToInteractive',\n",
              "                                                     [key], {});\n",
              "          if (!dataTable) return;\n",
              "\n",
              "          const docLinkHtml = 'Like what you see? Visit the ' +\n",
              "            '<a target=\"_blank\" href=https://colab.research.google.com/notebooks/data_table.ipynb>data table notebook</a>'\n",
              "            + ' to learn more about interactive tables.';\n",
              "          element.innerHTML = '';\n",
              "          dataTable['output_type'] = 'display_data';\n",
              "          await google.colab.output.renderOutput(dataTable, element);\n",
              "          const docLink = document.createElement('div');\n",
              "          docLink.innerHTML = docLinkHtml;\n",
              "          element.appendChild(docLink);\n",
              "        }\n",
              "      </script>\n",
              "    </div>\n",
              "  </div>\n",
              "  "
            ]
          },
          "metadata": {},
          "execution_count": 13
        }
      ],
      "source": [
        "data_soccer.head()"
      ]
    },
    {
      "cell_type": "markdown",
      "id": "7f461a0f",
      "metadata": {
        "id": "7f461a0f"
      },
      "source": [
        "### So I decided to use 2 variables of this data set so we can explore if there is much difference in their behavior when a team plays at home or away. So I selected the number of attacks a team produces wheather they play at home or away."
      ]
    },
    {
      "cell_type": "markdown",
      "id": "711c1915",
      "metadata": {
        "id": "711c1915"
      },
      "source": [
        "#### I will check the central tendency measures for the team playing at home First. "
      ]
    },
    {
      "cell_type": "code",
      "execution_count": null,
      "id": "bd211bcb",
      "metadata": {
        "colab": {
          "base_uri": "https://localhost:8080/"
        },
        "id": "bd211bcb",
        "outputId": "96a99067-f50a-4542-c12e-64f6b9de2d5c"
      },
      "outputs": [
        {
          "output_type": "execute_result",
          "data": {
            "text/plain": [
              "101.72168351557664"
            ]
          },
          "metadata": {},
          "execution_count": 14
        }
      ],
      "source": [
        "data_soccer['Attacks_h'].mean()"
      ]
    },
    {
      "cell_type": "code",
      "execution_count": null,
      "id": "53b23658",
      "metadata": {
        "colab": {
          "base_uri": "https://localhost:8080/"
        },
        "id": "53b23658",
        "outputId": "e9fa4a29-a1ce-4c34-b85a-678fbfb56db0"
      },
      "outputs": [
        {
          "output_type": "execute_result",
          "data": {
            "text/plain": [
              "102.0"
            ]
          },
          "metadata": {},
          "execution_count": 15
        }
      ],
      "source": [
        "data_soccer['Attacks_h'].median()"
      ]
    },
    {
      "cell_type": "code",
      "execution_count": null,
      "id": "d55ae69e",
      "metadata": {
        "colab": {
          "base_uri": "https://localhost:8080/"
        },
        "id": "d55ae69e",
        "outputId": "c0f19ff2-0fea-43c4-9c5a-b63372a19cfc"
      },
      "outputs": [
        {
          "output_type": "execute_result",
          "data": {
            "text/plain": [
              "0    98.0\n",
              "dtype: float64"
            ]
          },
          "metadata": {},
          "execution_count": 16
        }
      ],
      "source": [
        "data_soccer['Attacks_h'].mode()"
      ]
    },
    {
      "cell_type": "markdown",
      "id": "59a96ae4",
      "metadata": {
        "id": "59a96ae4"
      },
      "source": [
        "#### We can easily see that there are not much difference between the mean, median and mode. That suggests that this variable is pretty much symmetrical."
      ]
    },
    {
      "cell_type": "markdown",
      "id": "4f7a6309",
      "metadata": {
        "id": "4f7a6309"
      },
      "source": [
        "#### Now we will check the team playing Away."
      ]
    },
    {
      "cell_type": "code",
      "execution_count": null,
      "id": "9b448975",
      "metadata": {
        "colab": {
          "base_uri": "https://localhost:8080/"
        },
        "id": "9b448975",
        "outputId": "9d9d4294-a3de-460e-86f4-48612ffdfea1"
      },
      "outputs": [
        {
          "output_type": "execute_result",
          "data": {
            "text/plain": [
              "95.07262224056117"
            ]
          },
          "metadata": {},
          "execution_count": 17
        }
      ],
      "source": [
        "data_soccer['Attacks_a'].mean()"
      ]
    },
    {
      "cell_type": "code",
      "execution_count": null,
      "id": "a655c923",
      "metadata": {
        "colab": {
          "base_uri": "https://localhost:8080/"
        },
        "id": "a655c923",
        "outputId": "8d6d4ef8-9c31-44e9-c368-d52068ba4241"
      },
      "outputs": [
        {
          "output_type": "execute_result",
          "data": {
            "text/plain": [
              "96.0"
            ]
          },
          "metadata": {},
          "execution_count": 18
        }
      ],
      "source": [
        "data_soccer['Attacks_a'].median()"
      ]
    },
    {
      "cell_type": "code",
      "execution_count": null,
      "id": "afc56705",
      "metadata": {
        "colab": {
          "base_uri": "https://localhost:8080/"
        },
        "id": "afc56705",
        "outputId": "dc87f2b5-5fc8-42fd-a203-db0ff4985f98"
      },
      "outputs": [
        {
          "output_type": "execute_result",
          "data": {
            "text/plain": [
              "0    0.0\n",
              "dtype: float64"
            ]
          },
          "metadata": {},
          "execution_count": 19
        }
      ],
      "source": [
        "data_soccer['Attacks_a'].mode()"
      ]
    },
    {
      "cell_type": "markdown",
      "id": "476b5734",
      "metadata": {
        "id": "476b5734"
      },
      "source": [
        "#### By exploring the central tendency measures for the teams playing away, we can notice that the mean and median are almost the same, which indicates that the amount of attacks for the away team is high as well, even though it is less than the Team playing at Home. But when you check the mode, you see that the mode is 0.0. The conclusion I draw from this is simply because sometimes the team playing away is usualy the underdog, so it makes sense that in some games, the number of attacks can be zero or close to that, since the favorite will press the underdog not let them build much attacks. So the mode 0.0 actually makes a lot sense."
      ]
    },
    {
      "cell_type": "markdown",
      "id": "8667c750",
      "metadata": {
        "id": "8667c750"
      },
      "source": [
        "### One way of proving what I stated above, we can take the average of the odds for both home and away teams:"
      ]
    },
    {
      "cell_type": "code",
      "execution_count": null,
      "id": "8c3736e0",
      "metadata": {
        "colab": {
          "base_uri": "https://localhost:8080/"
        },
        "id": "8c3736e0",
        "outputId": "449d9687-df9b-49cb-9a84-1b0f5747b576"
      },
      "outputs": [
        {
          "output_type": "stream",
          "name": "stdout",
          "text": [
            "Home team average odd: 2.6434299566742316\n",
            "Away team average odd: 4.436410150608625\n",
            "The team playing at Home is the favorite with average odds of  2.6434299566742316\n"
          ]
        }
      ],
      "source": [
        "Home_odds = data_soccer['Home_odd'].mean()\n",
        "Away_odds = data_soccer['Away_odd'].mean()\n",
        "print('Home team average odd:', Home_odds)\n",
        "print('Away team average odd:', Away_odds)\n",
        "if Home_odds <= Away_odds:\n",
        "    print('The team playing at Home is the favorite with average odds of ', Home_odds)\n",
        "else:\n",
        "    print('The team playing Away is the underdog with average odds of ', Away_odds)"
      ]
    },
    {
      "cell_type": "markdown",
      "id": "e15fb1cb",
      "metadata": {
        "id": "e15fb1cb"
      },
      "source": [
        "#### The lower the odds are, that means the team has more chances to win, statistically."
      ]
    },
    {
      "cell_type": "markdown",
      "id": "f5163d30",
      "metadata": {
        "id": "f5163d30"
      },
      "source": [
        "#### b. their measures of dispersion"
      ]
    },
    {
      "cell_type": "code",
      "execution_count": null,
      "id": "a347c429",
      "metadata": {
        "colab": {
          "base_uri": "https://localhost:8080/"
        },
        "id": "a347c429",
        "outputId": "ff61097b-7755-44fc-f518-1262af99ca36"
      },
      "outputs": [
        {
          "output_type": "execute_result",
          "data": {
            "text/plain": [
              "29.64005166941422"
            ]
          },
          "metadata": {},
          "execution_count": 21
        }
      ],
      "source": [
        "data_soccer['Attacks_h'].std()"
      ]
    },
    {
      "cell_type": "code",
      "execution_count": null,
      "id": "08db65ce",
      "metadata": {
        "colab": {
          "base_uri": "https://localhost:8080/"
        },
        "id": "08db65ce",
        "outputId": "61b92fff-163c-43d1-be46-5458c79bb051"
      },
      "outputs": [
        {
          "output_type": "execute_result",
          "data": {
            "text/plain": [
              "27.896584445087775"
            ]
          },
          "metadata": {},
          "execution_count": 22
        }
      ],
      "source": [
        "data_soccer['Attacks_a'].std()"
      ]
    },
    {
      "cell_type": "code",
      "execution_count": null,
      "id": "0fbbcfbb",
      "metadata": {
        "colab": {
          "base_uri": "https://localhost:8080/"
        },
        "id": "0fbbcfbb",
        "outputId": "4e40f273-9ef7-4d39-cb90-faf425546250"
      },
      "outputs": [
        {
          "output_type": "execute_result",
          "data": {
            "text/plain": [
              "878.5326629655447"
            ]
          },
          "metadata": {},
          "execution_count": 23
        }
      ],
      "source": [
        "data_soccer['Attacks_h'].var()"
      ]
    },
    {
      "cell_type": "code",
      "execution_count": null,
      "id": "d2b75f91",
      "metadata": {
        "colab": {
          "base_uri": "https://localhost:8080/"
        },
        "id": "d2b75f91",
        "outputId": "90706082-23dd-431c-a9cf-c9ae2a33d255"
      },
      "outputs": [
        {
          "output_type": "execute_result",
          "data": {
            "text/plain": [
              "778.2194237019132"
            ]
          },
          "metadata": {},
          "execution_count": 24
        }
      ],
      "source": [
        "data_soccer['Attacks_a'].var()"
      ]
    },
    {
      "cell_type": "markdown",
      "id": "b04970fc",
      "metadata": {
        "id": "b04970fc"
      },
      "source": [
        "#### c. the 5 number summary"
      ]
    },
    {
      "cell_type": "code",
      "execution_count": null,
      "id": "267ae54a",
      "metadata": {
        "colab": {
          "base_uri": "https://localhost:8080/"
        },
        "id": "267ae54a",
        "outputId": "5b1b62eb-c911-4a06-e7d8-6456d71d5bee"
      },
      "outputs": [
        {
          "output_type": "execute_result",
          "data": {
            "text/plain": [
              "count    9694.000000\n",
              "mean      101.721684\n",
              "std        29.640052\n",
              "min         0.000000\n",
              "25%        86.000000\n",
              "50%       102.000000\n",
              "75%       120.000000\n",
              "max       221.000000\n",
              "Name: Attacks_h, dtype: float64"
            ]
          },
          "metadata": {},
          "execution_count": 25
        }
      ],
      "source": [
        "data_soccer['Attacks_h'].describe()"
      ]
    },
    {
      "cell_type": "code",
      "execution_count": null,
      "id": "3b53e9e6",
      "metadata": {
        "colab": {
          "base_uri": "https://localhost:8080/"
        },
        "id": "3b53e9e6",
        "outputId": "2ab8f483-959b-4d9a-efb5-f8437d5f1a21"
      },
      "outputs": [
        {
          "output_type": "execute_result",
          "data": {
            "text/plain": [
              "count    9694.000000\n",
              "mean       95.072622\n",
              "std        27.896584\n",
              "min         0.000000\n",
              "25%        80.000000\n",
              "50%        96.000000\n",
              "75%       112.000000\n",
              "max       202.000000\n",
              "Name: Attacks_a, dtype: float64"
            ]
          },
          "metadata": {},
          "execution_count": 26
        }
      ],
      "source": [
        "data_soccer['Attacks_a'].describe()"
      ]
    },
    {
      "cell_type": "markdown",
      "id": "125a81dd",
      "metadata": {
        "id": "125a81dd"
      },
      "source": [
        "#### Now we are going to check to categorical values to see their behavior and central tendency measures"
      ]
    },
    {
      "cell_type": "markdown",
      "id": "49681af7",
      "metadata": {
        "id": "49681af7"
      },
      "source": [
        "#### For categorical data we can only measure the mode (Statisticsbyjim, 2021)."
      ]
    },
    {
      "cell_type": "code",
      "execution_count": null,
      "id": "726317e0",
      "metadata": {
        "colab": {
          "base_uri": "https://localhost:8080/"
        },
        "id": "726317e0",
        "outputId": "8393a93d-f62c-4bb6-ec92-5732d19515ec"
      },
      "outputs": [
        {
          "output_type": "execute_result",
          "data": {
            "text/plain": [
              "0    HOME\n",
              "dtype: object"
            ]
          },
          "metadata": {},
          "execution_count": 27
        }
      ],
      "source": [
        "data_soccer[\"FAVORITE\"].mode()"
      ]
    },
    {
      "cell_type": "code",
      "execution_count": null,
      "id": "840182b1",
      "metadata": {
        "colab": {
          "base_uri": "https://localhost:8080/"
        },
        "id": "840182b1",
        "outputId": "122e4dfd-8c5a-4c59-f763-691d7734dabd"
      },
      "outputs": [
        {
          "output_type": "execute_result",
          "data": {
            "text/plain": [
              "0    HOME\n",
              "dtype: object"
            ]
          },
          "metadata": {},
          "execution_count": 28
        }
      ],
      "source": [
        "data_soccer[\"RESULTS\"].mode()"
      ]
    },
    {
      "cell_type": "markdown",
      "id": "b30658f4",
      "metadata": {
        "id": "b30658f4"
      },
      "source": [
        "#### Below we can see the number of times the mode repeats."
      ]
    },
    {
      "cell_type": "code",
      "execution_count": null,
      "id": "e557b92e",
      "metadata": {
        "colab": {
          "base_uri": "https://localhost:8080/"
        },
        "id": "e557b92e",
        "outputId": "925a1e71-6146-4a9c-a465-fc53409d2e6b"
      },
      "outputs": [
        {
          "output_type": "execute_result",
          "data": {
            "text/plain": [
              "count     9694\n",
              "unique       3\n",
              "top       HOME\n",
              "freq      4411\n",
              "Name: RESULTS, dtype: object"
            ]
          },
          "metadata": {},
          "execution_count": 29
        }
      ],
      "source": [
        "data_soccer['RESULTS'].describe()"
      ]
    },
    {
      "cell_type": "code",
      "execution_count": null,
      "id": "0e446e8e",
      "metadata": {
        "colab": {
          "base_uri": "https://localhost:8080/"
        },
        "id": "0e446e8e",
        "outputId": "0a236664-49ac-42be-dbdb-923e9d4c07dc"
      },
      "outputs": [
        {
          "output_type": "execute_result",
          "data": {
            "text/plain": [
              "count     9694\n",
              "unique       2\n",
              "top       HOME\n",
              "freq      5281\n",
              "Name: FAVORITE, dtype: object"
            ]
          },
          "metadata": {},
          "execution_count": 30
        }
      ],
      "source": [
        "data_soccer['FAVORITE'].describe()"
      ]
    },
    {
      "cell_type": "markdown",
      "id": "111caaf8",
      "metadata": {
        "id": "111caaf8"
      },
      "source": [
        "#### We have two interesting things about this variables. First is that on both variables the mode is HOME. That indicates that the majority of the results that could be either home, away or draw, is actually HOME wins. And the second thing is that the majority of the predictions that could be either HOME or AWAY, are also HOME predictions. Which indicates that the accuracy rate of the predictions are very high. "
      ]
    },
    {
      "cell_type": "code",
      "execution_count": null,
      "id": "7f40cdc8",
      "metadata": {
        "colab": {
          "base_uri": "https://localhost:8080/"
        },
        "id": "7f40cdc8",
        "outputId": "707cf328-40df-4a76-ebaa-d57e896d8046"
      },
      "outputs": [
        {
          "output_type": "execute_result",
          "data": {
            "text/plain": [
              "HOME    5281\n",
              "AWAY    4413\n",
              "Name: FAVORITE, dtype: int64"
            ]
          },
          "metadata": {},
          "execution_count": 31
        }
      ],
      "source": [
        "data_soccer['FAVORITE'].value_counts()"
      ]
    },
    {
      "cell_type": "code",
      "execution_count": null,
      "id": "6af31bf1",
      "metadata": {
        "colab": {
          "base_uri": "https://localhost:8080/"
        },
        "id": "6af31bf1",
        "outputId": "1cd95c16-1920-4d84-8c29-99fe72e47ec8"
      },
      "outputs": [
        {
          "output_type": "execute_result",
          "data": {
            "text/plain": [
              "HOME    4411\n",
              "AWAY    2823\n",
              "DRAW    2460\n",
              "Name: RESULTS, dtype: int64"
            ]
          },
          "metadata": {},
          "execution_count": 32
        }
      ],
      "source": [
        "data_soccer['RESULTS'].value_counts()"
      ]
    },
    {
      "cell_type": "markdown",
      "id": "6ce1378d",
      "metadata": {
        "id": "6ce1378d"
      },
      "source": [
        "### 4. Using appropriate graphics, plot 2 variables picked in 6 to get a better idea of its dispersion."
      ]
    },
    {
      "cell_type": "code",
      "execution_count": null,
      "id": "5067b01a",
      "metadata": {
        "colab": {
          "base_uri": "https://localhost:8080/",
          "height": 297
        },
        "id": "5067b01a",
        "outputId": "110a9bae-3d01-4955-abd8-bd0eb282b313"
      },
      "outputs": [
        {
          "output_type": "execute_result",
          "data": {
            "text/plain": [
              "<matplotlib.axes._subplots.AxesSubplot at 0x7eff6b0843a0>"
            ]
          },
          "metadata": {},
          "execution_count": 35
        },
        {
          "output_type": "display_data",
          "data": {
            "text/plain": [
              "<Figure size 432x288 with 1 Axes>"
            ],
            "image/png": "[encoded data removed]"
          },
          "metadata": {
            "needs_background": "light"
          }
        }
      ],
      "source": [
        "sns.scatterplot(data=data_soccer, x=\"Attacks_a\", y=\"Attacks_h\", hue=\"FAVORITE\")"
      ]
    },
    {
      "cell_type": "markdown",
      "id": "ed3564e8",
      "metadata": {
        "id": "ed3564e8"
      },
      "source": [
        "#### We can easily see that the datapoints concentrates more in the middle of the graphic. Which means that the behaviour weather the team plays Home or Away is almost the same. There are just a few outliers which doesn´t change the symmetry of this data."
      ]
    },
    {
      "cell_type": "code",
      "execution_count": null,
      "id": "a012ce5c",
      "metadata": {
        "colab": {
          "base_uri": "https://localhost:8080/"
        },
        "id": "a012ce5c",
        "outputId": "326d236b-74b8-49cd-a8d1-954e3d5565ae"
      },
      "outputs": [
        {
          "output_type": "execute_result",
          "data": {
            "text/plain": [
              "-0.5260265348726108"
            ]
          },
          "metadata": {},
          "execution_count": 36
        }
      ],
      "source": [
        "data_soccer[\"Attacks_h\"].skew()"
      ]
    },
    {
      "cell_type": "code",
      "execution_count": null,
      "id": "900bafaf",
      "metadata": {
        "colab": {
          "base_uri": "https://localhost:8080/"
        },
        "id": "900bafaf",
        "outputId": "e552db4b-66b0-45a3-f7df-523f908ec381"
      },
      "outputs": [
        {
          "output_type": "execute_result",
          "data": {
            "text/plain": [
              "-0.5431853986274561"
            ]
          },
          "metadata": {},
          "execution_count": 37
        }
      ],
      "source": [
        "data_soccer[\"Attacks_a\"].skew()"
      ]
    },
    {
      "cell_type": "code",
      "execution_count": null,
      "id": "b738ef5b",
      "metadata": {
        "colab": {
          "base_uri": "https://localhost:8080/"
        },
        "id": "b738ef5b",
        "outputId": "4950a811-b287-4e15-e875-c62d2d647104"
      },
      "outputs": [
        {
          "output_type": "stream",
          "name": "stderr",
          "text": [
            "<ipython-input-38-150ef51485ba>:1: FutureWarning: Dropping of nuisance columns in DataFrame reductions (with 'numeric_only=None') is deprecated; in a future version this will raise TypeError.  Select only valid columns before calling the reduction.\n",
            "  data_soccer.skew()\n"
          ]
        },
        {
          "output_type": "execute_result",
          "data": {
            "text/plain": [
              "Score_Home_Team        0.925795\n",
              "Score_Away_Team        1.078842\n",
              "Home_odd               4.419031\n",
              "Draw_odd               3.885865\n",
              "Away_odd               4.016891\n",
              "Ball_possession_h      8.906764\n",
              "Ball_possession_a      7.441631\n",
              "Goal_attempts_h        0.622348\n",
              "Goal_attempts_a        0.620080\n",
              "Attacks_h             -0.526027\n",
              "Attacks_a             -0.543185\n",
              "Dangerous_attacks_h    0.303943\n",
              "Dangerous_attacks_a    0.380725\n",
              "dtype: float64"
            ]
          },
          "metadata": {},
          "execution_count": 38
        }
      ],
      "source": [
        "data_soccer.skew()"
      ]
    },
    {
      "cell_type": "code",
      "execution_count": null,
      "id": "d36d31ab",
      "metadata": {
        "colab": {
          "base_uri": "https://localhost:8080/",
          "height": 284
        },
        "id": "d36d31ab",
        "outputId": "fab0a8ad-c848-4ccd-e0a1-b9a38495e8a4"
      },
      "outputs": [
        {
          "output_type": "execute_result",
          "data": {
            "text/plain": [
              "<matplotlib.axes._subplots.AxesSubplot at 0x7eff692f9880>"
            ]
          },
          "metadata": {},
          "execution_count": 39
        },
        {
          "output_type": "display_data",
          "data": {
            "text/plain": [
              "<Figure size 432x288 with 1 Axes>"
            ],
            "image/png": "[encoded data removed]"
          },
          "metadata": {
            "needs_background": "light"
          }
        }
      ],
      "source": [
        "data_soccer.Attacks_h.hist()"
      ]
    },
    {
      "cell_type": "code",
      "execution_count": null,
      "id": "28dd7a5e",
      "metadata": {
        "colab": {
          "base_uri": "https://localhost:8080/",
          "height": 282
        },
        "id": "28dd7a5e",
        "outputId": "e154d09c-5680-4723-d462-c55de03c4b80"
      },
      "outputs": [
        {
          "output_type": "execute_result",
          "data": {
            "text/plain": [
              "<matplotlib.axes._subplots.AxesSubplot at 0x7eff69209340>"
            ]
          },
          "metadata": {},
          "execution_count": 40
        },
        {
          "output_type": "display_data",
          "data": {
            "text/plain": [
              "<Figure size 432x288 with 1 Axes>"
            ],
            "image/png": "[encoded data removed]"
          },
          "metadata": {
            "needs_background": "light"
          }
        }
      ],
      "source": [
        "data_soccer.Attacks_a.hist()"
      ]
    },
    {
      "cell_type": "markdown",
      "id": "238c194f",
      "metadata": {
        "id": "238c194f"
      },
      "source": [
        "### They are both a Negative Skew"
      ]
    },
    {
      "cell_type": "markdown",
      "id": "5342d5fa",
      "metadata": {
        "id": "5342d5fa"
      },
      "source": [
        "It is easy to see on the graph below what it was stated above. Both variables have the HOME as the mode.\n"
      ]
    },
    {
      "cell_type": "code",
      "execution_count": null,
      "id": "edcb0d65",
      "metadata": {
        "colab": {
          "base_uri": "https://localhost:8080/",
          "height": 303
        },
        "id": "edcb0d65",
        "outputId": "0d5bac9d-d953-48b2-9111-9cbd99f69f88"
      },
      "outputs": [
        {
          "output_type": "execute_result",
          "data": {
            "text/plain": [
              "<matplotlib.axes._subplots.AxesSubplot at 0x7eff6af6a730>"
            ]
          },
          "metadata": {},
          "execution_count": 42
        },
        {
          "output_type": "display_data",
          "data": {
            "text/plain": [
              "<Figure size 432x288 with 1 Axes>"
            ],
            "image/png": "[encoded data removed]"
          },
          "metadata": {
            "needs_background": "light"
          }
        }
      ],
      "source": [
        "data_soccer['RESULTS'].value_counts().plot(kind='bar')"
      ]
    },
    {
      "cell_type": "code",
      "execution_count": null,
      "id": "037baa30",
      "metadata": {
        "colab": {
          "base_uri": "https://localhost:8080/",
          "height": 302
        },
        "id": "037baa30",
        "outputId": "2b4da2b2-fa56-4593-a8ca-4be907e88c7c"
      },
      "outputs": [
        {
          "output_type": "execute_result",
          "data": {
            "text/plain": [
              "<matplotlib.axes._subplots.AxesSubplot at 0x7eff69119310>"
            ]
          },
          "metadata": {},
          "execution_count": 43
        },
        {
          "output_type": "display_data",
          "data": {
            "text/plain": [
              "<Figure size 432x288 with 1 Axes>"
            ],
            "image/png": "[encoded data removed]"
          },
          "metadata": {
            "needs_background": "light"
          }
        }
      ],
      "source": [
        "data_soccer['FAVORITE'].value_counts().plot(kind='bar')"
      ]
    },
    {
      "cell_type": "markdown",
      "id": "29254b18",
      "metadata": {
        "id": "29254b18"
      },
      "source": [
        "### 5. Do the variables picked in 6, follow a symmetric distribution? Provide a short description of their distribution. Support your analysis with the descriptive statistics already calculated, and on the graphics that you plot in the previous item. You can calculate extra descriptives statistics if you think they are relevant to analyse the distribution of your variables."
      ]
    },
    {
      "cell_type": "markdown",
      "id": "2628f2b2",
      "metadata": {
        "id": "2628f2b2"
      },
      "source": [
        "As we described above, the variables picked are not symmetric, they are slightly skewed to the left. Even the difference on the standard deviation is small. As per explanations above and as we can see on the graphics, the variables follow an almost symmetrical distribution.\n",
        "The major difference between the variables is the mode. As stated on this report, the reason that the difference is so huge mode=98 for the Attacks_h and mode=0 for the Attacks_a is due to the fact that sometimes (in this case it has been proven), the Away team has less attacks per match because they are usually the underdog, thus not having a higher mode."
      ]
    },
    {
      "cell_type": "markdown",
      "id": "93cb49ac",
      "metadata": {
        "id": "93cb49ac"
      },
      "source": [
        "### References:"
      ]
    },
    {
      "cell_type": "markdown",
      "id": "afc3ca4d",
      "metadata": {
        "id": "afc3ca4d"
      },
      "source": [
        "#### Louzan, Aldana 2021, Online class: Descriptive stats - Part I, lecture notes, Statistical Techniques for Data Analysis Stats-FT, CCT College, delivered 05 October 2021"
      ]
    },
    {
      "cell_type": "markdown",
      "id": "fbab96b0",
      "metadata": {
        "id": "fbab96b0"
      },
      "source": [
        "#### Holmes, Alexander, Illowsky, Barbara, Dean, Susan  (2017)  Skewness and the Mean, Median, and Mode. Available at: https://openstax.org/books/introductory-business-statistics/pages/2-6-skewness-and-the-mean-median-and-mode#:~:text=In%20a%20perfectly%20symmetrical%20distribution,from%20the%20mean%20and%20median. (Accessed: 03 November 2021)"
      ]
    },
    {
      "cell_type": "markdown",
      "id": "baf190e4",
      "metadata": {
        "id": "baf190e4"
      },
      "source": [
        "#### Frost, Jim (2021) Measures of Central Tendency: Mean, Median, and Mode. Available at: https://statisticsbyjim.com/basics/measures-central-tendency-mean-median-mode/. (Accessed: 01 November 2021)"
      ]
    }
  ],
  "metadata": {
    "kernelspec": {
      "display_name": "Python 3",
      "language": "python",
      "name": "python3"
    },
    "language_info": {
      "codemirror_mode": {
        "name": "ipython",
        "version": 3
      },
      "file_extension": ".py",
      "mimetype": "text/x-python",
      "name": "python",
      "nbconvert_exporter": "python",
      "pygments_lexer": "ipython3",
      "version": "3.8.8"
    },
    "colab": {
      "provenance": []
    }
  },
  "nbformat": 4,
  "nbformat_minor": 5
}