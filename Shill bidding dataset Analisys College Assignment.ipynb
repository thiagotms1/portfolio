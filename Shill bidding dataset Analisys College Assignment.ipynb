{
  "cells": [
    {
      "cell_type": "code",
      "execution_count": null,
      "id": "53b71cd0",
      "metadata": {
        "id": "53b71cd0"
      },
      "outputs": [],
      "source": [
        "import pandas as pd # important library \n",
        "import matplotlib.pyplot as plt #for us to work with the data visualization\n",
        "import seaborn as sns\n",
        "import numpy as np # to work with the mathematics part\n",
        "# We want our plots to appear in the notebook\n",
        "%matplotlib inline \n"
      ]
    },
    {
      "cell_type": "code",
      "execution_count": null,
      "id": "a495f5df",
      "metadata": {
        "id": "a495f5df"
      },
      "outputs": [],
      "source": [
        "df_shill_bidding = pd.read_csv(\"Shill Bidding Dataset.csv\")"
      ]
    },
    {
      "cell_type": "code",
      "execution_count": null,
      "id": "7e757149",
      "metadata": {
        "id": "7e757149",
        "outputId": "c1ddccfc-b732-4947-9cae-2747018cfa98"
      },
      "outputs": [
        {
          "data": {
            "text/html": [
              "<div>\n",
              "<style scoped>\n",
              "    .dataframe tbody tr th:only-of-type {\n",
              "        vertical-align: middle;\n",
              "    }\n",
              "\n",
              "    .dataframe tbody tr th {\n",
              "        vertical-align: top;\n",
              "    }\n",
              "\n",
              "    .dataframe thead th {\n",
              "        text-align: right;\n",
              "    }\n",
              "</style>\n",
              "<table border=\"1\" class=\"dataframe\">\n",
              "  <thead>\n",
              "    <tr style=\"text-align: right;\">\n",
              "      <th></th>\n",
              "      <th>Record_ID</th>\n",
              "      <th>Auction_ID</th>\n",
              "      <th>Bidder_ID</th>\n",
              "      <th>Bidder_Tendency</th>\n",
              "      <th>Bidding_Ratio</th>\n",
              "      <th>Successive_Outbidding</th>\n",
              "      <th>Last_Bidding</th>\n",
              "      <th>Auction_Bids</th>\n",
              "      <th>Starting_Price_Average</th>\n",
              "      <th>Early_Bidding</th>\n",
              "      <th>Winning_Ratio</th>\n",
              "      <th>Auction_Duration</th>\n",
              "      <th>Class</th>\n",
              "    </tr>\n",
              "  </thead>\n",
              "  <tbody>\n",
              "    <tr>\n",
              "      <th>0</th>\n",
              "      <td>1</td>\n",
              "      <td>732</td>\n",
              "      <td>_***i</td>\n",
              "      <td>0.200000</td>\n",
              "      <td>0.400000</td>\n",
              "      <td>0.0</td>\n",
              "      <td>0.000028</td>\n",
              "      <td>0.000000</td>\n",
              "      <td>0.993593</td>\n",
              "      <td>0.000028</td>\n",
              "      <td>0.666667</td>\n",
              "      <td>5</td>\n",
              "      <td>0</td>\n",
              "    </tr>\n",
              "    <tr>\n",
              "      <th>1</th>\n",
              "      <td>2</td>\n",
              "      <td>732</td>\n",
              "      <td>g***r</td>\n",
              "      <td>0.024390</td>\n",
              "      <td>0.200000</td>\n",
              "      <td>0.0</td>\n",
              "      <td>0.013123</td>\n",
              "      <td>0.000000</td>\n",
              "      <td>0.993593</td>\n",
              "      <td>0.013123</td>\n",
              "      <td>0.944444</td>\n",
              "      <td>5</td>\n",
              "      <td>0</td>\n",
              "    </tr>\n",
              "    <tr>\n",
              "      <th>2</th>\n",
              "      <td>3</td>\n",
              "      <td>732</td>\n",
              "      <td>t***p</td>\n",
              "      <td>0.142857</td>\n",
              "      <td>0.200000</td>\n",
              "      <td>0.0</td>\n",
              "      <td>0.003042</td>\n",
              "      <td>0.000000</td>\n",
              "      <td>0.993593</td>\n",
              "      <td>0.003042</td>\n",
              "      <td>1.000000</td>\n",
              "      <td>5</td>\n",
              "      <td>0</td>\n",
              "    </tr>\n",
              "    <tr>\n",
              "      <th>3</th>\n",
              "      <td>4</td>\n",
              "      <td>732</td>\n",
              "      <td>7***n</td>\n",
              "      <td>0.100000</td>\n",
              "      <td>0.200000</td>\n",
              "      <td>0.0</td>\n",
              "      <td>0.097477</td>\n",
              "      <td>0.000000</td>\n",
              "      <td>0.993593</td>\n",
              "      <td>0.097477</td>\n",
              "      <td>1.000000</td>\n",
              "      <td>5</td>\n",
              "      <td>0</td>\n",
              "    </tr>\n",
              "    <tr>\n",
              "      <th>4</th>\n",
              "      <td>5</td>\n",
              "      <td>900</td>\n",
              "      <td>z***z</td>\n",
              "      <td>0.051282</td>\n",
              "      <td>0.222222</td>\n",
              "      <td>0.0</td>\n",
              "      <td>0.001318</td>\n",
              "      <td>0.000000</td>\n",
              "      <td>0.000000</td>\n",
              "      <td>0.001242</td>\n",
              "      <td>0.500000</td>\n",
              "      <td>7</td>\n",
              "      <td>0</td>\n",
              "    </tr>\n",
              "    <tr>\n",
              "      <th>5</th>\n",
              "      <td>8</td>\n",
              "      <td>900</td>\n",
              "      <td>i***e</td>\n",
              "      <td>0.038462</td>\n",
              "      <td>0.111111</td>\n",
              "      <td>0.0</td>\n",
              "      <td>0.016844</td>\n",
              "      <td>0.000000</td>\n",
              "      <td>0.000000</td>\n",
              "      <td>0.016844</td>\n",
              "      <td>0.800000</td>\n",
              "      <td>7</td>\n",
              "      <td>0</td>\n",
              "    </tr>\n",
              "    <tr>\n",
              "      <th>6</th>\n",
              "      <td>10</td>\n",
              "      <td>900</td>\n",
              "      <td>m***p</td>\n",
              "      <td>0.400000</td>\n",
              "      <td>0.222222</td>\n",
              "      <td>0.0</td>\n",
              "      <td>0.006781</td>\n",
              "      <td>0.000000</td>\n",
              "      <td>0.000000</td>\n",
              "      <td>0.006774</td>\n",
              "      <td>0.750000</td>\n",
              "      <td>7</td>\n",
              "      <td>0</td>\n",
              "    </tr>\n",
              "    <tr>\n",
              "      <th>7</th>\n",
              "      <td>12</td>\n",
              "      <td>900</td>\n",
              "      <td>k***a</td>\n",
              "      <td>0.137931</td>\n",
              "      <td>0.444444</td>\n",
              "      <td>1.0</td>\n",
              "      <td>0.768044</td>\n",
              "      <td>0.000000</td>\n",
              "      <td>0.000000</td>\n",
              "      <td>0.016311</td>\n",
              "      <td>1.000000</td>\n",
              "      <td>7</td>\n",
              "      <td>1</td>\n",
              "    </tr>\n",
              "    <tr>\n",
              "      <th>8</th>\n",
              "      <td>13</td>\n",
              "      <td>2370</td>\n",
              "      <td>g***r</td>\n",
              "      <td>0.121951</td>\n",
              "      <td>0.185185</td>\n",
              "      <td>1.0</td>\n",
              "      <td>0.035021</td>\n",
              "      <td>0.333333</td>\n",
              "      <td>0.993528</td>\n",
              "      <td>0.023963</td>\n",
              "      <td>0.944444</td>\n",
              "      <td>7</td>\n",
              "      <td>1</td>\n",
              "    </tr>\n",
              "    <tr>\n",
              "      <th>9</th>\n",
              "      <td>27</td>\n",
              "      <td>600</td>\n",
              "      <td>e***t</td>\n",
              "      <td>0.155172</td>\n",
              "      <td>0.346154</td>\n",
              "      <td>0.5</td>\n",
              "      <td>0.570994</td>\n",
              "      <td>0.307692</td>\n",
              "      <td>0.993593</td>\n",
              "      <td>0.413788</td>\n",
              "      <td>0.611111</td>\n",
              "      <td>7</td>\n",
              "      <td>1</td>\n",
              "    </tr>\n",
              "  </tbody>\n",
              "</table>\n",
              "</div>"
            ],
            "text/plain": [
              "   Record_ID  Auction_ID Bidder_ID  Bidder_Tendency  Bidding_Ratio  \\\n",
              "0          1         732     _***i         0.200000       0.400000   \n",
              "1          2         732     g***r         0.024390       0.200000   \n",
              "2          3         732     t***p         0.142857       0.200000   \n",
              "3          4         732     7***n         0.100000       0.200000   \n",
              "4          5         900     z***z         0.051282       0.222222   \n",
              "5          8         900     i***e         0.038462       0.111111   \n",
              "6         10         900     m***p         0.400000       0.222222   \n",
              "7         12         900     k***a         0.137931       0.444444   \n",
              "8         13        2370     g***r         0.121951       0.185185   \n",
              "9         27         600     e***t         0.155172       0.346154   \n",
              "\n",
              "   Successive_Outbidding  Last_Bidding  Auction_Bids  Starting_Price_Average  \\\n",
              "0                    0.0      0.000028      0.000000                0.993593   \n",
              "1                    0.0      0.013123      0.000000                0.993593   \n",
              "2                    0.0      0.003042      0.000000                0.993593   \n",
              "3                    0.0      0.097477      0.000000                0.993593   \n",
              "4                    0.0      0.001318      0.000000                0.000000   \n",
              "5                    0.0      0.016844      0.000000                0.000000   \n",
              "6                    0.0      0.006781      0.000000                0.000000   \n",
              "7                    1.0      0.768044      0.000000                0.000000   \n",
              "8                    1.0      0.035021      0.333333                0.993528   \n",
              "9                    0.5      0.570994      0.307692                0.993593   \n",
              "\n",
              "   Early_Bidding  Winning_Ratio  Auction_Duration  Class  \n",
              "0       0.000028       0.666667                 5      0  \n",
              "1       0.013123       0.944444                 5      0  \n",
              "2       0.003042       1.000000                 5      0  \n",
              "3       0.097477       1.000000                 5      0  \n",
              "4       0.001242       0.500000                 7      0  \n",
              "5       0.016844       0.800000                 7      0  \n",
              "6       0.006774       0.750000                 7      0  \n",
              "7       0.016311       1.000000                 7      1  \n",
              "8       0.023963       0.944444                 7      1  \n",
              "9       0.413788       0.611111                 7      1  "
            ]
          },
          "execution_count": 3,
          "metadata": {},
          "output_type": "execute_result"
        }
      ],
      "source": [
        "df_shill_bidding.head(10)"
      ]
    },
    {
      "cell_type": "markdown",
      "id": "fccc066f",
      "metadata": {
        "id": "fccc066f"
      },
      "source": [
        "### Attribute Information:\n",
        "\n",
        "* Record ID: Unique identifier of a record in the dataset.\n",
        "* Auction ID: Unique identifier of an auction.\n",
        "* Bidder ID: Unique identifier of a bidder.\n",
        "* Bidder Tendency: A shill bidder participates exclusively in auctions of few sellers rather than a diversified lot. This is a collusive act involving the fraudulent seller and an accomplice.\n",
        "* Bidding Ratio: A shill bidder participates more frequently to raise the auction price and attract higher bids from legitimate participants.\n",
        "* Successive Outbidding: A shill bidder successively outbids himself even though he is the current winner to increase the price gradually with small consecutive increments.\n",
        "* Last Bidding: A shill bidder becomes inactive at the last stage of the auction (more than 90\\% of the auction duration) to avoid winning the auction.\n",
        "* Auction Bids: Auctions with SB activities tend to have a much higher number of bids than the average of bids in concurrent auctions.\n",
        "* Auction Starting Price: a shill bidder usually offers a small starting price to attract legitimate bidders into the auction.\n",
        "* Early Bidding: A shill bidder tends to bid pretty early in the auction (less than 25\\% of the auction duration) to get the attention of auction users.\n",
        "* Winning Ratio: A shill bidder competes in many auctions but hardly wins any auctions.\n",
        "* Auction Duration: How long an auction lasted.\n",
        "* Class: 0 for normal behaviour bidding; 1 for otherwise."
      ]
    },
    {
      "cell_type": "code",
      "execution_count": null,
      "id": "d3af8db2",
      "metadata": {
        "id": "d3af8db2",
        "outputId": "caf53584-17d6-4025-f161-4dc56fd44656"
      },
      "outputs": [
        {
          "data": {
            "text/plain": [
              "(6321, 13)"
            ]
          },
          "execution_count": 4,
          "metadata": {},
          "output_type": "execute_result"
        }
      ],
      "source": [
        "# We can observe that we have 6321 entries with 13 features\n",
        "df_shill_bidding.shape"
      ]
    },
    {
      "cell_type": "code",
      "execution_count": null,
      "id": "8bf545c6",
      "metadata": {
        "id": "8bf545c6",
        "outputId": "b333ec5b-6e7e-4811-e526-e4a537902758"
      },
      "outputs": [
        {
          "name": "stdout",
          "output_type": "stream",
          "text": [
            "<class 'pandas.core.frame.DataFrame'>\n",
            "RangeIndex: 6321 entries, 0 to 6320\n",
            "Data columns (total 13 columns):\n",
            " #   Column                  Non-Null Count  Dtype  \n",
            "---  ------                  --------------  -----  \n",
            " 0   Record_ID               6321 non-null   int64  \n",
            " 1   Auction_ID              6321 non-null   int64  \n",
            " 2   Bidder_ID               6321 non-null   object \n",
            " 3   Bidder_Tendency         6321 non-null   float64\n",
            " 4   Bidding_Ratio           6321 non-null   float64\n",
            " 5   Successive_Outbidding   6321 non-null   float64\n",
            " 6   Last_Bidding            6321 non-null   float64\n",
            " 7   Auction_Bids            6321 non-null   float64\n",
            " 8   Starting_Price_Average  6321 non-null   float64\n",
            " 9   Early_Bidding           6321 non-null   float64\n",
            " 10  Winning_Ratio           6321 non-null   float64\n",
            " 11  Auction_Duration        6321 non-null   int64  \n",
            " 12  Class                   6321 non-null   int64  \n",
            "dtypes: float64(8), int64(4), object(1)\n",
            "memory usage: 642.1+ KB\n"
          ]
        }
      ],
      "source": [
        "# We can use the code below to check information about the dataset like, number of features, type of the entries, the size of the data set , the number of columns and also the names of the columns.\n",
        "df_shill_bidding.info()"
      ]
    },
    {
      "cell_type": "code",
      "execution_count": null,
      "id": "bcec1b56",
      "metadata": {
        "id": "bcec1b56",
        "outputId": "a9d347a5-d467-4814-b724-c03dec448ae9"
      },
      "outputs": [
        {
          "data": {
            "text/plain": [
              "Record_ID                 0\n",
              "Auction_ID                0\n",
              "Bidder_ID                 0\n",
              "Bidder_Tendency           0\n",
              "Bidding_Ratio             0\n",
              "Successive_Outbidding     0\n",
              "Last_Bidding              0\n",
              "Auction_Bids              0\n",
              "Starting_Price_Average    0\n",
              "Early_Bidding             0\n",
              "Winning_Ratio             0\n",
              "Auction_Duration          0\n",
              "Class                     0\n",
              "dtype: int64"
            ]
          },
          "execution_count": 6,
          "metadata": {},
          "output_type": "execute_result"
        }
      ],
      "source": [
        "#With the code below we can check if we have any entry with missing values\n",
        "df_shill_bidding.isnull().sum()"
      ]
    },
    {
      "cell_type": "code",
      "execution_count": null,
      "id": "a44fe2ad",
      "metadata": {
        "id": "a44fe2ad",
        "outputId": "a464268a-a3e4-4e43-fbcf-a40b5f5aa301"
      },
      "outputs": [
        {
          "data": {
            "image/png": "[encoded data removed]",
            "text/plain": [
              "<Figure size 432x288 with 2 Axes>"
            ]
          },
          "metadata": {
            "needs_background": "light"
          },
          "output_type": "display_data"
        }
      ],
      "source": [
        "#We could also use a graphic visualization to find out if there is any missing valus on the dataset. If there was any missing values we would be able  to see some other colours on the graph below.\n",
        "sns.heatmap(df_shill_bidding.isnull(), cmap= \"YlGnBu\");\n",
        "plt.title(\"HeatMap indicating null values in Data\")\n",
        "plt.ylabel(\"Data Point Indices\")\n",
        "plt.xlabel(\"Data Columns\")\n",
        "plt.show()"
      ]
    },
    {
      "cell_type": "code",
      "execution_count": null,
      "id": "f606ee71",
      "metadata": {
        "id": "f606ee71",
        "outputId": "aa3cdb5d-c119-4338-f88b-376bd5f6de70"
      },
      "outputs": [
        {
          "data": {
            "text/html": [
              "<div>\n",
              "<style scoped>\n",
              "    .dataframe tbody tr th:only-of-type {\n",
              "        vertical-align: middle;\n",
              "    }\n",
              "\n",
              "    .dataframe tbody tr th {\n",
              "        vertical-align: top;\n",
              "    }\n",
              "\n",
              "    .dataframe thead th {\n",
              "        text-align: right;\n",
              "    }\n",
              "</style>\n",
              "<table border=\"1\" class=\"dataframe\">\n",
              "  <thead>\n",
              "    <tr style=\"text-align: right;\">\n",
              "      <th></th>\n",
              "      <th>count</th>\n",
              "      <th>mean</th>\n",
              "      <th>std</th>\n",
              "      <th>min</th>\n",
              "      <th>25%</th>\n",
              "      <th>50%</th>\n",
              "      <th>75%</th>\n",
              "      <th>max</th>\n",
              "    </tr>\n",
              "  </thead>\n",
              "  <tbody>\n",
              "    <tr>\n",
              "      <th>Record_ID</th>\n",
              "      <td>6321.0</td>\n",
              "      <td>7535.829457</td>\n",
              "      <td>4364.759137</td>\n",
              "      <td>1.000000</td>\n",
              "      <td>3778.000000</td>\n",
              "      <td>7591.000000</td>\n",
              "      <td>11277.000000</td>\n",
              "      <td>15144.000000</td>\n",
              "    </tr>\n",
              "    <tr>\n",
              "      <th>Auction_ID</th>\n",
              "      <td>6321.0</td>\n",
              "      <td>1241.388230</td>\n",
              "      <td>735.770789</td>\n",
              "      <td>5.000000</td>\n",
              "      <td>589.000000</td>\n",
              "      <td>1246.000000</td>\n",
              "      <td>1867.000000</td>\n",
              "      <td>2538.000000</td>\n",
              "    </tr>\n",
              "    <tr>\n",
              "      <th>Bidder_Tendency</th>\n",
              "      <td>6321.0</td>\n",
              "      <td>0.142541</td>\n",
              "      <td>0.197084</td>\n",
              "      <td>0.000000</td>\n",
              "      <td>0.027027</td>\n",
              "      <td>0.062500</td>\n",
              "      <td>0.166667</td>\n",
              "      <td>1.000000</td>\n",
              "    </tr>\n",
              "    <tr>\n",
              "      <th>Bidding_Ratio</th>\n",
              "      <td>6321.0</td>\n",
              "      <td>0.127670</td>\n",
              "      <td>0.131530</td>\n",
              "      <td>0.011765</td>\n",
              "      <td>0.043478</td>\n",
              "      <td>0.083333</td>\n",
              "      <td>0.166667</td>\n",
              "      <td>1.000000</td>\n",
              "    </tr>\n",
              "    <tr>\n",
              "      <th>Successive_Outbidding</th>\n",
              "      <td>6321.0</td>\n",
              "      <td>0.103781</td>\n",
              "      <td>0.279698</td>\n",
              "      <td>0.000000</td>\n",
              "      <td>0.000000</td>\n",
              "      <td>0.000000</td>\n",
              "      <td>0.000000</td>\n",
              "      <td>1.000000</td>\n",
              "    </tr>\n",
              "    <tr>\n",
              "      <th>Last_Bidding</th>\n",
              "      <td>6321.0</td>\n",
              "      <td>0.463119</td>\n",
              "      <td>0.380097</td>\n",
              "      <td>0.000000</td>\n",
              "      <td>0.047928</td>\n",
              "      <td>0.440937</td>\n",
              "      <td>0.860363</td>\n",
              "      <td>0.999900</td>\n",
              "    </tr>\n",
              "    <tr>\n",
              "      <th>Auction_Bids</th>\n",
              "      <td>6321.0</td>\n",
              "      <td>0.231606</td>\n",
              "      <td>0.255252</td>\n",
              "      <td>0.000000</td>\n",
              "      <td>0.000000</td>\n",
              "      <td>0.142857</td>\n",
              "      <td>0.454545</td>\n",
              "      <td>0.788235</td>\n",
              "    </tr>\n",
              "    <tr>\n",
              "      <th>Starting_Price_Average</th>\n",
              "      <td>6321.0</td>\n",
              "      <td>0.472821</td>\n",
              "      <td>0.489912</td>\n",
              "      <td>0.000000</td>\n",
              "      <td>0.000000</td>\n",
              "      <td>0.000000</td>\n",
              "      <td>0.993593</td>\n",
              "      <td>0.999935</td>\n",
              "    </tr>\n",
              "    <tr>\n",
              "      <th>Early_Bidding</th>\n",
              "      <td>6321.0</td>\n",
              "      <td>0.430683</td>\n",
              "      <td>0.380785</td>\n",
              "      <td>0.000000</td>\n",
              "      <td>0.026620</td>\n",
              "      <td>0.360104</td>\n",
              "      <td>0.826761</td>\n",
              "      <td>0.999900</td>\n",
              "    </tr>\n",
              "    <tr>\n",
              "      <th>Winning_Ratio</th>\n",
              "      <td>6321.0</td>\n",
              "      <td>0.367731</td>\n",
              "      <td>0.436573</td>\n",
              "      <td>0.000000</td>\n",
              "      <td>0.000000</td>\n",
              "      <td>0.000000</td>\n",
              "      <td>0.851852</td>\n",
              "      <td>1.000000</td>\n",
              "    </tr>\n",
              "    <tr>\n",
              "      <th>Auction_Duration</th>\n",
              "      <td>6321.0</td>\n",
              "      <td>4.615093</td>\n",
              "      <td>2.466629</td>\n",
              "      <td>1.000000</td>\n",
              "      <td>3.000000</td>\n",
              "      <td>5.000000</td>\n",
              "      <td>7.000000</td>\n",
              "      <td>10.000000</td>\n",
              "    </tr>\n",
              "    <tr>\n",
              "      <th>Class</th>\n",
              "      <td>6321.0</td>\n",
              "      <td>0.106787</td>\n",
              "      <td>0.308867</td>\n",
              "      <td>0.000000</td>\n",
              "      <td>0.000000</td>\n",
              "      <td>0.000000</td>\n",
              "      <td>0.000000</td>\n",
              "      <td>1.000000</td>\n",
              "    </tr>\n",
              "  </tbody>\n",
              "</table>\n",
              "</div>"
            ],
            "text/plain": [
              "                         count         mean          std       min  \\\n",
              "Record_ID               6321.0  7535.829457  4364.759137  1.000000   \n",
              "Auction_ID              6321.0  1241.388230   735.770789  5.000000   \n",
              "Bidder_Tendency         6321.0     0.142541     0.197084  0.000000   \n",
              "Bidding_Ratio           6321.0     0.127670     0.131530  0.011765   \n",
              "Successive_Outbidding   6321.0     0.103781     0.279698  0.000000   \n",
              "Last_Bidding            6321.0     0.463119     0.380097  0.000000   \n",
              "Auction_Bids            6321.0     0.231606     0.255252  0.000000   \n",
              "Starting_Price_Average  6321.0     0.472821     0.489912  0.000000   \n",
              "Early_Bidding           6321.0     0.430683     0.380785  0.000000   \n",
              "Winning_Ratio           6321.0     0.367731     0.436573  0.000000   \n",
              "Auction_Duration        6321.0     4.615093     2.466629  1.000000   \n",
              "Class                   6321.0     0.106787     0.308867  0.000000   \n",
              "\n",
              "                                25%          50%           75%           max  \n",
              "Record_ID               3778.000000  7591.000000  11277.000000  15144.000000  \n",
              "Auction_ID               589.000000  1246.000000   1867.000000   2538.000000  \n",
              "Bidder_Tendency            0.027027     0.062500      0.166667      1.000000  \n",
              "Bidding_Ratio              0.043478     0.083333      0.166667      1.000000  \n",
              "Successive_Outbidding      0.000000     0.000000      0.000000      1.000000  \n",
              "Last_Bidding               0.047928     0.440937      0.860363      0.999900  \n",
              "Auction_Bids               0.000000     0.142857      0.454545      0.788235  \n",
              "Starting_Price_Average     0.000000     0.000000      0.993593      0.999935  \n",
              "Early_Bidding              0.026620     0.360104      0.826761      0.999900  \n",
              "Winning_Ratio              0.000000     0.000000      0.851852      1.000000  \n",
              "Auction_Duration           3.000000     5.000000      7.000000     10.000000  \n",
              "Class                      0.000000     0.000000      0.000000      1.000000  "
            ]
          },
          "execution_count": 8,
          "metadata": {},
          "output_type": "execute_result"
        }
      ],
      "source": [
        "# Now we will use the function describe()\n",
        "df_shill_bidding.describe().T"
      ]
    },
    {
      "cell_type": "code",
      "execution_count": null,
      "id": "b0e63119",
      "metadata": {
        "id": "b0e63119",
        "outputId": "41810c2b-8652-457e-e897-42c43d9c7070"
      },
      "outputs": [
        {
          "data": {
            "image/png": "[encoded data removed]",
            "text/plain": [
              "<Figure size 1440x1440 with 12 Axes>"
            ]
          },
          "metadata": {
            "needs_background": "light"
          },
          "output_type": "display_data"
        }
      ],
      "source": [
        "df_shill_bidding.hist(bins=30, figsize=(20,20), color='r');"
      ]
    },
    {
      "cell_type": "markdown",
      "id": "90f22ea6",
      "metadata": {
        "id": "90f22ea6"
      },
      "source": [
        "#### By looking at this histogram we can start to see some patterns on the data set. For example, the auction_bids feature shows us that the majority of bids are concentrated on the beginning of the auction. Acoording to the data dictionary above, this is explained by the fact that auctions with Shill Bidding activities tend to have a much higher number of bids than the average of bids in concurrent auctions. That behaviour along with the next histogram of the Starting_price_average already shows some indicators of a shill bidd. As we can see the average starting price is closer to zero, which means that this type of bid starts to be very suspicious, since they bid slow amounts right at the begining of the auction. \n",
        "#### Another feeling that we can have looking at this graph is that this is a very imbalanced data as per our target column. We can see on our Class histogram that the numbers of 0, which is regarding to normal bidding, is way higher than the numbers of 1, related to anomalous bidding. \n",
        "#### That alone makes me have the feeling that this type of behaviour, shill bidding, should be easy to spot when we run the Machine learning models, since  some of the features are very correlated to each other and the number of actual anomalous bidding is not so high to a point that could make the precision of our model lower. As this is a binary problem, with only two classes, the machine learning models should be able to pick it up the patternes preatty easily.\n",
        "\n",
        "#### We can also check if we have any features that are not actually significant  to this project. I believe that to predict shill bids we don´t need the \"Record_ID\", \"Auction_ID\" and \"Bidder_ID\" , since they are just identifiers of the bidder and the auction.  I am also droping the feature \"Auction_Duration\", since it is regarding to the duration of the auction, and as we can see, the duration doesn´t matter much since the behaviour of the shill bidders is to bid right in the beginning and right before it finishes so they don´t win the auction but they can up the prices. So I will drop these columns so our model runs better since it will have less features to try to find a pattern."
      ]
    },
    {
      "cell_type": "code",
      "execution_count": null,
      "id": "efd98984",
      "metadata": {
        "id": "efd98984"
      },
      "outputs": [],
      "source": [
        "df_shill_bidding.drop([\"Record_ID\", \"Auction_ID\", \"Bidder_ID\", \"Auction_Duration\"] ,axis=1, inplace=True)"
      ]
    },
    {
      "cell_type": "code",
      "execution_count": null,
      "id": "1b5c8586",
      "metadata": {
        "id": "1b5c8586",
        "outputId": "7640d5bb-81fe-4d63-94a4-61462c38b58f"
      },
      "outputs": [
        {
          "data": {
            "text/html": [
              "<div>\n",
              "<style scoped>\n",
              "    .dataframe tbody tr th:only-of-type {\n",
              "        vertical-align: middle;\n",
              "    }\n",
              "\n",
              "    .dataframe tbody tr th {\n",
              "        vertical-align: top;\n",
              "    }\n",
              "\n",
              "    .dataframe thead th {\n",
              "        text-align: right;\n",
              "    }\n",
              "</style>\n",
              "<table border=\"1\" class=\"dataframe\">\n",
              "  <thead>\n",
              "    <tr style=\"text-align: right;\">\n",
              "      <th></th>\n",
              "      <th>Bidder_Tendency</th>\n",
              "      <th>Bidding_Ratio</th>\n",
              "      <th>Successive_Outbidding</th>\n",
              "      <th>Last_Bidding</th>\n",
              "      <th>Auction_Bids</th>\n",
              "      <th>Starting_Price_Average</th>\n",
              "      <th>Early_Bidding</th>\n",
              "      <th>Winning_Ratio</th>\n",
              "      <th>Class</th>\n",
              "    </tr>\n",
              "  </thead>\n",
              "  <tbody>\n",
              "    <tr>\n",
              "      <th>0</th>\n",
              "      <td>0.200000</td>\n",
              "      <td>0.400000</td>\n",
              "      <td>0.0</td>\n",
              "      <td>0.000028</td>\n",
              "      <td>0.0</td>\n",
              "      <td>0.993593</td>\n",
              "      <td>0.000028</td>\n",
              "      <td>0.666667</td>\n",
              "      <td>0</td>\n",
              "    </tr>\n",
              "    <tr>\n",
              "      <th>1</th>\n",
              "      <td>0.024390</td>\n",
              "      <td>0.200000</td>\n",
              "      <td>0.0</td>\n",
              "      <td>0.013123</td>\n",
              "      <td>0.0</td>\n",
              "      <td>0.993593</td>\n",
              "      <td>0.013123</td>\n",
              "      <td>0.944444</td>\n",
              "      <td>0</td>\n",
              "    </tr>\n",
              "    <tr>\n",
              "      <th>2</th>\n",
              "      <td>0.142857</td>\n",
              "      <td>0.200000</td>\n",
              "      <td>0.0</td>\n",
              "      <td>0.003042</td>\n",
              "      <td>0.0</td>\n",
              "      <td>0.993593</td>\n",
              "      <td>0.003042</td>\n",
              "      <td>1.000000</td>\n",
              "      <td>0</td>\n",
              "    </tr>\n",
              "    <tr>\n",
              "      <th>3</th>\n",
              "      <td>0.100000</td>\n",
              "      <td>0.200000</td>\n",
              "      <td>0.0</td>\n",
              "      <td>0.097477</td>\n",
              "      <td>0.0</td>\n",
              "      <td>0.993593</td>\n",
              "      <td>0.097477</td>\n",
              "      <td>1.000000</td>\n",
              "      <td>0</td>\n",
              "    </tr>\n",
              "    <tr>\n",
              "      <th>4</th>\n",
              "      <td>0.051282</td>\n",
              "      <td>0.222222</td>\n",
              "      <td>0.0</td>\n",
              "      <td>0.001318</td>\n",
              "      <td>0.0</td>\n",
              "      <td>0.000000</td>\n",
              "      <td>0.001242</td>\n",
              "      <td>0.500000</td>\n",
              "      <td>0</td>\n",
              "    </tr>\n",
              "  </tbody>\n",
              "</table>\n",
              "</div>"
            ],
            "text/plain": [
              "   Bidder_Tendency  Bidding_Ratio  Successive_Outbidding  Last_Bidding  \\\n",
              "0         0.200000       0.400000                    0.0      0.000028   \n",
              "1         0.024390       0.200000                    0.0      0.013123   \n",
              "2         0.142857       0.200000                    0.0      0.003042   \n",
              "3         0.100000       0.200000                    0.0      0.097477   \n",
              "4         0.051282       0.222222                    0.0      0.001318   \n",
              "\n",
              "   Auction_Bids  Starting_Price_Average  Early_Bidding  Winning_Ratio  Class  \n",
              "0           0.0                0.993593       0.000028       0.666667      0  \n",
              "1           0.0                0.993593       0.013123       0.944444      0  \n",
              "2           0.0                0.993593       0.003042       1.000000      0  \n",
              "3           0.0                0.993593       0.097477       1.000000      0  \n",
              "4           0.0                0.000000       0.001242       0.500000      0  "
            ]
          },
          "execution_count": 11,
          "metadata": {},
          "output_type": "execute_result"
        }
      ],
      "source": [
        "# Let´s run the head() function just to check if the columns were droped. \n",
        "df_shill_bidding.head()"
      ]
    },
    {
      "cell_type": "code",
      "execution_count": null,
      "id": "c3b7190c",
      "metadata": {
        "id": "c3b7190c",
        "outputId": "bfe4ff30-c40f-44d2-fc15-8979649a6535"
      },
      "outputs": [
        {
          "data": {
            "image/png": "[encoded data removed]",
            "text/plain": [
              "<Figure size 432x288 with 1 Axes>"
            ]
          },
          "metadata": {
            "needs_background": "light"
          },
          "output_type": "display_data"
        }
      ],
      "source": [
        "df_shill_bidding.Class.value_counts(normalize=True).plot(kind=\"bar\", color=[\"salmon\", \"lightblue\"]);\n",
        "plt.xticks(rotation=0); # keep the labels on the x-axis vertical\n"
      ]
    },
    {
      "cell_type": "markdown",
      "id": "ac7bd4d3",
      "metadata": {
        "id": "ac7bd4d3"
      },
      "source": [
        "#### We can see that more than 80% of the data belongs to bids considered normal and a little over 15% is considered as anomalous bidding."
      ]
    },
    {
      "cell_type": "code",
      "execution_count": null,
      "id": "49cde3e2",
      "metadata": {
        "id": "49cde3e2",
        "outputId": "596ef3ae-16e6-4e25-c57c-5ed501e4dfb9"
      },
      "outputs": [
        {
          "data": {
            "image/png": "[encoded data removed]",
            "text/plain": [
              "<Figure size 432x288 with 2 Axes>"
            ]
          },
          "metadata": {
            "needs_background": "light"
          },
          "output_type": "display_data"
        }
      ],
      "source": [
        "correlation = df_shill_bidding.corr()\n",
        "plot = sns.heatmap(correlation, annot = True, fmt=\".2f\",linewidths=.5, vmin=-1, vmax=1, cmap= \"YlGnBu\")\n",
        "plot.set_title('Correlation Heatmap', fontdict={'fontsize':10}, pad=12);"
      ]
    },
    {
      "cell_type": "markdown",
      "id": "45c68e71",
      "metadata": {
        "id": "45c68e71"
      },
      "source": [
        "### We can see on the correlation graph above that Successive_Outbidding has a strong positive correlation with Class. That makes a lot of sense, because according to the dictionary, Successive outbidding happens when a shill bidder successively outbids himself even though he is the current winner to increase the price gradually with small consecutive increments, which will probabaly bee seen as a anomalous conduct."
      ]
    },
    {
      "cell_type": "markdown",
      "id": "7592f174",
      "metadata": {
        "id": "7592f174"
      },
      "source": [
        "## Anomalous bidding according to the Successive outbidding\n",
        "\n",
        "If you want to compare two columns to each other, you can use the function pd.crosstab(column_1, column_2).\n",
        "\n",
        "This is helpful if you want to start gaining an intuition about how your independent variables interact with your dependent variables.\n",
        "\n",
        "Let's compare our Class column with the Successive outbidding column.\n",
        "\n",
        "Remember from our data dictionary, for the Class column, 1 = Anomalous bidding, 0 = Normal bidding. And for Successive_Outbidding, I couldn´t find the legend for it, but I believe that 1 is when the bidder keeps outbidding himself continuosly and 0.5 and 0 is more like not doing so much outbid. That is what I infer from the crosstab below."
      ]
    },
    {
      "cell_type": "code",
      "execution_count": null,
      "id": "4d411b6b",
      "metadata": {
        "id": "4d411b6b",
        "outputId": "540f91d7-1476-439b-b0cd-eebff4f6b584"
      },
      "outputs": [
        {
          "data": {
            "text/html": [
              "<div>\n",
              "<style scoped>\n",
              "    .dataframe tbody tr th:only-of-type {\n",
              "        vertical-align: middle;\n",
              "    }\n",
              "\n",
              "    .dataframe tbody tr th {\n",
              "        vertical-align: top;\n",
              "    }\n",
              "\n",
              "    .dataframe thead th {\n",
              "        text-align: right;\n",
              "    }\n",
              "</style>\n",
              "<table border=\"1\" class=\"dataframe\">\n",
              "  <thead>\n",
              "    <tr style=\"text-align: right;\">\n",
              "      <th>Successive_Outbidding</th>\n",
              "      <th>0.0</th>\n",
              "      <th>0.5</th>\n",
              "      <th>1.0</th>\n",
              "    </tr>\n",
              "    <tr>\n",
              "      <th>Class</th>\n",
              "      <th></th>\n",
              "      <th></th>\n",
              "      <th></th>\n",
              "    </tr>\n",
              "  </thead>\n",
              "  <tbody>\n",
              "    <tr>\n",
              "      <th>0</th>\n",
              "      <td>5476</td>\n",
              "      <td>152</td>\n",
              "      <td>18</td>\n",
              "    </tr>\n",
              "    <tr>\n",
              "      <th>1</th>\n",
              "      <td>2</td>\n",
              "      <td>222</td>\n",
              "      <td>451</td>\n",
              "    </tr>\n",
              "  </tbody>\n",
              "</table>\n",
              "</div>"
            ],
            "text/plain": [
              "Successive_Outbidding   0.0  0.5  1.0\n",
              "Class                                \n",
              "0                      5476  152   18\n",
              "1                         2  222  451"
            ]
          },
          "execution_count": 14,
          "metadata": {},
          "output_type": "execute_result"
        }
      ],
      "source": [
        "pd.crosstab(df_shill_bidding[\"Class\"], df_shill_bidding[\"Successive_Outbidding\"])"
      ]
    },
    {
      "cell_type": "markdown",
      "id": "eeaa7b6a",
      "metadata": {
        "id": "eeaa7b6a"
      },
      "source": [
        "#### As we can see, it doesn´t look coincidence that the majority of Successive outbids that are considered as anomalous on the dataset falls into the 1.0 and 0.5 slot. While the bids that are considered normal holds a much less values of successive outbids. The connection is clear."
      ]
    },
    {
      "cell_type": "code",
      "execution_count": null,
      "id": "2afcdfa7",
      "metadata": {
        "id": "2afcdfa7"
      },
      "outputs": [],
      "source": [
        "normal_bids = df_shill_bidding[df_shill_bidding[\"Class\"]==0]\n",
        "anomalous_bids = df_shill_bidding[df_shill_bidding[\"Class\"]==1]                              \n"
      ]
    },
    {
      "cell_type": "markdown",
      "id": "c65a7c4d",
      "metadata": {
        "id": "c65a7c4d"
      },
      "source": [
        "### I decided to create these two subsets so we can see more clearly the difference between bids."
      ]
    },
    {
      "cell_type": "code",
      "execution_count": null,
      "id": "0b1f4d45",
      "metadata": {
        "id": "0b1f4d45",
        "outputId": "1b56b919-4c29-49ad-a1af-f8ea4700eff3"
      },
      "outputs": [
        {
          "name": "stdout",
          "output_type": "stream",
          "text": [
            "Total amount of bids = 6321\n",
            "Number of bids considered as anomalous = 675\n",
            "Percentage of bids considered as anomalous = 10.678690080683436\n",
            "Number of bids considered normal = 5646\n",
            "Percentage of bids considered normal = 89.32130991931656\n"
          ]
        }
      ],
      "source": [
        "print(\"Total amount of bids =\", len(df_shill_bidding))\n",
        "print(\"Number of bids considered as anomalous =\", len(anomalous_bids))\n",
        "print(\"Percentage of bids considered as anomalous =\", (len(anomalous_bids)/ len(df_shill_bidding))*100)\n",
        "print(\"Number of bids considered normal =\", len(normal_bids))\n",
        "print(\"Percentage of bids considered normal =\", (len(normal_bids)/ len(df_shill_bidding))*100)"
      ]
    },
    {
      "cell_type": "code",
      "execution_count": null,
      "id": "0e4718a5",
      "metadata": {
        "id": "0e4718a5",
        "outputId": "6a187d35-ea97-4a26-ad49-c161ec323565"
      },
      "outputs": [
        {
          "data": {
            "text/html": [
              "<div>\n",
              "<style scoped>\n",
              "    .dataframe tbody tr th:only-of-type {\n",
              "        vertical-align: middle;\n",
              "    }\n",
              "\n",
              "    .dataframe tbody tr th {\n",
              "        vertical-align: top;\n",
              "    }\n",
              "\n",
              "    .dataframe thead th {\n",
              "        text-align: right;\n",
              "    }\n",
              "</style>\n",
              "<table border=\"1\" class=\"dataframe\">\n",
              "  <thead>\n",
              "    <tr style=\"text-align: right;\">\n",
              "      <th></th>\n",
              "      <th>Bidder_Tendency</th>\n",
              "      <th>Bidding_Ratio</th>\n",
              "      <th>Successive_Outbidding</th>\n",
              "      <th>Last_Bidding</th>\n",
              "      <th>Auction_Bids</th>\n",
              "      <th>Starting_Price_Average</th>\n",
              "      <th>Early_Bidding</th>\n",
              "      <th>Winning_Ratio</th>\n",
              "      <th>Class</th>\n",
              "    </tr>\n",
              "  </thead>\n",
              "  <tbody>\n",
              "    <tr>\n",
              "      <th>count</th>\n",
              "      <td>5646.000000</td>\n",
              "      <td>5646.000000</td>\n",
              "      <td>5646.000000</td>\n",
              "      <td>5646.000000</td>\n",
              "      <td>5646.000000</td>\n",
              "      <td>5646.000000</td>\n",
              "      <td>5646.000000</td>\n",
              "      <td>5646.000000</td>\n",
              "      <td>5646.0</td>\n",
              "    </tr>\n",
              "    <tr>\n",
              "      <th>mean</th>\n",
              "      <td>0.122403</td>\n",
              "      <td>0.101775</td>\n",
              "      <td>0.016649</td>\n",
              "      <td>0.450286</td>\n",
              "      <td>0.227638</td>\n",
              "      <td>0.465605</td>\n",
              "      <td>0.423630</td>\n",
              "      <td>0.308242</td>\n",
              "      <td>0.0</td>\n",
              "    </tr>\n",
              "    <tr>\n",
              "      <th>std</th>\n",
              "      <td>0.177443</td>\n",
              "      <td>0.093187</td>\n",
              "      <td>0.098199</td>\n",
              "      <td>0.380862</td>\n",
              "      <td>0.255699</td>\n",
              "      <td>0.489642</td>\n",
              "      <td>0.381178</td>\n",
              "      <td>0.421624</td>\n",
              "      <td>0.0</td>\n",
              "    </tr>\n",
              "    <tr>\n",
              "      <th>min</th>\n",
              "      <td>0.000000</td>\n",
              "      <td>0.011765</td>\n",
              "      <td>0.000000</td>\n",
              "      <td>0.000000</td>\n",
              "      <td>0.000000</td>\n",
              "      <td>0.000000</td>\n",
              "      <td>0.000000</td>\n",
              "      <td>0.000000</td>\n",
              "      <td>0.0</td>\n",
              "    </tr>\n",
              "    <tr>\n",
              "      <th>25%</th>\n",
              "      <td>0.024793</td>\n",
              "      <td>0.040000</td>\n",
              "      <td>0.000000</td>\n",
              "      <td>0.037324</td>\n",
              "      <td>0.000000</td>\n",
              "      <td>0.000000</td>\n",
              "      <td>0.022877</td>\n",
              "      <td>0.000000</td>\n",
              "      <td>0.0</td>\n",
              "    </tr>\n",
              "    <tr>\n",
              "      <th>50%</th>\n",
              "      <td>0.055556</td>\n",
              "      <td>0.071429</td>\n",
              "      <td>0.000000</td>\n",
              "      <td>0.410174</td>\n",
              "      <td>0.100000</td>\n",
              "      <td>0.000000</td>\n",
              "      <td>0.339707</td>\n",
              "      <td>0.000000</td>\n",
              "      <td>0.0</td>\n",
              "    </tr>\n",
              "    <tr>\n",
              "      <th>75%</th>\n",
              "      <td>0.142857</td>\n",
              "      <td>0.125000</td>\n",
              "      <td>0.000000</td>\n",
              "      <td>0.851196</td>\n",
              "      <td>0.454545</td>\n",
              "      <td>0.993593</td>\n",
              "      <td>0.823714</td>\n",
              "      <td>0.812500</td>\n",
              "      <td>0.0</td>\n",
              "    </tr>\n",
              "    <tr>\n",
              "      <th>max</th>\n",
              "      <td>1.000000</td>\n",
              "      <td>0.857143</td>\n",
              "      <td>1.000000</td>\n",
              "      <td>0.999900</td>\n",
              "      <td>0.788235</td>\n",
              "      <td>0.999935</td>\n",
              "      <td>0.999900</td>\n",
              "      <td>1.000000</td>\n",
              "      <td>0.0</td>\n",
              "    </tr>\n",
              "  </tbody>\n",
              "</table>\n",
              "</div>"
            ],
            "text/plain": [
              "       Bidder_Tendency  Bidding_Ratio  Successive_Outbidding  Last_Bidding  \\\n",
              "count      5646.000000    5646.000000            5646.000000   5646.000000   \n",
              "mean          0.122403       0.101775               0.016649      0.450286   \n",
              "std           0.177443       0.093187               0.098199      0.380862   \n",
              "min           0.000000       0.011765               0.000000      0.000000   \n",
              "25%           0.024793       0.040000               0.000000      0.037324   \n",
              "50%           0.055556       0.071429               0.000000      0.410174   \n",
              "75%           0.142857       0.125000               0.000000      0.851196   \n",
              "max           1.000000       0.857143               1.000000      0.999900   \n",
              "\n",
              "       Auction_Bids  Starting_Price_Average  Early_Bidding  Winning_Ratio  \\\n",
              "count   5646.000000             5646.000000    5646.000000    5646.000000   \n",
              "mean       0.227638                0.465605       0.423630       0.308242   \n",
              "std        0.255699                0.489642       0.381178       0.421624   \n",
              "min        0.000000                0.000000       0.000000       0.000000   \n",
              "25%        0.000000                0.000000       0.022877       0.000000   \n",
              "50%        0.100000                0.000000       0.339707       0.000000   \n",
              "75%        0.454545                0.993593       0.823714       0.812500   \n",
              "max        0.788235                0.999935       0.999900       1.000000   \n",
              "\n",
              "        Class  \n",
              "count  5646.0  \n",
              "mean      0.0  \n",
              "std       0.0  \n",
              "min       0.0  \n",
              "25%       0.0  \n",
              "50%       0.0  \n",
              "75%       0.0  \n",
              "max       0.0  "
            ]
          },
          "execution_count": 17,
          "metadata": {},
          "output_type": "execute_result"
        }
      ],
      "source": [
        "normal_bids.describe()"
      ]
    },
    {
      "cell_type": "code",
      "execution_count": null,
      "id": "927c120c",
      "metadata": {
        "id": "927c120c",
        "outputId": "02e74514-50b8-4660-be66-326a150fabf9"
      },
      "outputs": [
        {
          "data": {
            "text/html": [
              "<div>\n",
              "<style scoped>\n",
              "    .dataframe tbody tr th:only-of-type {\n",
              "        vertical-align: middle;\n",
              "    }\n",
              "\n",
              "    .dataframe tbody tr th {\n",
              "        vertical-align: top;\n",
              "    }\n",
              "\n",
              "    .dataframe thead th {\n",
              "        text-align: right;\n",
              "    }\n",
              "</style>\n",
              "<table border=\"1\" class=\"dataframe\">\n",
              "  <thead>\n",
              "    <tr style=\"text-align: right;\">\n",
              "      <th></th>\n",
              "      <th>Bidder_Tendency</th>\n",
              "      <th>Bidding_Ratio</th>\n",
              "      <th>Successive_Outbidding</th>\n",
              "      <th>Last_Bidding</th>\n",
              "      <th>Auction_Bids</th>\n",
              "      <th>Starting_Price_Average</th>\n",
              "      <th>Early_Bidding</th>\n",
              "      <th>Winning_Ratio</th>\n",
              "      <th>Class</th>\n",
              "    </tr>\n",
              "  </thead>\n",
              "  <tbody>\n",
              "    <tr>\n",
              "      <th>count</th>\n",
              "      <td>675.000000</td>\n",
              "      <td>675.000000</td>\n",
              "      <td>675.000000</td>\n",
              "      <td>675.000000</td>\n",
              "      <td>675.000000</td>\n",
              "      <td>675.000000</td>\n",
              "      <td>675.000000</td>\n",
              "      <td>675.000000</td>\n",
              "      <td>675.0</td>\n",
              "    </tr>\n",
              "    <tr>\n",
              "      <th>mean</th>\n",
              "      <td>0.310979</td>\n",
              "      <td>0.344268</td>\n",
              "      <td>0.832593</td>\n",
              "      <td>0.570463</td>\n",
              "      <td>0.264797</td>\n",
              "      <td>0.533181</td>\n",
              "      <td>0.489674</td>\n",
              "      <td>0.865322</td>\n",
              "      <td>1.0</td>\n",
              "    </tr>\n",
              "    <tr>\n",
              "      <th>std</th>\n",
              "      <td>0.262102</td>\n",
              "      <td>0.192067</td>\n",
              "      <td>0.239259</td>\n",
              "      <td>0.356222</td>\n",
              "      <td>0.249207</td>\n",
              "      <td>0.488366</td>\n",
              "      <td>0.372559</td>\n",
              "      <td>0.143949</td>\n",
              "      <td>0.0</td>\n",
              "    </tr>\n",
              "    <tr>\n",
              "      <th>min</th>\n",
              "      <td>0.009063</td>\n",
              "      <td>0.070175</td>\n",
              "      <td>0.000000</td>\n",
              "      <td>0.000073</td>\n",
              "      <td>0.000000</td>\n",
              "      <td>0.000000</td>\n",
              "      <td>0.000002</td>\n",
              "      <td>0.000000</td>\n",
              "      <td>1.0</td>\n",
              "    </tr>\n",
              "    <tr>\n",
              "      <th>25%</th>\n",
              "      <td>0.104870</td>\n",
              "      <td>0.193548</td>\n",
              "      <td>0.500000</td>\n",
              "      <td>0.220891</td>\n",
              "      <td>0.000000</td>\n",
              "      <td>0.000000</td>\n",
              "      <td>0.077295</td>\n",
              "      <td>0.803226</td>\n",
              "      <td>1.0</td>\n",
              "    </tr>\n",
              "    <tr>\n",
              "      <th>50%</th>\n",
              "      <td>0.225806</td>\n",
              "      <td>0.294118</td>\n",
              "      <td>1.000000</td>\n",
              "      <td>0.664830</td>\n",
              "      <td>0.250000</td>\n",
              "      <td>0.961233</td>\n",
              "      <td>0.541917</td>\n",
              "      <td>0.884615</td>\n",
              "      <td>1.0</td>\n",
              "    </tr>\n",
              "    <tr>\n",
              "      <th>75%</th>\n",
              "      <td>0.458042</td>\n",
              "      <td>0.461538</td>\n",
              "      <td>1.000000</td>\n",
              "      <td>0.914694</td>\n",
              "      <td>0.470588</td>\n",
              "      <td>0.993593</td>\n",
              "      <td>0.858793</td>\n",
              "      <td>1.000000</td>\n",
              "      <td>1.0</td>\n",
              "    </tr>\n",
              "    <tr>\n",
              "      <th>max</th>\n",
              "      <td>1.000000</td>\n",
              "      <td>1.000000</td>\n",
              "      <td>1.000000</td>\n",
              "      <td>0.999820</td>\n",
              "      <td>0.788235</td>\n",
              "      <td>0.999935</td>\n",
              "      <td>0.999092</td>\n",
              "      <td>1.000000</td>\n",
              "      <td>1.0</td>\n",
              "    </tr>\n",
              "  </tbody>\n",
              "</table>\n",
              "</div>"
            ],
            "text/plain": [
              "       Bidder_Tendency  Bidding_Ratio  Successive_Outbidding  Last_Bidding  \\\n",
              "count       675.000000     675.000000             675.000000    675.000000   \n",
              "mean          0.310979       0.344268               0.832593      0.570463   \n",
              "std           0.262102       0.192067               0.239259      0.356222   \n",
              "min           0.009063       0.070175               0.000000      0.000073   \n",
              "25%           0.104870       0.193548               0.500000      0.220891   \n",
              "50%           0.225806       0.294118               1.000000      0.664830   \n",
              "75%           0.458042       0.461538               1.000000      0.914694   \n",
              "max           1.000000       1.000000               1.000000      0.999820   \n",
              "\n",
              "       Auction_Bids  Starting_Price_Average  Early_Bidding  Winning_Ratio  \\\n",
              "count    675.000000              675.000000     675.000000     675.000000   \n",
              "mean       0.264797                0.533181       0.489674       0.865322   \n",
              "std        0.249207                0.488366       0.372559       0.143949   \n",
              "min        0.000000                0.000000       0.000002       0.000000   \n",
              "25%        0.000000                0.000000       0.077295       0.803226   \n",
              "50%        0.250000                0.961233       0.541917       0.884615   \n",
              "75%        0.470588                0.993593       0.858793       1.000000   \n",
              "max        0.788235                0.999935       0.999092       1.000000   \n",
              "\n",
              "       Class  \n",
              "count  675.0  \n",
              "mean     1.0  \n",
              "std      0.0  \n",
              "min      1.0  \n",
              "25%      1.0  \n",
              "50%      1.0  \n",
              "75%      1.0  \n",
              "max      1.0  "
            ]
          },
          "execution_count": 18,
          "metadata": {},
          "output_type": "execute_result"
        }
      ],
      "source": [
        "anomalous_bids.describe()"
      ]
    },
    {
      "cell_type": "markdown",
      "id": "f702a998",
      "metadata": {
        "id": "f702a998"
      },
      "source": [
        "#### We can absolutely see the difference on the means of the atributtes. The atributtes with Class 1, the bids considered anomalous, have a much higher mean in every single atributte, which denotes a pattern that we will find on the machine learning model. "
      ]
    },
    {
      "cell_type": "code",
      "execution_count": null,
      "id": "eaaf039b",
      "metadata": {
        "id": "eaaf039b",
        "outputId": "eaa86ada-83b4-4ca7-e15f-0f36f1aececf"
      },
      "outputs": [
        {
          "data": {
            "image/png": "[encoded data removed]",
            "text/plain": [
              "<Figure size 1080x720 with 1 Axes>"
            ]
          },
          "metadata": {
            "needs_background": "light"
          },
          "output_type": "display_data"
        }
      ],
      "source": [
        "plt.figure(figsize=[15,10])\n",
        "sns.countplot(x= \"Successive_Outbidding\", hue = \"Class\", data=df_shill_bidding);"
      ]
    },
    {
      "cell_type": "markdown",
      "id": "f9b8362b",
      "metadata": {
        "id": "f9b8362b"
      },
      "source": [
        "### One more graph to verify that the amount of Successive outbidding increases torwards to the anomalous behavior."
      ]
    },
    {
      "cell_type": "code",
      "execution_count": null,
      "id": "f8617a99",
      "metadata": {
        "id": "f8617a99",
        "outputId": "7a574aa0-7a15-48ab-bb36-29c361472b6c"
      },
      "outputs": [
        {
          "data": {
            "image/png": "[encoded data removed]",
            "text/plain": [
              "<Figure size 1080x720 with 1 Axes>"
            ]
          },
          "metadata": {
            "needs_background": "light"
          },
          "output_type": "display_data"
        }
      ],
      "source": [
        "plt.figure(figsize=[15,10])\n",
        "sns.kdeplot(normal_bids[\"Successive_Outbidding\"], label = \"Normal Bidding\", shade = True, color=\"r\");\n",
        "sns.kdeplot(anomalous_bids[\"Successive_Outbidding\"], label = \"Anomalous Bidding\", shade = True, color=\"b\");"
      ]
    },
    {
      "cell_type": "markdown",
      "id": "5fe43927",
      "metadata": {
        "id": "5fe43927"
      },
      "source": [
        "### I believe we have formed a good intuition about this dataset doing this EDA. So now let´s start modeling!"
      ]
    },
    {
      "cell_type": "markdown",
      "id": "a8423fce",
      "metadata": {
        "id": "a8423fce"
      },
      "source": [
        "## Modeling"
      ]
    },
    {
      "cell_type": "markdown",
      "id": "94366b39",
      "metadata": {
        "id": "94366b39"
      },
      "source": [
        "#### So the problem we are trying to solve is to find out if we can classify using our machine learning skills if the bidding are shill bids or normal bids. \n",
        "\n",
        "But before we model, we have to get our dataset ready. Let´s have a look at it again.\n"
      ]
    },
    {
      "cell_type": "code",
      "execution_count": null,
      "id": "cf42f217",
      "metadata": {
        "id": "cf42f217",
        "outputId": "1f3d89e9-f26c-4297-a7da-d8037414e196"
      },
      "outputs": [
        {
          "data": {
            "text/html": [
              "<div>\n",
              "<style scoped>\n",
              "    .dataframe tbody tr th:only-of-type {\n",
              "        vertical-align: middle;\n",
              "    }\n",
              "\n",
              "    .dataframe tbody tr th {\n",
              "        vertical-align: top;\n",
              "    }\n",
              "\n",
              "    .dataframe thead th {\n",
              "        text-align: right;\n",
              "    }\n",
              "</style>\n",
              "<table border=\"1\" class=\"dataframe\">\n",
              "  <thead>\n",
              "    <tr style=\"text-align: right;\">\n",
              "      <th></th>\n",
              "      <th>Bidder_Tendency</th>\n",
              "      <th>Bidding_Ratio</th>\n",
              "      <th>Successive_Outbidding</th>\n",
              "      <th>Last_Bidding</th>\n",
              "      <th>Auction_Bids</th>\n",
              "      <th>Starting_Price_Average</th>\n",
              "      <th>Early_Bidding</th>\n",
              "      <th>Winning_Ratio</th>\n",
              "      <th>Class</th>\n",
              "    </tr>\n",
              "  </thead>\n",
              "  <tbody>\n",
              "    <tr>\n",
              "      <th>0</th>\n",
              "      <td>0.200000</td>\n",
              "      <td>0.400000</td>\n",
              "      <td>0.0</td>\n",
              "      <td>0.000028</td>\n",
              "      <td>0.0</td>\n",
              "      <td>0.993593</td>\n",
              "      <td>0.000028</td>\n",
              "      <td>0.666667</td>\n",
              "      <td>0</td>\n",
              "    </tr>\n",
              "    <tr>\n",
              "      <th>1</th>\n",
              "      <td>0.024390</td>\n",
              "      <td>0.200000</td>\n",
              "      <td>0.0</td>\n",
              "      <td>0.013123</td>\n",
              "      <td>0.0</td>\n",
              "      <td>0.993593</td>\n",
              "      <td>0.013123</td>\n",
              "      <td>0.944444</td>\n",
              "      <td>0</td>\n",
              "    </tr>\n",
              "    <tr>\n",
              "      <th>2</th>\n",
              "      <td>0.142857</td>\n",
              "      <td>0.200000</td>\n",
              "      <td>0.0</td>\n",
              "      <td>0.003042</td>\n",
              "      <td>0.0</td>\n",
              "      <td>0.993593</td>\n",
              "      <td>0.003042</td>\n",
              "      <td>1.000000</td>\n",
              "      <td>0</td>\n",
              "    </tr>\n",
              "    <tr>\n",
              "      <th>3</th>\n",
              "      <td>0.100000</td>\n",
              "      <td>0.200000</td>\n",
              "      <td>0.0</td>\n",
              "      <td>0.097477</td>\n",
              "      <td>0.0</td>\n",
              "      <td>0.993593</td>\n",
              "      <td>0.097477</td>\n",
              "      <td>1.000000</td>\n",
              "      <td>0</td>\n",
              "    </tr>\n",
              "    <tr>\n",
              "      <th>4</th>\n",
              "      <td>0.051282</td>\n",
              "      <td>0.222222</td>\n",
              "      <td>0.0</td>\n",
              "      <td>0.001318</td>\n",
              "      <td>0.0</td>\n",
              "      <td>0.000000</td>\n",
              "      <td>0.001242</td>\n",
              "      <td>0.500000</td>\n",
              "      <td>0</td>\n",
              "    </tr>\n",
              "  </tbody>\n",
              "</table>\n",
              "</div>"
            ],
            "text/plain": [
              "   Bidder_Tendency  Bidding_Ratio  Successive_Outbidding  Last_Bidding  \\\n",
              "0         0.200000       0.400000                    0.0      0.000028   \n",
              "1         0.024390       0.200000                    0.0      0.013123   \n",
              "2         0.142857       0.200000                    0.0      0.003042   \n",
              "3         0.100000       0.200000                    0.0      0.097477   \n",
              "4         0.051282       0.222222                    0.0      0.001318   \n",
              "\n",
              "   Auction_Bids  Starting_Price_Average  Early_Bidding  Winning_Ratio  Class  \n",
              "0           0.0                0.993593       0.000028       0.666667      0  \n",
              "1           0.0                0.993593       0.013123       0.944444      0  \n",
              "2           0.0                0.993593       0.003042       1.000000      0  \n",
              "3           0.0                0.993593       0.097477       1.000000      0  \n",
              "4           0.0                0.000000       0.001242       0.500000      0  "
            ]
          },
          "execution_count": 21,
          "metadata": {},
          "output_type": "execute_result"
        }
      ],
      "source": [
        "df_shill_bidding.head()"
      ]
    },
    {
      "cell_type": "markdown",
      "id": "61e71682",
      "metadata": {
        "id": "61e71682"
      },
      "source": [
        "We're trying to predict our target variable (Class) using all of the other variables.\n",
        "\n",
        "To do this, we'll split the target variable from the rest.\n",
        "\n"
      ]
    },
    {
      "cell_type": "code",
      "execution_count": null,
      "id": "38d2b47f",
      "metadata": {
        "id": "38d2b47f"
      },
      "outputs": [],
      "source": [
        "# Everything except target variable\n",
        "X = df_shill_bidding.drop(\"Class\", axis=1)\n",
        "\n",
        "# Target variable\n",
        "y = df_shill_bidding.Class.values"
      ]
    },
    {
      "cell_type": "markdown",
      "id": "0b1c428c",
      "metadata": {
        "id": "0b1c428c"
      },
      "source": [
        "Let's see our new variables."
      ]
    },
    {
      "cell_type": "code",
      "execution_count": null,
      "id": "410886a2",
      "metadata": {
        "id": "410886a2",
        "outputId": "4ff3da19-a43a-49d6-a7eb-f9464efc68c3"
      },
      "outputs": [
        {
          "data": {
            "text/html": [
              "<div>\n",
              "<style scoped>\n",
              "    .dataframe tbody tr th:only-of-type {\n",
              "        vertical-align: middle;\n",
              "    }\n",
              "\n",
              "    .dataframe tbody tr th {\n",
              "        vertical-align: top;\n",
              "    }\n",
              "\n",
              "    .dataframe thead th {\n",
              "        text-align: right;\n",
              "    }\n",
              "</style>\n",
              "<table border=\"1\" class=\"dataframe\">\n",
              "  <thead>\n",
              "    <tr style=\"text-align: right;\">\n",
              "      <th></th>\n",
              "      <th>Bidder_Tendency</th>\n",
              "      <th>Bidding_Ratio</th>\n",
              "      <th>Successive_Outbidding</th>\n",
              "      <th>Last_Bidding</th>\n",
              "      <th>Auction_Bids</th>\n",
              "      <th>Starting_Price_Average</th>\n",
              "      <th>Early_Bidding</th>\n",
              "      <th>Winning_Ratio</th>\n",
              "    </tr>\n",
              "  </thead>\n",
              "  <tbody>\n",
              "    <tr>\n",
              "      <th>0</th>\n",
              "      <td>0.200000</td>\n",
              "      <td>0.400000</td>\n",
              "      <td>0.0</td>\n",
              "      <td>0.000028</td>\n",
              "      <td>0.0</td>\n",
              "      <td>0.993593</td>\n",
              "      <td>0.000028</td>\n",
              "      <td>0.666667</td>\n",
              "    </tr>\n",
              "    <tr>\n",
              "      <th>1</th>\n",
              "      <td>0.024390</td>\n",
              "      <td>0.200000</td>\n",
              "      <td>0.0</td>\n",
              "      <td>0.013123</td>\n",
              "      <td>0.0</td>\n",
              "      <td>0.993593</td>\n",
              "      <td>0.013123</td>\n",
              "      <td>0.944444</td>\n",
              "    </tr>\n",
              "    <tr>\n",
              "      <th>2</th>\n",
              "      <td>0.142857</td>\n",
              "      <td>0.200000</td>\n",
              "      <td>0.0</td>\n",
              "      <td>0.003042</td>\n",
              "      <td>0.0</td>\n",
              "      <td>0.993593</td>\n",
              "      <td>0.003042</td>\n",
              "      <td>1.000000</td>\n",
              "    </tr>\n",
              "    <tr>\n",
              "      <th>3</th>\n",
              "      <td>0.100000</td>\n",
              "      <td>0.200000</td>\n",
              "      <td>0.0</td>\n",
              "      <td>0.097477</td>\n",
              "      <td>0.0</td>\n",
              "      <td>0.993593</td>\n",
              "      <td>0.097477</td>\n",
              "      <td>1.000000</td>\n",
              "    </tr>\n",
              "    <tr>\n",
              "      <th>4</th>\n",
              "      <td>0.051282</td>\n",
              "      <td>0.222222</td>\n",
              "      <td>0.0</td>\n",
              "      <td>0.001318</td>\n",
              "      <td>0.0</td>\n",
              "      <td>0.000000</td>\n",
              "      <td>0.001242</td>\n",
              "      <td>0.500000</td>\n",
              "    </tr>\n",
              "  </tbody>\n",
              "</table>\n",
              "</div>"
            ],
            "text/plain": [
              "   Bidder_Tendency  Bidding_Ratio  Successive_Outbidding  Last_Bidding  \\\n",
              "0         0.200000       0.400000                    0.0      0.000028   \n",
              "1         0.024390       0.200000                    0.0      0.013123   \n",
              "2         0.142857       0.200000                    0.0      0.003042   \n",
              "3         0.100000       0.200000                    0.0      0.097477   \n",
              "4         0.051282       0.222222                    0.0      0.001318   \n",
              "\n",
              "   Auction_Bids  Starting_Price_Average  Early_Bidding  Winning_Ratio  \n",
              "0           0.0                0.993593       0.000028       0.666667  \n",
              "1           0.0                0.993593       0.013123       0.944444  \n",
              "2           0.0                0.993593       0.003042       1.000000  \n",
              "3           0.0                0.993593       0.097477       1.000000  \n",
              "4           0.0                0.000000       0.001242       0.500000  "
            ]
          },
          "execution_count": 23,
          "metadata": {},
          "output_type": "execute_result"
        }
      ],
      "source": [
        "# Independent variables (no target column)\n",
        "X.head()"
      ]
    },
    {
      "cell_type": "code",
      "execution_count": null,
      "id": "fcb53676",
      "metadata": {
        "id": "fcb53676",
        "outputId": "7fd04633-1011-4f03-9454-597bcb0d8919"
      },
      "outputs": [
        {
          "data": {
            "text/plain": [
              "array([0, 0, 0, ..., 0, 0, 0], dtype=int64)"
            ]
          },
          "execution_count": 24,
          "metadata": {},
          "output_type": "execute_result"
        }
      ],
      "source": [
        "# Targets\n",
        "y"
      ]
    },
    {
      "cell_type": "markdown",
      "id": "1322684e",
      "metadata": {
        "id": "1322684e"
      },
      "source": [
        "### Training and test split\n",
        "\n",
        "Now comes one of the most important concepts in machine learning, the **training/test split**.\n",
        "\n",
        "This is where we'll split our data into a **training set** and a **test set**.\n",
        "\n",
        "We use our training set to train our model and our test set to test it.\n",
        "\n",
        "The test set must remain separate from our training set."
      ]
    },
    {
      "cell_type": "markdown",
      "id": "d9bf7c80",
      "metadata": {
        "id": "d9bf7c80"
      },
      "source": [
        "To split our data into a training and test set, we can use Scikit-Learn's train_test_split and feed it our independent and dependent variables (`X` & `y`). Let´s do it!"
      ]
    },
    {
      "cell_type": "code",
      "execution_count": null,
      "id": "98843062",
      "metadata": {
        "id": "98843062"
      },
      "outputs": [],
      "source": [
        "from sklearn.model_selection import train_test_split\n",
        "X_train, X_test, y_train, y_test = train_test_split(X, y, test_size=0.2)"
      ]
    },
    {
      "cell_type": "markdown",
      "id": "41d6bf29",
      "metadata": {
        "id": "41d6bf29"
      },
      "source": [
        "The test_size parameter is used to tell the train_test_split() function how much of our data we want in the test set.\n",
        "\n",
        "It is common to use 80% of your data to train on and the other 20% to test on.\n",
        "\n",
        "Let's look at our training data."
      ]
    },
    {
      "cell_type": "code",
      "execution_count": null,
      "id": "87d0e024",
      "metadata": {
        "id": "87d0e024",
        "outputId": "86efaf4f-17f0-490d-9e2d-887807e574af"
      },
      "outputs": [
        {
          "data": {
            "text/html": [
              "<div>\n",
              "<style scoped>\n",
              "    .dataframe tbody tr th:only-of-type {\n",
              "        vertical-align: middle;\n",
              "    }\n",
              "\n",
              "    .dataframe tbody tr th {\n",
              "        vertical-align: top;\n",
              "    }\n",
              "\n",
              "    .dataframe thead th {\n",
              "        text-align: right;\n",
              "    }\n",
              "</style>\n",
              "<table border=\"1\" class=\"dataframe\">\n",
              "  <thead>\n",
              "    <tr style=\"text-align: right;\">\n",
              "      <th></th>\n",
              "      <th>Bidder_Tendency</th>\n",
              "      <th>Bidding_Ratio</th>\n",
              "      <th>Successive_Outbidding</th>\n",
              "      <th>Last_Bidding</th>\n",
              "      <th>Auction_Bids</th>\n",
              "      <th>Starting_Price_Average</th>\n",
              "      <th>Early_Bidding</th>\n",
              "      <th>Winning_Ratio</th>\n",
              "    </tr>\n",
              "  </thead>\n",
              "  <tbody>\n",
              "    <tr>\n",
              "      <th>1262</th>\n",
              "      <td>0.012346</td>\n",
              "      <td>0.045455</td>\n",
              "      <td>0.0</td>\n",
              "      <td>0.022039</td>\n",
              "      <td>0.181818</td>\n",
              "      <td>0.000000</td>\n",
              "      <td>0.022039</td>\n",
              "      <td>0.000000</td>\n",
              "    </tr>\n",
              "    <tr>\n",
              "      <th>308</th>\n",
              "      <td>0.028571</td>\n",
              "      <td>0.052632</td>\n",
              "      <td>0.0</td>\n",
              "      <td>0.874185</td>\n",
              "      <td>0.052632</td>\n",
              "      <td>0.000000</td>\n",
              "      <td>0.874185</td>\n",
              "      <td>0.000000</td>\n",
              "    </tr>\n",
              "    <tr>\n",
              "      <th>1962</th>\n",
              "      <td>0.555556</td>\n",
              "      <td>0.250000</td>\n",
              "      <td>0.0</td>\n",
              "      <td>0.281743</td>\n",
              "      <td>0.100000</td>\n",
              "      <td>0.000000</td>\n",
              "      <td>0.187318</td>\n",
              "      <td>0.666667</td>\n",
              "    </tr>\n",
              "    <tr>\n",
              "      <th>276</th>\n",
              "      <td>0.052632</td>\n",
              "      <td>0.166667</td>\n",
              "      <td>0.0</td>\n",
              "      <td>0.142917</td>\n",
              "      <td>0.000000</td>\n",
              "      <td>0.000000</td>\n",
              "      <td>0.142917</td>\n",
              "      <td>0.727273</td>\n",
              "    </tr>\n",
              "    <tr>\n",
              "      <th>2665</th>\n",
              "      <td>0.024793</td>\n",
              "      <td>0.096774</td>\n",
              "      <td>0.0</td>\n",
              "      <td>0.974437</td>\n",
              "      <td>0.419355</td>\n",
              "      <td>0.993528</td>\n",
              "      <td>0.974437</td>\n",
              "      <td>0.000000</td>\n",
              "    </tr>\n",
              "  </tbody>\n",
              "</table>\n",
              "</div>"
            ],
            "text/plain": [
              "      Bidder_Tendency  Bidding_Ratio  Successive_Outbidding  Last_Bidding  \\\n",
              "1262         0.012346       0.045455                    0.0      0.022039   \n",
              "308          0.028571       0.052632                    0.0      0.874185   \n",
              "1962         0.555556       0.250000                    0.0      0.281743   \n",
              "276          0.052632       0.166667                    0.0      0.142917   \n",
              "2665         0.024793       0.096774                    0.0      0.974437   \n",
              "\n",
              "      Auction_Bids  Starting_Price_Average  Early_Bidding  Winning_Ratio  \n",
              "1262      0.181818                0.000000       0.022039       0.000000  \n",
              "308       0.052632                0.000000       0.874185       0.000000  \n",
              "1962      0.100000                0.000000       0.187318       0.666667  \n",
              "276       0.000000                0.000000       0.142917       0.727273  \n",
              "2665      0.419355                0.993528       0.974437       0.000000  "
            ]
          },
          "execution_count": 26,
          "metadata": {},
          "output_type": "execute_result"
        }
      ],
      "source": [
        "X_train.head()"
      ]
    },
    {
      "cell_type": "code",
      "execution_count": null,
      "id": "d9bf25d0",
      "metadata": {
        "id": "d9bf25d0",
        "outputId": "03136965-9ac6-4bc2-d479-e6f4783ca8d4"
      },
      "outputs": [
        {
          "data": {
            "text/plain": [
              "(array([0, 0, 0, ..., 0, 0, 0], dtype=int64), 5056)"
            ]
          },
          "execution_count": 27,
          "metadata": {},
          "output_type": "execute_result"
        }
      ],
      "source": [
        "y_train, len(y_train)"
      ]
    },
    {
      "cell_type": "markdown",
      "id": "90b155ab",
      "metadata": {
        "id": "90b155ab"
      },
      "source": [
        "We can see we're using 5056 samples to train on. Let's look at our test data."
      ]
    },
    {
      "cell_type": "code",
      "execution_count": null,
      "id": "9888ad24",
      "metadata": {
        "id": "9888ad24",
        "outputId": "c97892a5-9dc6-48ae-cf51-ea37f0167ce4"
      },
      "outputs": [
        {
          "data": {
            "text/html": [
              "<div>\n",
              "<style scoped>\n",
              "    .dataframe tbody tr th:only-of-type {\n",
              "        vertical-align: middle;\n",
              "    }\n",
              "\n",
              "    .dataframe tbody tr th {\n",
              "        vertical-align: top;\n",
              "    }\n",
              "\n",
              "    .dataframe thead th {\n",
              "        text-align: right;\n",
              "    }\n",
              "</style>\n",
              "<table border=\"1\" class=\"dataframe\">\n",
              "  <thead>\n",
              "    <tr style=\"text-align: right;\">\n",
              "      <th></th>\n",
              "      <th>Bidder_Tendency</th>\n",
              "      <th>Bidding_Ratio</th>\n",
              "      <th>Successive_Outbidding</th>\n",
              "      <th>Last_Bidding</th>\n",
              "      <th>Auction_Bids</th>\n",
              "      <th>Starting_Price_Average</th>\n",
              "      <th>Early_Bidding</th>\n",
              "      <th>Winning_Ratio</th>\n",
              "    </tr>\n",
              "  </thead>\n",
              "  <tbody>\n",
              "    <tr>\n",
              "      <th>3230</th>\n",
              "      <td>0.533333</td>\n",
              "      <td>0.571429</td>\n",
              "      <td>1.0</td>\n",
              "      <td>0.856200</td>\n",
              "      <td>0.000000</td>\n",
              "      <td>0.000000</td>\n",
              "      <td>0.855806</td>\n",
              "      <td>1.0</td>\n",
              "    </tr>\n",
              "    <tr>\n",
              "      <th>5108</th>\n",
              "      <td>0.090909</td>\n",
              "      <td>0.040000</td>\n",
              "      <td>0.0</td>\n",
              "      <td>0.829008</td>\n",
              "      <td>0.280000</td>\n",
              "      <td>0.993593</td>\n",
              "      <td>0.829008</td>\n",
              "      <td>0.0</td>\n",
              "    </tr>\n",
              "    <tr>\n",
              "      <th>2234</th>\n",
              "      <td>0.066667</td>\n",
              "      <td>0.027778</td>\n",
              "      <td>0.0</td>\n",
              "      <td>0.937697</td>\n",
              "      <td>0.500000</td>\n",
              "      <td>0.935605</td>\n",
              "      <td>0.937697</td>\n",
              "      <td>0.0</td>\n",
              "    </tr>\n",
              "    <tr>\n",
              "      <th>4095</th>\n",
              "      <td>0.008696</td>\n",
              "      <td>0.047619</td>\n",
              "      <td>0.0</td>\n",
              "      <td>0.271312</td>\n",
              "      <td>0.142857</td>\n",
              "      <td>0.935346</td>\n",
              "      <td>0.271312</td>\n",
              "      <td>0.0</td>\n",
              "    </tr>\n",
              "    <tr>\n",
              "      <th>1955</th>\n",
              "      <td>0.076923</td>\n",
              "      <td>0.033333</td>\n",
              "      <td>0.0</td>\n",
              "      <td>0.968549</td>\n",
              "      <td>0.400000</td>\n",
              "      <td>0.993593</td>\n",
              "      <td>0.968549</td>\n",
              "      <td>0.0</td>\n",
              "    </tr>\n",
              "  </tbody>\n",
              "</table>\n",
              "</div>"
            ],
            "text/plain": [
              "      Bidder_Tendency  Bidding_Ratio  Successive_Outbidding  Last_Bidding  \\\n",
              "3230         0.533333       0.571429                    1.0      0.856200   \n",
              "5108         0.090909       0.040000                    0.0      0.829008   \n",
              "2234         0.066667       0.027778                    0.0      0.937697   \n",
              "4095         0.008696       0.047619                    0.0      0.271312   \n",
              "1955         0.076923       0.033333                    0.0      0.968549   \n",
              "\n",
              "      Auction_Bids  Starting_Price_Average  Early_Bidding  Winning_Ratio  \n",
              "3230      0.000000                0.000000       0.855806            1.0  \n",
              "5108      0.280000                0.993593       0.829008            0.0  \n",
              "2234      0.500000                0.935605       0.937697            0.0  \n",
              "4095      0.142857                0.935346       0.271312            0.0  \n",
              "1955      0.400000                0.993593       0.968549            0.0  "
            ]
          },
          "execution_count": 28,
          "metadata": {},
          "output_type": "execute_result"
        }
      ],
      "source": [
        "X_test.head()"
      ]
    },
    {
      "cell_type": "code",
      "execution_count": null,
      "id": "b2e96518",
      "metadata": {
        "id": "b2e96518",
        "outputId": "5b97327e-c83c-4ec1-a860-8c67989799ce"
      },
      "outputs": [
        {
          "data": {
            "text/plain": [
              "(array([1, 0, 0, ..., 0, 0, 0], dtype=int64), 1265)"
            ]
          },
          "execution_count": 29,
          "metadata": {},
          "output_type": "execute_result"
        }
      ],
      "source": [
        "y_test, len(y_test)"
      ]
    },
    {
      "cell_type": "markdown",
      "id": "5d140492",
      "metadata": {
        "id": "5d140492"
      },
      "source": [
        "### Model choices\n",
        "\n",
        "Now we've got our data prepared, we can start to fit models. We'll be using the following and comparing their results.\n",
        "\n",
        "1. Logistic Regression - LogisticRegression()\n",
        "2. RandomForest - RandomForestClassifier()\n",
        "3. Neural Network - RandomForestClassifier()"
      ]
    },
    {
      "cell_type": "markdown",
      "id": "e7f4f226",
      "metadata": {
        "id": "e7f4f226"
      },
      "source": [
        "#### Why these?\n",
        "\n",
        "If we look at the [Scikit-Learn algorithm cheat sheet](https://scikit-learn.org/stable/tutorial/machine_learning_map/index.html), we can see we're working on a classification problem and these are the algorithms it suggests (plus a few more)."
      ]
    },
    {
      "cell_type": "markdown",
      "id": "ea732d1e",
      "metadata": {
        "id": "ea732d1e"
      },
      "source": [
        "#### I will be implementing the models one by one for better visualization. \n",
        "#### So let´s go to the implementation of the Logistic Regression model using an library from sklearn."
      ]
    },
    {
      "cell_type": "code",
      "execution_count": null,
      "id": "116266d8",
      "metadata": {
        "id": "116266d8"
      },
      "outputs": [],
      "source": [
        "from sklearn.linear_model import LogisticRegression"
      ]
    },
    {
      "cell_type": "code",
      "execution_count": null,
      "id": "a4b7683e",
      "metadata": {
        "id": "a4b7683e",
        "outputId": "c69266ad-289b-434a-c5ff-5ad2a2c54dce"
      },
      "outputs": [
        {
          "data": {
            "text/plain": [
              "LogisticRegression()"
            ]
          },
          "execution_count": 31,
          "metadata": {},
          "output_type": "execute_result"
        }
      ],
      "source": [
        "logistic = LogisticRegression()\n",
        "logistic.fit(X_train, y_train)\n"
      ]
    },
    {
      "cell_type": "markdown",
      "id": "55b1ef74",
      "metadata": {
        "id": "55b1ef74"
      },
      "source": [
        "The training is done and know we can make some prediction on the test dataset"
      ]
    },
    {
      "cell_type": "code",
      "execution_count": null,
      "id": "7007e3ac",
      "metadata": {
        "id": "7007e3ac",
        "outputId": "202d0029-33db-45b4-8cd3-e361e7fdbab6"
      },
      "outputs": [
        {
          "data": {
            "text/plain": [
              "array([1, 0, 0, ..., 0, 0, 0], dtype=int64)"
            ]
          },
          "execution_count": 32,
          "metadata": {},
          "output_type": "execute_result"
        }
      ],
      "source": [
        "y_pred = logistic.predict(X_test)\n",
        "y_pred"
      ]
    },
    {
      "cell_type": "code",
      "execution_count": null,
      "id": "5a056179",
      "metadata": {
        "id": "5a056179",
        "outputId": "3256c965-579f-4f77-ee62-923c827f72f7"
      },
      "outputs": [
        {
          "data": {
            "text/plain": [
              "array([1, 0, 0, ..., 0, 0, 0], dtype=int64)"
            ]
          },
          "execution_count": 33,
          "metadata": {},
          "output_type": "execute_result"
        }
      ],
      "source": [
        "y_test"
      ]
    },
    {
      "cell_type": "markdown",
      "id": "5f8bd883",
      "metadata": {
        "id": "5f8bd883"
      },
      "source": [
        "Now we can check the accuracy of our prediction above between the predict values and the real values"
      ]
    },
    {
      "cell_type": "code",
      "execution_count": null,
      "id": "00c66c03",
      "metadata": {
        "id": "00c66c03"
      },
      "outputs": [],
      "source": [
        "from sklearn.metrics import accuracy_score"
      ]
    },
    {
      "cell_type": "code",
      "execution_count": null,
      "id": "29dcec07",
      "metadata": {
        "id": "29dcec07",
        "outputId": "fdacd9f8-0ff7-4b1e-a064-a3de416ca10f"
      },
      "outputs": [
        {
          "data": {
            "text/plain": [
              "0.9683794466403162"
            ]
          },
          "execution_count": 35,
          "metadata": {},
          "output_type": "execute_result"
        }
      ],
      "source": [
        "accuracy_score(y_test, y_pred)"
      ]
    },
    {
      "cell_type": "markdown",
      "id": "e544cb86",
      "metadata": {
        "id": "e544cb86"
      },
      "source": [
        "### We have reached an accuracy of approximatelly 98%. Pretty good."
      ]
    },
    {
      "cell_type": "markdown",
      "id": "c183e778",
      "metadata": {
        "id": "c183e778"
      },
      "source": [
        "That means that every time we try to classify if the bid is a shill bidding or a normal one, we have 98% chance to classify correctly the type of bid.\n",
        "But we still need to analyze other metrics like precision and recall to really make sure we are making the right predictions."
      ]
    },
    {
      "cell_type": "markdown",
      "id": "3b0a4e5f",
      "metadata": {
        "id": "3b0a4e5f"
      },
      "source": [
        "Fot that to be done, we are going to need to import a confusion matrix that will give us these other metrics."
      ]
    },
    {
      "cell_type": "code",
      "execution_count": null,
      "id": "295062be",
      "metadata": {
        "id": "295062be"
      },
      "outputs": [],
      "source": [
        "from sklearn.metrics import confusion_matrix"
      ]
    },
    {
      "cell_type": "code",
      "execution_count": null,
      "id": "1ccb5ce1",
      "metadata": {
        "id": "1ccb5ce1",
        "outputId": "eb229ade-e71b-4944-a24d-12a2b12b6b09"
      },
      "outputs": [
        {
          "data": {
            "text/plain": [
              "array([[1101,   18],\n",
              "       [  22,  124]], dtype=int64)"
            ]
          },
          "execution_count": 37,
          "metadata": {},
          "output_type": "execute_result"
        }
      ],
      "source": [
        "cm= confusion_matrix(y_test, y_pred)\n",
        "cm"
      ]
    },
    {
      "cell_type": "markdown",
      "id": "a5ec0f2b",
      "metadata": {
        "id": "a5ec0f2b"
      },
      "source": [
        "#### We have on the first line of the array the class 0 and on the second line the class 1. For better visualizaton I will deploy a graph using heatmap from seaborn"
      ]
    },
    {
      "cell_type": "code",
      "execution_count": null,
      "id": "2cef915f",
      "metadata": {
        "id": "2cef915f",
        "outputId": "5ab6d08d-1b10-4b74-b50e-8a6daa50f411"
      },
      "outputs": [
        {
          "data": {
            "image/png": "[encoded data removed]",
            "text/plain": [
              "<Figure size 432x288 with 2 Axes>"
            ]
          },
          "metadata": {
            "needs_background": "light"
          },
          "output_type": "display_data"
        }
      ],
      "source": [
        "sns.heatmap(cm, annot=True);"
      ]
    },
    {
      "cell_type": "markdown",
      "id": "47f9aa10",
      "metadata": {
        "id": "47f9aa10"
      },
      "source": [
        "#### So we can see that our algorithm classified 17 bids as normal, when in fact they were shill bids, and 9 as shill bids when actually they were normal bids. In the other hand, it predicted very well the amount of normal bids and shill bids."
      ]
    },
    {
      "cell_type": "markdown",
      "id": "e168fac0",
      "metadata": {
        "id": "e168fac0"
      },
      "source": [
        "#### So now let´s check the precision and recall of this model also using sklearn"
      ]
    },
    {
      "cell_type": "code",
      "execution_count": null,
      "id": "3aae1a81",
      "metadata": {
        "id": "3aae1a81"
      },
      "outputs": [],
      "source": [
        "from sklearn.metrics import precision_score, recall_score, f1_score, classification_report"
      ]
    },
    {
      "cell_type": "code",
      "execution_count": null,
      "id": "162fecf6",
      "metadata": {
        "id": "162fecf6",
        "outputId": "c7739e2c-51da-4c94-b07f-291c0441d3b9"
      },
      "outputs": [
        {
          "data": {
            "text/plain": [
              "0.8732394366197183"
            ]
          },
          "execution_count": 40,
          "metadata": {},
          "output_type": "execute_result"
        }
      ],
      "source": [
        "precision_score(y_test, y_pred)"
      ]
    },
    {
      "cell_type": "code",
      "execution_count": null,
      "id": "d2b8cb99",
      "metadata": {
        "id": "d2b8cb99",
        "outputId": "879dd2c1-ce86-49fd-9aa7-7a6d02599eb1"
      },
      "outputs": [
        {
          "data": {
            "text/plain": [
              "0.8493150684931506"
            ]
          },
          "execution_count": 41,
          "metadata": {},
          "output_type": "execute_result"
        }
      ],
      "source": [
        "recall_score(y_test, y_pred)"
      ]
    },
    {
      "cell_type": "code",
      "execution_count": null,
      "id": "08331b3d",
      "metadata": {
        "id": "08331b3d",
        "outputId": "cc473713-f821-405f-fcc2-d6a6794f197b"
      },
      "outputs": [
        {
          "data": {
            "text/plain": [
              "0.9216349489543068"
            ]
          },
          "execution_count": 42,
          "metadata": {},
          "output_type": "execute_result"
        }
      ],
      "source": [
        "f1_score(y_test, y_pred, average=\"macro\")"
      ]
    },
    {
      "cell_type": "code",
      "execution_count": null,
      "id": "7c402690",
      "metadata": {
        "id": "7c402690",
        "outputId": "2e3184ed-ee24-4d7e-e1dc-1b4919872d84"
      },
      "outputs": [
        {
          "name": "stdout",
          "output_type": "stream",
          "text": [
            "              precision    recall  f1-score   support\n",
            "\n",
            "           0       0.98      0.98      0.98      1119\n",
            "           1       0.87      0.85      0.86       146\n",
            "\n",
            "    accuracy                           0.97      1265\n",
            "   macro avg       0.93      0.92      0.92      1265\n",
            "weighted avg       0.97      0.97      0.97      1265\n",
            "\n"
          ]
        }
      ],
      "source": [
        "print(classification_report(y_test, y_pred))"
      ]
    },
    {
      "cell_type": "code",
      "execution_count": null,
      "id": "7da693af",
      "metadata": {
        "id": "7da693af"
      },
      "outputs": [],
      "source": []
    }
  ],
  "metadata": {
    "kernelspec": {
      "display_name": "Python 3",
      "language": "python",
      "name": "python3"
    },
    "language_info": {
      "codemirror_mode": {
        "name": "ipython",
        "version": 3
      },
      "file_extension": ".py",
      "mimetype": "text/x-python",
      "name": "python",
      "nbconvert_exporter": "python",
      "pygments_lexer": "ipython3",
      "version": "3.8.8"
    },
    "colab": {
      "provenance": []
    }
  },
  "nbformat": 4,
  "nbformat_minor": 5
}