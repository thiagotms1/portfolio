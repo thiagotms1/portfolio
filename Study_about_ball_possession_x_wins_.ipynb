{
  "cells": [
    {
      "cell_type": "code",
      "execution_count": null,
      "id": "73811a84",
      "metadata": {
        "id": "73811a84"
      },
      "outputs": [],
      "source": [
        "import pandas as pd\n",
        "import matplotlib.pyplot as plt\n",
        "import numpy as np\n",
        "import seaborn as sns\n",
        "sns.set()\n",
        "from sklearn.metrics import r2_score "
      ]
    },
    {
      "cell_type": "code",
      "execution_count": null,
      "id": "d3228424",
      "metadata": {
        "scrolled": true,
        "id": "d3228424",
        "outputId": "420b1755-e742-41f3-d0c5-7bf49d42313f"
      },
      "outputs": [
        {
          "data": {
            "text/html": [
              "<div>\n",
              "<style scoped>\n",
              "    .dataframe tbody tr th:only-of-type {\n",
              "        vertical-align: middle;\n",
              "    }\n",
              "\n",
              "    .dataframe tbody tr th {\n",
              "        vertical-align: top;\n",
              "    }\n",
              "\n",
              "    .dataframe thead th {\n",
              "        text-align: right;\n",
              "    }\n",
              "</style>\n",
              "<table border=\"1\" class=\"dataframe\">\n",
              "  <thead>\n",
              "    <tr style=\"text-align: right;\">\n",
              "      <th></th>\n",
              "      <th>Home_team</th>\n",
              "      <th>Score_Home_Team</th>\n",
              "      <th>Score_Away_Team</th>\n",
              "      <th>Away_team</th>\n",
              "      <th>FAVORITE</th>\n",
              "      <th>RESULTS</th>\n",
              "      <th>Home_odd</th>\n",
              "      <th>Draw_odd</th>\n",
              "      <th>Away_odd</th>\n",
              "      <th>Ball_possession_h</th>\n",
              "      <th>Ball_possession_a</th>\n",
              "      <th>Goal_attempts_h</th>\n",
              "      <th>Goal_attempts_a</th>\n",
              "      <th>Attacks_h</th>\n",
              "      <th>Attacks_a</th>\n",
              "      <th>Dangerous_attacks_h</th>\n",
              "      <th>Dangerous_attacks_a</th>\n",
              "    </tr>\n",
              "  </thead>\n",
              "  <tbody>\n",
              "    <tr>\n",
              "      <th>0</th>\n",
              "      <td>Toronto FC</td>\n",
              "      <td>0</td>\n",
              "      <td>2</td>\n",
              "      <td>Columbus Crew</td>\n",
              "      <td>AWAY</td>\n",
              "      <td>AWAY</td>\n",
              "      <td>1.55</td>\n",
              "      <td>4.15</td>\n",
              "      <td>5.75</td>\n",
              "      <td>0.58</td>\n",
              "      <td>0.42</td>\n",
              "      <td>13.0</td>\n",
              "      <td>12.0</td>\n",
              "      <td>82.0</td>\n",
              "      <td>83.0</td>\n",
              "      <td>75.0</td>\n",
              "      <td>54.0</td>\n",
              "    </tr>\n",
              "    <tr>\n",
              "      <th>1</th>\n",
              "      <td>Houston Dynamo</td>\n",
              "      <td>4</td>\n",
              "      <td>0</td>\n",
              "      <td>Atlanta Utd</td>\n",
              "      <td>HOME</td>\n",
              "      <td>HOME</td>\n",
              "      <td>2.55</td>\n",
              "      <td>3.45</td>\n",
              "      <td>2.65</td>\n",
              "      <td>0.41</td>\n",
              "      <td>0.59</td>\n",
              "      <td>13.0</td>\n",
              "      <td>13.0</td>\n",
              "      <td>0.0</td>\n",
              "      <td>0.0</td>\n",
              "      <td>0.0</td>\n",
              "      <td>0.0</td>\n",
              "    </tr>\n",
              "    <tr>\n",
              "      <th>2</th>\n",
              "      <td>Philadelphia Union</td>\n",
              "      <td>2</td>\n",
              "      <td>0</td>\n",
              "      <td>New England Revolution</td>\n",
              "      <td>HOME</td>\n",
              "      <td>HOME</td>\n",
              "      <td>1.93</td>\n",
              "      <td>3.50</td>\n",
              "      <td>3.90</td>\n",
              "      <td>0.64</td>\n",
              "      <td>0.36</td>\n",
              "      <td>21.0</td>\n",
              "      <td>8.0</td>\n",
              "      <td>0.0</td>\n",
              "      <td>0.0</td>\n",
              "      <td>0.0</td>\n",
              "      <td>0.0</td>\n",
              "    </tr>\n",
              "    <tr>\n",
              "      <th>3</th>\n",
              "      <td>Orlando City</td>\n",
              "      <td>1</td>\n",
              "      <td>1</td>\n",
              "      <td>DC United</td>\n",
              "      <td>HOME</td>\n",
              "      <td>DRAW</td>\n",
              "      <td>2.25</td>\n",
              "      <td>3.50</td>\n",
              "      <td>3.05</td>\n",
              "      <td>0.59</td>\n",
              "      <td>0.41</td>\n",
              "      <td>12.0</td>\n",
              "      <td>14.0</td>\n",
              "      <td>116.0</td>\n",
              "      <td>77.0</td>\n",
              "      <td>77.0</td>\n",
              "      <td>63.0</td>\n",
              "    </tr>\n",
              "    <tr>\n",
              "      <th>4</th>\n",
              "      <td>FC Dallas</td>\n",
              "      <td>1</td>\n",
              "      <td>1</td>\n",
              "      <td>Real Salt Lake</td>\n",
              "      <td>HOME</td>\n",
              "      <td>DRAW</td>\n",
              "      <td>1.70</td>\n",
              "      <td>3.90</td>\n",
              "      <td>4.75</td>\n",
              "      <td>0.53</td>\n",
              "      <td>0.47</td>\n",
              "      <td>18.0</td>\n",
              "      <td>9.0</td>\n",
              "      <td>105.0</td>\n",
              "      <td>100.0</td>\n",
              "      <td>68.0</td>\n",
              "      <td>31.0</td>\n",
              "    </tr>\n",
              "  </tbody>\n",
              "</table>\n",
              "</div>"
            ],
            "text/plain": [
              "            Home_team  Score_Home_Team  Score_Away_Team  \\\n",
              "0          Toronto FC                0                2   \n",
              "1      Houston Dynamo                4                0   \n",
              "2  Philadelphia Union                2                0   \n",
              "3        Orlando City                1                1   \n",
              "4           FC Dallas                1                1   \n",
              "\n",
              "                Away_team FAVORITE RESULTS  Home_odd  Draw_odd  Away_odd  \\\n",
              "0           Columbus Crew     AWAY    AWAY      1.55      4.15      5.75   \n",
              "1             Atlanta Utd     HOME    HOME      2.55      3.45      2.65   \n",
              "2  New England Revolution     HOME    HOME      1.93      3.50      3.90   \n",
              "3               DC United     HOME    DRAW      2.25      3.50      3.05   \n",
              "4          Real Salt Lake     HOME    DRAW      1.70      3.90      4.75   \n",
              "\n",
              "   Ball_possession_h  Ball_possession_a  Goal_attempts_h  Goal_attempts_a  \\\n",
              "0               0.58               0.42             13.0             12.0   \n",
              "1               0.41               0.59             13.0             13.0   \n",
              "2               0.64               0.36             21.0              8.0   \n",
              "3               0.59               0.41             12.0             14.0   \n",
              "4               0.53               0.47             18.0              9.0   \n",
              "\n",
              "   Attacks_h  Attacks_a  Dangerous_attacks_h  Dangerous_attacks_a  \n",
              "0       82.0       83.0                 75.0                 54.0  \n",
              "1        0.0        0.0                  0.0                  0.0  \n",
              "2        0.0        0.0                  0.0                  0.0  \n",
              "3      116.0       77.0                 77.0                 63.0  \n",
              "4      105.0      100.0                 68.0                 31.0  "
            ]
          },
          "execution_count": 2,
          "metadata": {},
          "output_type": "execute_result"
        }
      ],
      "source": [
        "df_soccer = pd.read_csv(\"SOCCER SEASON 2018-19.csv\")\n",
        "df_soccer.head()"
      ]
    },
    {
      "cell_type": "markdown",
      "id": "3e294319",
      "metadata": {
        "id": "3e294319"
      },
      "source": [
        "### Creating a column that will show if a bet is won or lost if bet is back the Favorite"
      ]
    },
    {
      "cell_type": "code",
      "execution_count": null,
      "id": "4b42c3b6",
      "metadata": {
        "id": "4b42c3b6"
      },
      "outputs": [],
      "source": [
        "def new_column_win_lose_draw(row1):\n",
        "    if row1['FAVORITE'] == row1['RESULTS']:\n",
        "        return \"Won\" \n",
        "    elif row1['FAVORITE'] != row1['RESULTS'] and row1['RESULTS'] != \"DRAW\":\n",
        "        return \"Lost\"\n",
        "    else:\n",
        "        return \"Draw\"\n",
        "    \n",
        "df_soccer[\"WON_LOST_Back\"] = df_soccer.apply(new_column_win_lose_draw, axis=1)"
      ]
    },
    {
      "cell_type": "markdown",
      "id": "3cfeef65",
      "metadata": {
        "id": "3cfeef65"
      },
      "source": [
        "#### Creating a column to show the odds of the favorite team, weather they are playing HOME or AWAY given by the data colection\n"
      ]
    },
    {
      "cell_type": "code",
      "execution_count": null,
      "id": "13ab7c44",
      "metadata": {
        "id": "13ab7c44"
      },
      "outputs": [],
      "source": [
        "def new_column_FAV_odd(row2):\n",
        "    if row2['FAVORITE'] == \"HOME\":\n",
        "        return row2['Home_odd']\n",
        "    elif row2[\"FAVORITE\"] == \"AWAY\":\n",
        "        return row2['Away_odd']\n",
        "                  \n",
        "df_soccer['FAVORITE_odd'] = df_soccer.apply(new_column_FAV_odd, axis=1)    "
      ]
    },
    {
      "cell_type": "markdown",
      "id": "e8ac632d",
      "metadata": {
        "id": "e8ac632d"
      },
      "source": [
        "#### Creating a column to show the possession of the ball of the favorite, weather they are playing HOME or AWAY\n"
      ]
    },
    {
      "cell_type": "code",
      "execution_count": null,
      "id": "110f0ce1",
      "metadata": {
        "id": "110f0ce1"
      },
      "outputs": [],
      "source": [
        "def new_column_Ball_possession_Fav(row3):\n",
        "    if row3['FAVORITE'] == \"HOME\":\n",
        "        return row3['Ball_possession_h']*100 \n",
        "    elif row3[\"FAVORITE\"] == \"AWAY\":\n",
        "        return row3['Ball_possession_a']*100\n",
        "                  \n",
        "df_soccer['Ball_possession_Fav'] = df_soccer.apply(new_column_Ball_possession_Fav, axis=1)  "
      ]
    },
    {
      "cell_type": "markdown",
      "id": "9d0deef5",
      "metadata": {
        "id": "9d0deef5"
      },
      "source": [
        "#### Creating a column to show if the possession of the Favorite is bigger than the other team\n"
      ]
    },
    {
      "cell_type": "code",
      "execution_count": null,
      "id": "2ec9d9d3",
      "metadata": {
        "id": "2ec9d9d3"
      },
      "outputs": [],
      "source": [
        "def new_column_FAV_more_possession(row4):\n",
        "    if row4['FAVORITE'] == \"HOME\" and row4['Ball_possession_h']>=row4['Ball_possession_a']:\n",
        "        return \"YES\"\n",
        "    elif row4['FAVORITE'] == \"AWAY\" and row4['Ball_possession_a']>=row4['Ball_possession_h']:\n",
        "        return \"YES\"\n",
        "    else:\n",
        "        return \"NO\"\n",
        "    \n",
        "df_soccer['FAV_more_possession'] = df_soccer.apply(new_column_FAV_more_possession, axis=1)     \n"
      ]
    },
    {
      "cell_type": "code",
      "execution_count": null,
      "id": "5a219857",
      "metadata": {
        "id": "5a219857",
        "outputId": "0d20c8a3-f60b-4ae2-cf9f-295f73546388"
      },
      "outputs": [
        {
          "data": {
            "text/html": [
              "<div>\n",
              "<style scoped>\n",
              "    .dataframe tbody tr th:only-of-type {\n",
              "        vertical-align: middle;\n",
              "    }\n",
              "\n",
              "    .dataframe tbody tr th {\n",
              "        vertical-align: top;\n",
              "    }\n",
              "\n",
              "    .dataframe thead th {\n",
              "        text-align: right;\n",
              "    }\n",
              "</style>\n",
              "<table border=\"1\" class=\"dataframe\">\n",
              "  <thead>\n",
              "    <tr style=\"text-align: right;\">\n",
              "      <th></th>\n",
              "      <th>Home_team</th>\n",
              "      <th>Score_Home_Team</th>\n",
              "      <th>Score_Away_Team</th>\n",
              "      <th>Away_team</th>\n",
              "      <th>FAVORITE</th>\n",
              "      <th>RESULTS</th>\n",
              "      <th>Home_odd</th>\n",
              "      <th>Draw_odd</th>\n",
              "      <th>Away_odd</th>\n",
              "      <th>Ball_possession_h</th>\n",
              "      <th>...</th>\n",
              "      <th>Goal_attempts_h</th>\n",
              "      <th>Goal_attempts_a</th>\n",
              "      <th>Attacks_h</th>\n",
              "      <th>Attacks_a</th>\n",
              "      <th>Dangerous_attacks_h</th>\n",
              "      <th>Dangerous_attacks_a</th>\n",
              "      <th>WON_LOST_Back</th>\n",
              "      <th>FAVORITE_odd</th>\n",
              "      <th>Ball_possession_Fav</th>\n",
              "      <th>FAV_more_possession</th>\n",
              "    </tr>\n",
              "  </thead>\n",
              "  <tbody>\n",
              "    <tr>\n",
              "      <th>0</th>\n",
              "      <td>Toronto FC</td>\n",
              "      <td>0</td>\n",
              "      <td>2</td>\n",
              "      <td>Columbus Crew</td>\n",
              "      <td>AWAY</td>\n",
              "      <td>AWAY</td>\n",
              "      <td>1.55</td>\n",
              "      <td>4.15</td>\n",
              "      <td>5.75</td>\n",
              "      <td>0.58</td>\n",
              "      <td>...</td>\n",
              "      <td>13.0</td>\n",
              "      <td>12.0</td>\n",
              "      <td>82.0</td>\n",
              "      <td>83.0</td>\n",
              "      <td>75.0</td>\n",
              "      <td>54.0</td>\n",
              "      <td>Won</td>\n",
              "      <td>5.75</td>\n",
              "      <td>42.0</td>\n",
              "      <td>NO</td>\n",
              "    </tr>\n",
              "    <tr>\n",
              "      <th>1</th>\n",
              "      <td>Houston Dynamo</td>\n",
              "      <td>4</td>\n",
              "      <td>0</td>\n",
              "      <td>Atlanta Utd</td>\n",
              "      <td>HOME</td>\n",
              "      <td>HOME</td>\n",
              "      <td>2.55</td>\n",
              "      <td>3.45</td>\n",
              "      <td>2.65</td>\n",
              "      <td>0.41</td>\n",
              "      <td>...</td>\n",
              "      <td>13.0</td>\n",
              "      <td>13.0</td>\n",
              "      <td>0.0</td>\n",
              "      <td>0.0</td>\n",
              "      <td>0.0</td>\n",
              "      <td>0.0</td>\n",
              "      <td>Won</td>\n",
              "      <td>2.55</td>\n",
              "      <td>41.0</td>\n",
              "      <td>NO</td>\n",
              "    </tr>\n",
              "    <tr>\n",
              "      <th>2</th>\n",
              "      <td>Philadelphia Union</td>\n",
              "      <td>2</td>\n",
              "      <td>0</td>\n",
              "      <td>New England Revolution</td>\n",
              "      <td>HOME</td>\n",
              "      <td>HOME</td>\n",
              "      <td>1.93</td>\n",
              "      <td>3.50</td>\n",
              "      <td>3.90</td>\n",
              "      <td>0.64</td>\n",
              "      <td>...</td>\n",
              "      <td>21.0</td>\n",
              "      <td>8.0</td>\n",
              "      <td>0.0</td>\n",
              "      <td>0.0</td>\n",
              "      <td>0.0</td>\n",
              "      <td>0.0</td>\n",
              "      <td>Won</td>\n",
              "      <td>1.93</td>\n",
              "      <td>64.0</td>\n",
              "      <td>YES</td>\n",
              "    </tr>\n",
              "    <tr>\n",
              "      <th>3</th>\n",
              "      <td>Orlando City</td>\n",
              "      <td>1</td>\n",
              "      <td>1</td>\n",
              "      <td>DC United</td>\n",
              "      <td>HOME</td>\n",
              "      <td>DRAW</td>\n",
              "      <td>2.25</td>\n",
              "      <td>3.50</td>\n",
              "      <td>3.05</td>\n",
              "      <td>0.59</td>\n",
              "      <td>...</td>\n",
              "      <td>12.0</td>\n",
              "      <td>14.0</td>\n",
              "      <td>116.0</td>\n",
              "      <td>77.0</td>\n",
              "      <td>77.0</td>\n",
              "      <td>63.0</td>\n",
              "      <td>Draw</td>\n",
              "      <td>2.25</td>\n",
              "      <td>59.0</td>\n",
              "      <td>YES</td>\n",
              "    </tr>\n",
              "    <tr>\n",
              "      <th>4</th>\n",
              "      <td>FC Dallas</td>\n",
              "      <td>1</td>\n",
              "      <td>1</td>\n",
              "      <td>Real Salt Lake</td>\n",
              "      <td>HOME</td>\n",
              "      <td>DRAW</td>\n",
              "      <td>1.70</td>\n",
              "      <td>3.90</td>\n",
              "      <td>4.75</td>\n",
              "      <td>0.53</td>\n",
              "      <td>...</td>\n",
              "      <td>18.0</td>\n",
              "      <td>9.0</td>\n",
              "      <td>105.0</td>\n",
              "      <td>100.0</td>\n",
              "      <td>68.0</td>\n",
              "      <td>31.0</td>\n",
              "      <td>Draw</td>\n",
              "      <td>1.70</td>\n",
              "      <td>53.0</td>\n",
              "      <td>YES</td>\n",
              "    </tr>\n",
              "  </tbody>\n",
              "</table>\n",
              "<p>5 rows × 21 columns</p>\n",
              "</div>"
            ],
            "text/plain": [
              "            Home_team  Score_Home_Team  Score_Away_Team  \\\n",
              "0          Toronto FC                0                2   \n",
              "1      Houston Dynamo                4                0   \n",
              "2  Philadelphia Union                2                0   \n",
              "3        Orlando City                1                1   \n",
              "4           FC Dallas                1                1   \n",
              "\n",
              "                Away_team FAVORITE RESULTS  Home_odd  Draw_odd  Away_odd  \\\n",
              "0           Columbus Crew     AWAY    AWAY      1.55      4.15      5.75   \n",
              "1             Atlanta Utd     HOME    HOME      2.55      3.45      2.65   \n",
              "2  New England Revolution     HOME    HOME      1.93      3.50      3.90   \n",
              "3               DC United     HOME    DRAW      2.25      3.50      3.05   \n",
              "4          Real Salt Lake     HOME    DRAW      1.70      3.90      4.75   \n",
              "\n",
              "   Ball_possession_h  ...  Goal_attempts_h  Goal_attempts_a  Attacks_h  \\\n",
              "0               0.58  ...             13.0             12.0       82.0   \n",
              "1               0.41  ...             13.0             13.0        0.0   \n",
              "2               0.64  ...             21.0              8.0        0.0   \n",
              "3               0.59  ...             12.0             14.0      116.0   \n",
              "4               0.53  ...             18.0              9.0      105.0   \n",
              "\n",
              "   Attacks_a  Dangerous_attacks_h  Dangerous_attacks_a  WON_LOST_Back  \\\n",
              "0       83.0                 75.0                 54.0            Won   \n",
              "1        0.0                  0.0                  0.0            Won   \n",
              "2        0.0                  0.0                  0.0            Won   \n",
              "3       77.0                 77.0                 63.0           Draw   \n",
              "4      100.0                 68.0                 31.0           Draw   \n",
              "\n",
              "  FAVORITE_odd  Ball_possession_Fav  FAV_more_possession  \n",
              "0         5.75                 42.0                   NO  \n",
              "1         2.55                 41.0                   NO  \n",
              "2         1.93                 64.0                  YES  \n",
              "3         2.25                 59.0                  YES  \n",
              "4         1.70                 53.0                  YES  \n",
              "\n",
              "[5 rows x 21 columns]"
            ]
          },
          "execution_count": 7,
          "metadata": {},
          "output_type": "execute_result"
        }
      ],
      "source": [
        "df_soccer.head()"
      ]
    },
    {
      "cell_type": "markdown",
      "id": "3c53ae1e",
      "metadata": {
        "id": "3c53ae1e"
      },
      "source": [
        "#### Droping unnecessary collumns"
      ]
    },
    {
      "cell_type": "code",
      "execution_count": null,
      "id": "cf80bcdc",
      "metadata": {
        "id": "cf80bcdc"
      },
      "outputs": [],
      "source": [
        "df_soccer.drop(['Score_Home_Team','Score_Away_Team','Goal_attempts_h','Goal_attempts_a','Attacks_h','Attacks_a','Dangerous_attacks_h','Dangerous_attacks_a','Draw_odd'], axis=1, inplace=True)"
      ]
    },
    {
      "cell_type": "code",
      "execution_count": null,
      "id": "70c0b6a2",
      "metadata": {
        "id": "70c0b6a2",
        "outputId": "847932fc-8512-4e5b-cc50-c16b9dcc2859"
      },
      "outputs": [
        {
          "data": {
            "text/plain": [
              "Index(['Home_team', 'Away_team', 'FAVORITE', 'RESULTS', 'Home_odd', 'Away_odd',\n",
              "       'Ball_possession_h', 'Ball_possession_a', 'WON_LOST_Back',\n",
              "       'FAVORITE_odd', 'Ball_possession_Fav', 'FAV_more_possession'],\n",
              "      dtype='object')"
            ]
          },
          "execution_count": 9,
          "metadata": {},
          "output_type": "execute_result"
        }
      ],
      "source": [
        "df_soccer.columns"
      ]
    },
    {
      "cell_type": "markdown",
      "id": "035e21b3",
      "metadata": {
        "id": "035e21b3"
      },
      "source": [
        "#### Reindexing the columns for better vizualization"
      ]
    },
    {
      "cell_type": "code",
      "execution_count": null,
      "id": "fa11336d",
      "metadata": {
        "id": "fa11336d"
      },
      "outputs": [],
      "source": [
        "df_soccer = df_soccer.reindex(columns=['Home_team', 'Away_team','FAVORITE', 'RESULTS', 'FAVORITE_odd', 'Home_odd', 'Away_odd',\n",
        "       'Ball_possession_h', 'Ball_possession_a', 'WON_LOST_Back', 'Ball_possession_Fav', 'FAV_more_possession'])"
      ]
    },
    {
      "cell_type": "code",
      "execution_count": null,
      "id": "c504920b",
      "metadata": {
        "id": "c504920b",
        "outputId": "f6e82db1-ef6f-4b4c-fce0-5910f39dd648"
      },
      "outputs": [
        {
          "data": {
            "text/html": [
              "<div>\n",
              "<style scoped>\n",
              "    .dataframe tbody tr th:only-of-type {\n",
              "        vertical-align: middle;\n",
              "    }\n",
              "\n",
              "    .dataframe tbody tr th {\n",
              "        vertical-align: top;\n",
              "    }\n",
              "\n",
              "    .dataframe thead th {\n",
              "        text-align: right;\n",
              "    }\n",
              "</style>\n",
              "<table border=\"1\" class=\"dataframe\">\n",
              "  <thead>\n",
              "    <tr style=\"text-align: right;\">\n",
              "      <th></th>\n",
              "      <th>Home_team</th>\n",
              "      <th>Away_team</th>\n",
              "      <th>FAVORITE</th>\n",
              "      <th>RESULTS</th>\n",
              "      <th>FAVORITE_odd</th>\n",
              "      <th>Home_odd</th>\n",
              "      <th>Away_odd</th>\n",
              "      <th>Ball_possession_h</th>\n",
              "      <th>Ball_possession_a</th>\n",
              "      <th>WON_LOST_Back</th>\n",
              "      <th>Ball_possession_Fav</th>\n",
              "      <th>FAV_more_possession</th>\n",
              "    </tr>\n",
              "  </thead>\n",
              "  <tbody>\n",
              "    <tr>\n",
              "      <th>0</th>\n",
              "      <td>Toronto FC</td>\n",
              "      <td>Columbus Crew</td>\n",
              "      <td>AWAY</td>\n",
              "      <td>AWAY</td>\n",
              "      <td>5.75</td>\n",
              "      <td>1.55</td>\n",
              "      <td>5.75</td>\n",
              "      <td>0.58</td>\n",
              "      <td>0.42</td>\n",
              "      <td>Won</td>\n",
              "      <td>42.0</td>\n",
              "      <td>NO</td>\n",
              "    </tr>\n",
              "    <tr>\n",
              "      <th>1</th>\n",
              "      <td>Houston Dynamo</td>\n",
              "      <td>Atlanta Utd</td>\n",
              "      <td>HOME</td>\n",
              "      <td>HOME</td>\n",
              "      <td>2.55</td>\n",
              "      <td>2.55</td>\n",
              "      <td>2.65</td>\n",
              "      <td>0.41</td>\n",
              "      <td>0.59</td>\n",
              "      <td>Won</td>\n",
              "      <td>41.0</td>\n",
              "      <td>NO</td>\n",
              "    </tr>\n",
              "    <tr>\n",
              "      <th>2</th>\n",
              "      <td>Philadelphia Union</td>\n",
              "      <td>New England Revolution</td>\n",
              "      <td>HOME</td>\n",
              "      <td>HOME</td>\n",
              "      <td>1.93</td>\n",
              "      <td>1.93</td>\n",
              "      <td>3.90</td>\n",
              "      <td>0.64</td>\n",
              "      <td>0.36</td>\n",
              "      <td>Won</td>\n",
              "      <td>64.0</td>\n",
              "      <td>YES</td>\n",
              "    </tr>\n",
              "    <tr>\n",
              "      <th>3</th>\n",
              "      <td>Orlando City</td>\n",
              "      <td>DC United</td>\n",
              "      <td>HOME</td>\n",
              "      <td>DRAW</td>\n",
              "      <td>2.25</td>\n",
              "      <td>2.25</td>\n",
              "      <td>3.05</td>\n",
              "      <td>0.59</td>\n",
              "      <td>0.41</td>\n",
              "      <td>Draw</td>\n",
              "      <td>59.0</td>\n",
              "      <td>YES</td>\n",
              "    </tr>\n",
              "    <tr>\n",
              "      <th>4</th>\n",
              "      <td>FC Dallas</td>\n",
              "      <td>Real Salt Lake</td>\n",
              "      <td>HOME</td>\n",
              "      <td>DRAW</td>\n",
              "      <td>1.70</td>\n",
              "      <td>1.70</td>\n",
              "      <td>4.75</td>\n",
              "      <td>0.53</td>\n",
              "      <td>0.47</td>\n",
              "      <td>Draw</td>\n",
              "      <td>53.0</td>\n",
              "      <td>YES</td>\n",
              "    </tr>\n",
              "  </tbody>\n",
              "</table>\n",
              "</div>"
            ],
            "text/plain": [
              "            Home_team               Away_team FAVORITE RESULTS  FAVORITE_odd  \\\n",
              "0          Toronto FC           Columbus Crew     AWAY    AWAY          5.75   \n",
              "1      Houston Dynamo             Atlanta Utd     HOME    HOME          2.55   \n",
              "2  Philadelphia Union  New England Revolution     HOME    HOME          1.93   \n",
              "3        Orlando City               DC United     HOME    DRAW          2.25   \n",
              "4           FC Dallas          Real Salt Lake     HOME    DRAW          1.70   \n",
              "\n",
              "   Home_odd  Away_odd  Ball_possession_h  Ball_possession_a WON_LOST_Back  \\\n",
              "0      1.55      5.75               0.58               0.42           Won   \n",
              "1      2.55      2.65               0.41               0.59           Won   \n",
              "2      1.93      3.90               0.64               0.36           Won   \n",
              "3      2.25      3.05               0.59               0.41          Draw   \n",
              "4      1.70      4.75               0.53               0.47          Draw   \n",
              "\n",
              "   Ball_possession_Fav FAV_more_possession  \n",
              "0                 42.0                  NO  \n",
              "1                 41.0                  NO  \n",
              "2                 64.0                 YES  \n",
              "3                 59.0                 YES  \n",
              "4                 53.0                 YES  "
            ]
          },
          "execution_count": 11,
          "metadata": {},
          "output_type": "execute_result"
        }
      ],
      "source": [
        "df_soccer.head()"
      ]
    },
    {
      "cell_type": "markdown",
      "id": "1ca23210",
      "metadata": {
        "id": "1ca23210"
      },
      "source": [
        "#### Checking if the data has some values that are wrong. It doesn`t make sense a ball possession bigger then 95%.\n"
      ]
    },
    {
      "cell_type": "code",
      "execution_count": null,
      "id": "6a30ad97",
      "metadata": {
        "id": "6a30ad97",
        "outputId": "8ab7c411-c6f3-4e3c-cb16-fad1e96a915b"
      },
      "outputs": [
        {
          "data": {
            "text/html": [
              "<div>\n",
              "<style scoped>\n",
              "    .dataframe tbody tr th:only-of-type {\n",
              "        vertical-align: middle;\n",
              "    }\n",
              "\n",
              "    .dataframe tbody tr th {\n",
              "        vertical-align: top;\n",
              "    }\n",
              "\n",
              "    .dataframe thead th {\n",
              "        text-align: right;\n",
              "    }\n",
              "</style>\n",
              "<table border=\"1\" class=\"dataframe\">\n",
              "  <thead>\n",
              "    <tr style=\"text-align: right;\">\n",
              "      <th></th>\n",
              "      <th>Home_team</th>\n",
              "      <th>Away_team</th>\n",
              "      <th>FAVORITE</th>\n",
              "      <th>RESULTS</th>\n",
              "      <th>FAVORITE_odd</th>\n",
              "      <th>Home_odd</th>\n",
              "      <th>Away_odd</th>\n",
              "      <th>Ball_possession_h</th>\n",
              "      <th>Ball_possession_a</th>\n",
              "      <th>WON_LOST_Back</th>\n",
              "      <th>Ball_possession_Fav</th>\n",
              "      <th>FAV_more_possession</th>\n",
              "    </tr>\n",
              "  </thead>\n",
              "  <tbody>\n",
              "    <tr>\n",
              "      <th>867</th>\n",
              "      <td>Flamengo RJ</td>\n",
              "      <td>Coritiba</td>\n",
              "      <td>HOME</td>\n",
              "      <td>HOME</td>\n",
              "      <td>1.33</td>\n",
              "      <td>1.33</td>\n",
              "      <td>9.5</td>\n",
              "      <td>3.0</td>\n",
              "      <td>1.0</td>\n",
              "      <td>Won</td>\n",
              "      <td>300.0</td>\n",
              "      <td>YES</td>\n",
              "    </tr>\n",
              "    <tr>\n",
              "      <th>870</th>\n",
              "      <td>Sao Paulo</td>\n",
              "      <td>Vasco</td>\n",
              "      <td>HOME</td>\n",
              "      <td>DRAW</td>\n",
              "      <td>1.36</td>\n",
              "      <td>1.36</td>\n",
              "      <td>9.0</td>\n",
              "      <td>2.0</td>\n",
              "      <td>2.0</td>\n",
              "      <td>Draw</td>\n",
              "      <td>200.0</td>\n",
              "      <td>YES</td>\n",
              "    </tr>\n",
              "    <tr>\n",
              "      <th>871</th>\n",
              "      <td>Botafogo RJ</td>\n",
              "      <td>Fortaleza</td>\n",
              "      <td>AWAY</td>\n",
              "      <td>AWAY</td>\n",
              "      <td>4.00</td>\n",
              "      <td>2.05</td>\n",
              "      <td>4.0</td>\n",
              "      <td>1.0</td>\n",
              "      <td>1.0</td>\n",
              "      <td>Won</td>\n",
              "      <td>100.0</td>\n",
              "      <td>YES</td>\n",
              "    </tr>\n",
              "    <tr>\n",
              "      <th>872</th>\n",
              "      <td>Internacional</td>\n",
              "      <td>Fluminense</td>\n",
              "      <td>HOME</td>\n",
              "      <td>AWAY</td>\n",
              "      <td>1.90</td>\n",
              "      <td>1.90</td>\n",
              "      <td>4.5</td>\n",
              "      <td>1.0</td>\n",
              "      <td>2.0</td>\n",
              "      <td>Lost</td>\n",
              "      <td>100.0</td>\n",
              "      <td>NO</td>\n",
              "    </tr>\n",
              "    <tr>\n",
              "      <th>873</th>\n",
              "      <td>Corinthians</td>\n",
              "      <td>Gremio</td>\n",
              "      <td>AWAY</td>\n",
              "      <td>DRAW</td>\n",
              "      <td>2.40</td>\n",
              "      <td>3.10</td>\n",
              "      <td>2.4</td>\n",
              "      <td>1.0</td>\n",
              "      <td>2.0</td>\n",
              "      <td>Draw</td>\n",
              "      <td>200.0</td>\n",
              "      <td>YES</td>\n",
              "    </tr>\n",
              "  </tbody>\n",
              "</table>\n",
              "</div>"
            ],
            "text/plain": [
              "         Home_team   Away_team FAVORITE RESULTS  FAVORITE_odd  Home_odd  \\\n",
              "867    Flamengo RJ    Coritiba     HOME    HOME          1.33      1.33   \n",
              "870      Sao Paulo       Vasco     HOME    DRAW          1.36      1.36   \n",
              "871    Botafogo RJ   Fortaleza     AWAY    AWAY          4.00      2.05   \n",
              "872  Internacional  Fluminense     HOME    AWAY          1.90      1.90   \n",
              "873    Corinthians      Gremio     AWAY    DRAW          2.40      3.10   \n",
              "\n",
              "     Away_odd  Ball_possession_h  Ball_possession_a WON_LOST_Back  \\\n",
              "867       9.5                3.0                1.0           Won   \n",
              "870       9.0                2.0                2.0          Draw   \n",
              "871       4.0                1.0                1.0           Won   \n",
              "872       4.5                1.0                2.0          Lost   \n",
              "873       2.4                1.0                2.0          Draw   \n",
              "\n",
              "     Ball_possession_Fav FAV_more_possession  \n",
              "867                300.0                 YES  \n",
              "870                200.0                 YES  \n",
              "871                100.0                 YES  \n",
              "872                100.0                  NO  \n",
              "873                200.0                 YES  "
            ]
          },
          "execution_count": 12,
          "metadata": {},
          "output_type": "execute_result"
        }
      ],
      "source": [
        "df_soccer[df_soccer['Ball_possession_Fav']>=95].head()"
      ]
    },
    {
      "cell_type": "markdown",
      "id": "717e5907",
      "metadata": {
        "id": "717e5907"
      },
      "source": [
        "#### Checking if the data has some values that are wrong. It doesn`t make sense a ball possession lower than 5% \n"
      ]
    },
    {
      "cell_type": "code",
      "execution_count": null,
      "id": "cc69aa97",
      "metadata": {
        "id": "cc69aa97",
        "outputId": "80f36eaf-65ea-429d-cb09-038e5a5f0e2d"
      },
      "outputs": [
        {
          "data": {
            "text/html": [
              "<div>\n",
              "<style scoped>\n",
              "    .dataframe tbody tr th:only-of-type {\n",
              "        vertical-align: middle;\n",
              "    }\n",
              "\n",
              "    .dataframe tbody tr th {\n",
              "        vertical-align: top;\n",
              "    }\n",
              "\n",
              "    .dataframe thead th {\n",
              "        text-align: right;\n",
              "    }\n",
              "</style>\n",
              "<table border=\"1\" class=\"dataframe\">\n",
              "  <thead>\n",
              "    <tr style=\"text-align: right;\">\n",
              "      <th></th>\n",
              "      <th>Home_team</th>\n",
              "      <th>Away_team</th>\n",
              "      <th>FAVORITE</th>\n",
              "      <th>RESULTS</th>\n",
              "      <th>FAVORITE_odd</th>\n",
              "      <th>Home_odd</th>\n",
              "      <th>Away_odd</th>\n",
              "      <th>Ball_possession_h</th>\n",
              "      <th>Ball_possession_a</th>\n",
              "      <th>WON_LOST_Back</th>\n",
              "      <th>Ball_possession_Fav</th>\n",
              "      <th>FAV_more_possession</th>\n",
              "    </tr>\n",
              "  </thead>\n",
              "  <tbody>\n",
              "    <tr>\n",
              "      <th>866</th>\n",
              "      <td>Athletico-PR</td>\n",
              "      <td>Santos</td>\n",
              "      <td>AWAY</td>\n",
              "      <td>HOME</td>\n",
              "      <td>6.00</td>\n",
              "      <td>1.50</td>\n",
              "      <td>6.00</td>\n",
              "      <td>4.0</td>\n",
              "      <td>0.0</td>\n",
              "      <td>Lost</td>\n",
              "      <td>0.0</td>\n",
              "      <td>NO</td>\n",
              "    </tr>\n",
              "    <tr>\n",
              "      <th>868</th>\n",
              "      <td>Goias</td>\n",
              "      <td>Palmeiras</td>\n",
              "      <td>AWAY</td>\n",
              "      <td>HOME</td>\n",
              "      <td>1.80</td>\n",
              "      <td>4.33</td>\n",
              "      <td>1.80</td>\n",
              "      <td>1.0</td>\n",
              "      <td>0.0</td>\n",
              "      <td>Lost</td>\n",
              "      <td>0.0</td>\n",
              "      <td>NO</td>\n",
              "    </tr>\n",
              "    <tr>\n",
              "      <th>869</th>\n",
              "      <td>Ceara</td>\n",
              "      <td>Atletico-MG</td>\n",
              "      <td>AWAY</td>\n",
              "      <td>DRAW</td>\n",
              "      <td>2.62</td>\n",
              "      <td>2.62</td>\n",
              "      <td>2.62</td>\n",
              "      <td>1.0</td>\n",
              "      <td>0.0</td>\n",
              "      <td>Draw</td>\n",
              "      <td>0.0</td>\n",
              "      <td>NO</td>\n",
              "    </tr>\n",
              "    <tr>\n",
              "      <th>876</th>\n",
              "      <td>Bahia</td>\n",
              "      <td>Sao Paulo</td>\n",
              "      <td>AWAY</td>\n",
              "      <td>AWAY</td>\n",
              "      <td>2.10</td>\n",
              "      <td>3.50</td>\n",
              "      <td>2.10</td>\n",
              "      <td>3.0</td>\n",
              "      <td>0.0</td>\n",
              "      <td>Won</td>\n",
              "      <td>0.0</td>\n",
              "      <td>NO</td>\n",
              "    </tr>\n",
              "    <tr>\n",
              "      <th>885</th>\n",
              "      <td>Ceara</td>\n",
              "      <td>Internacional</td>\n",
              "      <td>AWAY</td>\n",
              "      <td>AWAY</td>\n",
              "      <td>2.60</td>\n",
              "      <td>2.90</td>\n",
              "      <td>2.60</td>\n",
              "      <td>3.0</td>\n",
              "      <td>0.0</td>\n",
              "      <td>Won</td>\n",
              "      <td>0.0</td>\n",
              "      <td>NO</td>\n",
              "    </tr>\n",
              "  </tbody>\n",
              "</table>\n",
              "</div>"
            ],
            "text/plain": [
              "        Home_team      Away_team FAVORITE RESULTS  FAVORITE_odd  Home_odd  \\\n",
              "866  Athletico-PR         Santos     AWAY    HOME          6.00      1.50   \n",
              "868         Goias      Palmeiras     AWAY    HOME          1.80      4.33   \n",
              "869         Ceara    Atletico-MG     AWAY    DRAW          2.62      2.62   \n",
              "876         Bahia      Sao Paulo     AWAY    AWAY          2.10      3.50   \n",
              "885         Ceara  Internacional     AWAY    AWAY          2.60      2.90   \n",
              "\n",
              "     Away_odd  Ball_possession_h  Ball_possession_a WON_LOST_Back  \\\n",
              "866      6.00                4.0                0.0          Lost   \n",
              "868      1.80                1.0                0.0          Lost   \n",
              "869      2.62                1.0                0.0          Draw   \n",
              "876      2.10                3.0                0.0           Won   \n",
              "885      2.60                3.0                0.0           Won   \n",
              "\n",
              "     Ball_possession_Fav FAV_more_possession  \n",
              "866                  0.0                  NO  \n",
              "868                  0.0                  NO  \n",
              "869                  0.0                  NO  \n",
              "876                  0.0                  NO  \n",
              "885                  0.0                  NO  "
            ]
          },
          "execution_count": 13,
          "metadata": {},
          "output_type": "execute_result"
        }
      ],
      "source": [
        "df_soccer[df_soccer['Ball_possession_Fav']<=5].head()"
      ]
    },
    {
      "cell_type": "markdown",
      "id": "8e4a1518",
      "metadata": {
        "id": "8e4a1518"
      },
      "source": [
        "#### Dropping the lines where the possession is equal or over 95% and equal or less than 5% since it is unlikely that this will happen\n"
      ]
    },
    {
      "cell_type": "code",
      "execution_count": null,
      "id": "aa3eecc0",
      "metadata": {
        "id": "aa3eecc0"
      },
      "outputs": [],
      "source": [
        "df_soccer.drop(df_soccer.loc[df_soccer['Ball_possession_Fav']>=95].index, inplace=True),\n",
        "df_soccer.drop(df_soccer.loc[df_soccer['Ball_possession_Fav']<=5].index, inplace=True)"
      ]
    },
    {
      "cell_type": "code",
      "execution_count": null,
      "id": "2dcf0cf7",
      "metadata": {
        "id": "2dcf0cf7",
        "outputId": "232cc1ed-9382-4a13-d997-bcebf335c9d1"
      },
      "outputs": [
        {
          "data": {
            "text/html": [
              "<div>\n",
              "<style scoped>\n",
              "    .dataframe tbody tr th:only-of-type {\n",
              "        vertical-align: middle;\n",
              "    }\n",
              "\n",
              "    .dataframe tbody tr th {\n",
              "        vertical-align: top;\n",
              "    }\n",
              "\n",
              "    .dataframe thead th {\n",
              "        text-align: right;\n",
              "    }\n",
              "</style>\n",
              "<table border=\"1\" class=\"dataframe\">\n",
              "  <thead>\n",
              "    <tr style=\"text-align: right;\">\n",
              "      <th></th>\n",
              "      <th>Home_team</th>\n",
              "      <th>Away_team</th>\n",
              "      <th>FAVORITE</th>\n",
              "      <th>RESULTS</th>\n",
              "      <th>FAVORITE_odd</th>\n",
              "      <th>Home_odd</th>\n",
              "      <th>Away_odd</th>\n",
              "      <th>Ball_possession_h</th>\n",
              "      <th>Ball_possession_a</th>\n",
              "      <th>WON_LOST_Back</th>\n",
              "      <th>Ball_possession_Fav</th>\n",
              "      <th>FAV_more_possession</th>\n",
              "    </tr>\n",
              "  </thead>\n",
              "  <tbody>\n",
              "    <tr>\n",
              "      <th>0</th>\n",
              "      <td>Toronto FC</td>\n",
              "      <td>Columbus Crew</td>\n",
              "      <td>AWAY</td>\n",
              "      <td>AWAY</td>\n",
              "      <td>5.75</td>\n",
              "      <td>1.55</td>\n",
              "      <td>5.75</td>\n",
              "      <td>0.58</td>\n",
              "      <td>0.42</td>\n",
              "      <td>Won</td>\n",
              "      <td>42.0</td>\n",
              "      <td>NO</td>\n",
              "    </tr>\n",
              "    <tr>\n",
              "      <th>1</th>\n",
              "      <td>Houston Dynamo</td>\n",
              "      <td>Atlanta Utd</td>\n",
              "      <td>HOME</td>\n",
              "      <td>HOME</td>\n",
              "      <td>2.55</td>\n",
              "      <td>2.55</td>\n",
              "      <td>2.65</td>\n",
              "      <td>0.41</td>\n",
              "      <td>0.59</td>\n",
              "      <td>Won</td>\n",
              "      <td>41.0</td>\n",
              "      <td>NO</td>\n",
              "    </tr>\n",
              "    <tr>\n",
              "      <th>2</th>\n",
              "      <td>Philadelphia Union</td>\n",
              "      <td>New England Revolution</td>\n",
              "      <td>HOME</td>\n",
              "      <td>HOME</td>\n",
              "      <td>1.93</td>\n",
              "      <td>1.93</td>\n",
              "      <td>3.90</td>\n",
              "      <td>0.64</td>\n",
              "      <td>0.36</td>\n",
              "      <td>Won</td>\n",
              "      <td>64.0</td>\n",
              "      <td>YES</td>\n",
              "    </tr>\n",
              "    <tr>\n",
              "      <th>3</th>\n",
              "      <td>Orlando City</td>\n",
              "      <td>DC United</td>\n",
              "      <td>HOME</td>\n",
              "      <td>DRAW</td>\n",
              "      <td>2.25</td>\n",
              "      <td>2.25</td>\n",
              "      <td>3.05</td>\n",
              "      <td>0.59</td>\n",
              "      <td>0.41</td>\n",
              "      <td>Draw</td>\n",
              "      <td>59.0</td>\n",
              "      <td>YES</td>\n",
              "    </tr>\n",
              "    <tr>\n",
              "      <th>4</th>\n",
              "      <td>FC Dallas</td>\n",
              "      <td>Real Salt Lake</td>\n",
              "      <td>HOME</td>\n",
              "      <td>DRAW</td>\n",
              "      <td>1.70</td>\n",
              "      <td>1.70</td>\n",
              "      <td>4.75</td>\n",
              "      <td>0.53</td>\n",
              "      <td>0.47</td>\n",
              "      <td>Draw</td>\n",
              "      <td>53.0</td>\n",
              "      <td>YES</td>\n",
              "    </tr>\n",
              "  </tbody>\n",
              "</table>\n",
              "</div>"
            ],
            "text/plain": [
              "            Home_team               Away_team FAVORITE RESULTS  FAVORITE_odd  \\\n",
              "0          Toronto FC           Columbus Crew     AWAY    AWAY          5.75   \n",
              "1      Houston Dynamo             Atlanta Utd     HOME    HOME          2.55   \n",
              "2  Philadelphia Union  New England Revolution     HOME    HOME          1.93   \n",
              "3        Orlando City               DC United     HOME    DRAW          2.25   \n",
              "4           FC Dallas          Real Salt Lake     HOME    DRAW          1.70   \n",
              "\n",
              "   Home_odd  Away_odd  Ball_possession_h  Ball_possession_a WON_LOST_Back  \\\n",
              "0      1.55      5.75               0.58               0.42           Won   \n",
              "1      2.55      2.65               0.41               0.59           Won   \n",
              "2      1.93      3.90               0.64               0.36           Won   \n",
              "3      2.25      3.05               0.59               0.41          Draw   \n",
              "4      1.70      4.75               0.53               0.47          Draw   \n",
              "\n",
              "   Ball_possession_Fav FAV_more_possession  \n",
              "0                 42.0                  NO  \n",
              "1                 41.0                  NO  \n",
              "2                 64.0                 YES  \n",
              "3                 59.0                 YES  \n",
              "4                 53.0                 YES  "
            ]
          },
          "execution_count": 15,
          "metadata": {},
          "output_type": "execute_result"
        }
      ],
      "source": [
        "df_soccer.head()"
      ]
    },
    {
      "cell_type": "markdown",
      "id": "ec8b9613",
      "metadata": {
        "id": "ec8b9613"
      },
      "source": [
        "#### No missing values for this dataset\n"
      ]
    },
    {
      "cell_type": "code",
      "execution_count": null,
      "id": "bf9c024b",
      "metadata": {
        "id": "bf9c024b",
        "outputId": "44f87984-6dc0-4333-df6c-25bfc464b53b"
      },
      "outputs": [
        {
          "data": {
            "text/plain": [
              "Home_team              0\n",
              "Away_team              0\n",
              "FAVORITE               0\n",
              "RESULTS                0\n",
              "FAVORITE_odd           0\n",
              "Home_odd               0\n",
              "Away_odd               0\n",
              "Ball_possession_h      0\n",
              "Ball_possession_a      0\n",
              "WON_LOST_Back          0\n",
              "Ball_possession_Fav    0\n",
              "FAV_more_possession    0\n",
              "dtype: int64"
            ]
          },
          "execution_count": 16,
          "metadata": {},
          "output_type": "execute_result"
        }
      ],
      "source": [
        "df_soccer.isnull().sum()"
      ]
    },
    {
      "cell_type": "code",
      "execution_count": null,
      "id": "8f91efec",
      "metadata": {
        "id": "8f91efec",
        "outputId": "1681e22d-afff-45bd-8ab2-5fdbe44507cf"
      },
      "outputs": [
        {
          "data": {
            "text/html": [
              "<div>\n",
              "<style scoped>\n",
              "    .dataframe tbody tr th:only-of-type {\n",
              "        vertical-align: middle;\n",
              "    }\n",
              "\n",
              "    .dataframe tbody tr th {\n",
              "        vertical-align: top;\n",
              "    }\n",
              "\n",
              "    .dataframe thead th {\n",
              "        text-align: right;\n",
              "    }\n",
              "</style>\n",
              "<table border=\"1\" class=\"dataframe\">\n",
              "  <thead>\n",
              "    <tr style=\"text-align: right;\">\n",
              "      <th></th>\n",
              "      <th>FAVORITE_odd</th>\n",
              "      <th>Home_odd</th>\n",
              "      <th>Away_odd</th>\n",
              "      <th>Ball_possession_h</th>\n",
              "      <th>Ball_possession_a</th>\n",
              "      <th>Ball_possession_Fav</th>\n",
              "    </tr>\n",
              "  </thead>\n",
              "  <tbody>\n",
              "    <tr>\n",
              "      <th>count</th>\n",
              "      <td>9604.000000</td>\n",
              "      <td>9604.000000</td>\n",
              "      <td>9604.000000</td>\n",
              "      <td>9604.000000</td>\n",
              "      <td>9604.000000</td>\n",
              "      <td>9604.000000</td>\n",
              "    </tr>\n",
              "    <tr>\n",
              "      <th>mean</th>\n",
              "      <td>2.211273</td>\n",
              "      <td>2.643445</td>\n",
              "      <td>4.441893</td>\n",
              "      <td>0.515055</td>\n",
              "      <td>0.484948</td>\n",
              "      <td>53.750625</td>\n",
              "    </tr>\n",
              "    <tr>\n",
              "      <th>std</th>\n",
              "      <td>0.858431</td>\n",
              "      <td>1.853291</td>\n",
              "      <td>3.819448</td>\n",
              "      <td>0.099107</td>\n",
              "      <td>0.099108</td>\n",
              "      <td>9.296239</td>\n",
              "    </tr>\n",
              "    <tr>\n",
              "      <th>min</th>\n",
              "      <td>1.030000</td>\n",
              "      <td>1.030000</td>\n",
              "      <td>1.070000</td>\n",
              "      <td>0.180000</td>\n",
              "      <td>0.160000</td>\n",
              "      <td>18.000000</td>\n",
              "    </tr>\n",
              "    <tr>\n",
              "      <th>25%</th>\n",
              "      <td>1.620000</td>\n",
              "      <td>1.700000</td>\n",
              "      <td>2.500000</td>\n",
              "      <td>0.450000</td>\n",
              "      <td>0.420000</td>\n",
              "      <td>47.000000</td>\n",
              "    </tr>\n",
              "    <tr>\n",
              "      <th>50%</th>\n",
              "      <td>2.050000</td>\n",
              "      <td>2.170000</td>\n",
              "      <td>3.350000</td>\n",
              "      <td>0.520000</td>\n",
              "      <td>0.480000</td>\n",
              "      <td>54.000000</td>\n",
              "    </tr>\n",
              "    <tr>\n",
              "      <th>75%</th>\n",
              "      <td>2.550000</td>\n",
              "      <td>2.850000</td>\n",
              "      <td>4.850000</td>\n",
              "      <td>0.580000</td>\n",
              "      <td>0.550000</td>\n",
              "      <td>60.000000</td>\n",
              "    </tr>\n",
              "    <tr>\n",
              "      <th>max</th>\n",
              "      <td>13.000000</td>\n",
              "      <td>27.000000</td>\n",
              "      <td>51.000000</td>\n",
              "      <td>0.840000</td>\n",
              "      <td>0.820000</td>\n",
              "      <td>84.000000</td>\n",
              "    </tr>\n",
              "  </tbody>\n",
              "</table>\n",
              "</div>"
            ],
            "text/plain": [
              "       FAVORITE_odd     Home_odd     Away_odd  Ball_possession_h  \\\n",
              "count   9604.000000  9604.000000  9604.000000        9604.000000   \n",
              "mean       2.211273     2.643445     4.441893           0.515055   \n",
              "std        0.858431     1.853291     3.819448           0.099107   \n",
              "min        1.030000     1.030000     1.070000           0.180000   \n",
              "25%        1.620000     1.700000     2.500000           0.450000   \n",
              "50%        2.050000     2.170000     3.350000           0.520000   \n",
              "75%        2.550000     2.850000     4.850000           0.580000   \n",
              "max       13.000000    27.000000    51.000000           0.840000   \n",
              "\n",
              "       Ball_possession_a  Ball_possession_Fav  \n",
              "count        9604.000000          9604.000000  \n",
              "mean            0.484948            53.750625  \n",
              "std             0.099108             9.296239  \n",
              "min             0.160000            18.000000  \n",
              "25%             0.420000            47.000000  \n",
              "50%             0.480000            54.000000  \n",
              "75%             0.550000            60.000000  \n",
              "max             0.820000            84.000000  "
            ]
          },
          "execution_count": 17,
          "metadata": {},
          "output_type": "execute_result"
        }
      ],
      "source": [
        "df_soccer.describe()"
      ]
    },
    {
      "cell_type": "markdown",
      "id": "3981323d",
      "metadata": {
        "id": "3981323d"
      },
      "source": [
        "#### Normally distributed data\n"
      ]
    },
    {
      "cell_type": "code",
      "execution_count": null,
      "id": "e60d6c21",
      "metadata": {
        "id": "e60d6c21",
        "outputId": "0c3abb8c-0dfc-4b41-9d4d-c086f4e2ec5f"
      },
      "outputs": [
        {
          "data": {
            "image/png": "[encoded data removed]",
            "text/plain": [
              "<Figure size 432x288 with 1 Axes>"
            ]
          },
          "metadata": {},
          "output_type": "display_data"
        }
      ],
      "source": [
        "sns.histplot(df_soccer.Ball_possession_Fav, bins=20, kde=True);"
      ]
    },
    {
      "cell_type": "markdown",
      "id": "df4ee8d8",
      "metadata": {
        "id": "df4ee8d8"
      },
      "source": [
        "# SECTION I: HYPOTHESYS TESTING"
      ]
    },
    {
      "cell_type": "markdown",
      "id": "35a87f38",
      "metadata": {
        "id": "35a87f38"
      },
      "source": [
        "### The null hypothesis for a chi-square independence test is that two categorical variables are independent in some population.\n",
        "### H1: It is believed that the team that has more possession of the ball will win more matches. Thus the variables are not independent\n"
      ]
    },
    {
      "cell_type": "markdown",
      "id": "cec14d40",
      "metadata": {
        "id": "cec14d40"
      },
      "source": [
        "#### We can already tell just by looking to the output below that the favourite team has more possession of the ball in this population"
      ]
    },
    {
      "cell_type": "code",
      "execution_count": null,
      "id": "11f8032a",
      "metadata": {
        "id": "11f8032a",
        "outputId": "848347d8-baf3-4138-be66-c1ad07e1a0d2"
      },
      "outputs": [
        {
          "data": {
            "text/plain": [
              "count     9604\n",
              "unique       2\n",
              "top        YES\n",
              "freq      6448\n",
              "Name: FAV_more_possession, dtype: object"
            ]
          },
          "execution_count": 19,
          "metadata": {},
          "output_type": "execute_result"
        }
      ],
      "source": [
        "df_soccer.FAV_more_possession.describe()"
      ]
    },
    {
      "cell_type": "markdown",
      "id": "4902035e",
      "metadata": {
        "id": "4902035e"
      },
      "source": [
        "#### Also, the most frequent data point is WON"
      ]
    },
    {
      "cell_type": "code",
      "execution_count": null,
      "id": "1420f9a0",
      "metadata": {
        "id": "1420f9a0",
        "outputId": "3fad6113-6719-48c7-8468-7acd633346ce"
      },
      "outputs": [
        {
          "data": {
            "text/plain": [
              "count     9604\n",
              "unique       3\n",
              "top        Won\n",
              "freq      4709\n",
              "Name: WON_LOST_Back, dtype: object"
            ]
          },
          "execution_count": 20,
          "metadata": {},
          "output_type": "execute_result"
        }
      ],
      "source": [
        "df_soccer.WON_LOST_Back.describe()"
      ]
    },
    {
      "cell_type": "code",
      "execution_count": null,
      "id": "11ec2378",
      "metadata": {
        "id": "11ec2378",
        "outputId": "c039b771-4c0c-4bc9-ca9a-1616e40bc0cd"
      },
      "outputs": [
        {
          "data": {
            "text/html": [
              "<div>\n",
              "<style scoped>\n",
              "    .dataframe tbody tr th:only-of-type {\n",
              "        vertical-align: middle;\n",
              "    }\n",
              "\n",
              "    .dataframe tbody tr th {\n",
              "        vertical-align: top;\n",
              "    }\n",
              "\n",
              "    .dataframe thead th {\n",
              "        text-align: right;\n",
              "    }\n",
              "</style>\n",
              "<table border=\"1\" class=\"dataframe\">\n",
              "  <thead>\n",
              "    <tr style=\"text-align: right;\">\n",
              "      <th>WON_LOST_Back</th>\n",
              "      <th>Draw</th>\n",
              "      <th>Lost</th>\n",
              "      <th>Won</th>\n",
              "      <th>All</th>\n",
              "    </tr>\n",
              "    <tr>\n",
              "      <th>FAV_more_possession</th>\n",
              "      <th></th>\n",
              "      <th></th>\n",
              "      <th></th>\n",
              "      <th></th>\n",
              "    </tr>\n",
              "  </thead>\n",
              "  <tbody>\n",
              "    <tr>\n",
              "      <th>NO</th>\n",
              "      <td>823</td>\n",
              "      <td>726</td>\n",
              "      <td>1607</td>\n",
              "      <td>3156</td>\n",
              "    </tr>\n",
              "    <tr>\n",
              "      <th>YES</th>\n",
              "      <td>1607</td>\n",
              "      <td>1739</td>\n",
              "      <td>3102</td>\n",
              "      <td>6448</td>\n",
              "    </tr>\n",
              "    <tr>\n",
              "      <th>All</th>\n",
              "      <td>2430</td>\n",
              "      <td>2465</td>\n",
              "      <td>4709</td>\n",
              "      <td>9604</td>\n",
              "    </tr>\n",
              "  </tbody>\n",
              "</table>\n",
              "</div>"
            ],
            "text/plain": [
              "WON_LOST_Back        Draw  Lost   Won   All\n",
              "FAV_more_possession                        \n",
              "NO                    823   726  1607  3156\n",
              "YES                  1607  1739  3102  6448\n",
              "All                  2430  2465  4709  9604"
            ]
          },
          "execution_count": 21,
          "metadata": {},
          "output_type": "execute_result"
        }
      ],
      "source": [
        "contingency_table = pd.crosstab(df_soccer['FAV_more_possession'], df_soccer['WON_LOST_Back'], margins=True)\n",
        "contingency_table"
      ]
    },
    {
      "cell_type": "code",
      "execution_count": null,
      "id": "8176e3b1",
      "metadata": {
        "id": "8176e3b1",
        "outputId": "05471509-1097-4bd2-dfb5-1e1a8bc256ef"
      },
      "outputs": [
        {
          "data": {
            "text/plain": [
              "array([ 823,  726, 1607, 1607, 1739, 3102], dtype=int64)"
            ]
          },
          "execution_count": 22,
          "metadata": {},
          "output_type": "execute_result"
        }
      ],
      "source": [
        "observed_values= np.append(contingency_table.iloc[0][0:3].values,\n",
        "                           contingency_table.iloc[1][0:3].values)\n",
        "observed_values"
      ]
    },
    {
      "cell_type": "code",
      "execution_count": null,
      "id": "76b23853",
      "metadata": {
        "id": "76b23853",
        "outputId": "0772d2cd-afe0-4b61-d49e-f8b694e01a75"
      },
      "outputs": [
        {
          "data": {
            "text/plain": [
              "9604"
            ]
          },
          "execution_count": 23,
          "metadata": {},
          "output_type": "execute_result"
        }
      ],
      "source": [
        "overall_total=contingency_table.loc['All','All']\n",
        "overall_total"
      ]
    },
    {
      "cell_type": "code",
      "execution_count": null,
      "id": "c0a5a925",
      "metadata": {
        "id": "c0a5a925",
        "outputId": "170680d1-b56a-42e8-eafb-19df577fd7e7"
      },
      "outputs": [
        {
          "name": "stdout",
          "output_type": "stream",
          "text": [
            "The total of observation per row NO or YES is [3156 6448]\n",
            "The total of observation per columns Draw, Lost and Win are [2430 2465 4709]\n"
          ]
        }
      ],
      "source": [
        "row_total = contingency_table.iloc[:2,3].values\n",
        "\n",
        "column_total= contingency_table.iloc[2,:3].values\n",
        "\n",
        "print('The total of observation per row NO or YES is', row_total )\n",
        "print('The total of observation per columns Draw, Lost and Win are', column_total)\n"
      ]
    },
    {
      "cell_type": "code",
      "execution_count": null,
      "id": "080fb2c8",
      "metadata": {
        "scrolled": true,
        "id": "080fb2c8",
        "outputId": "96e40369-32d3-4123-c216-a689863ec2f6"
      },
      "outputs": [
        {
          "data": {
            "text/plain": [
              "[798.5297792586422,\n",
              " 810.0312369845898,\n",
              " 1547.438983756768,\n",
              " 1631.4702207413577,\n",
              " 1654.9687630154103,\n",
              " 3161.561016243232]"
            ]
          },
          "execution_count": 25,
          "metadata": {},
          "output_type": "execute_result"
        }
      ],
      "source": [
        "expected_value= []\n",
        "for i in range (2):\n",
        "    for j in range(3):\n",
        "        expected_value.append(row_total[i]*column_total[j]/overall_total)\n",
        "        \n",
        "expected_value"
      ]
    },
    {
      "cell_type": "markdown",
      "id": "bff676bb",
      "metadata": {
        "id": "bff676bb"
      },
      "source": [
        "## DOF = (No. of rows — 1)(No. of columns — 1) = (2–1)(3–1) = 2"
      ]
    },
    {
      "cell_type": "code",
      "execution_count": null,
      "id": "efcdfe60",
      "metadata": {
        "id": "efcdfe60"
      },
      "outputs": [],
      "source": [
        "from scipy.stats import chi2\n",
        "from scipy import stats"
      ]
    },
    {
      "cell_type": "code",
      "execution_count": null,
      "id": "3b192d7f",
      "metadata": {
        "id": "3b192d7f",
        "outputId": "62fad4ed-f745-4c09-95a2-1ce7f18a0a85"
      },
      "outputs": [
        {
          "name": "stdout",
          "output_type": "stream",
          "text": [
            "Chi_square Statistic is 17.515428472538\n",
            "Chi_square critical at 0.05 alpha and at a 2 degrees of freedom is  5.991464547107979\n"
          ]
        }
      ],
      "source": [
        "dof = 2\n",
        "chi_square_value = np.sum((observed_values-expected_value)**2/expected_value)\n",
        "print ('Chi_square Statistic is', chi_square_value)\n",
        "print ('Chi_square critical at 0.05 alpha and at a 2 degrees of freedom is ', chi2.ppf(0.95, dof))"
      ]
    },
    {
      "cell_type": "code",
      "execution_count": null,
      "id": "923ac439",
      "metadata": {
        "id": "923ac439",
        "outputId": "3f814f53-c1bc-4e69-c962-dc88df6f0572"
      },
      "outputs": [
        {
          "data": {
            "text/plain": [
              "0.000157243619886005"
            ]
          },
          "execution_count": 28,
          "metadata": {},
          "output_type": "execute_result"
        }
      ],
      "source": [
        "p_value = 1 - stats.chi2.cdf(chi_square_value, dof)\n",
        "p_value"
      ]
    },
    {
      "cell_type": "markdown",
      "id": "95b255bc",
      "metadata": {
        "id": "95b255bc"
      },
      "source": [
        "## The code below is just a simplified way to find the values shown above. It tell us everything we need to know about our test. \n",
        "## To interpret the output just follow the order above:\n",
        "\n",
        "1. The Chi Square value \n",
        "2. The p-value\n",
        "3. The degree of freedom\n",
        "4. An array with the expected values "
      ]
    },
    {
      "cell_type": "code",
      "execution_count": null,
      "id": "fac84c53",
      "metadata": {
        "id": "fac84c53",
        "outputId": "435287ae-003b-4392-e1c4-f31d5c5045e5"
      },
      "outputs": [
        {
          "data": {
            "text/plain": [
              "(17.515428472538,\n",
              " 0.00015724361988597404,\n",
              " 2,\n",
              " array([[ 798.52977926,  810.03123698, 1547.43898376],\n",
              "        [1631.47022074, 1654.96876302, 3161.56101624]]))"
            ]
          },
          "execution_count": 29,
          "metadata": {},
          "output_type": "execute_result"
        }
      ],
      "source": [
        "data = [[823,  726, 1607],\n",
        "        [1607, 1739, 3102]]\n",
        "\n",
        "import scipy.stats as stats\n",
        "\n",
        "#perform the Chi-Square Test of Independence\n",
        "stats.chi2_contingency(data)"
      ]
    },
    {
      "cell_type": "markdown",
      "id": "1c79eb9e",
      "metadata": {
        "id": "1c79eb9e"
      },
      "source": [
        "### Since this is a small chance, we no longer believe our null hypothesis of our variables being independent in our population.\n",
        "### Conclusion: Teams having more possession of the ball and the fact that they win more matches than they lose or draw are related in our population. Thus we can reject the null hypothesis."
      ]
    },
    {
      "cell_type": "code",
      "execution_count": null,
      "id": "a0ed8acb",
      "metadata": {
        "id": "a0ed8acb",
        "outputId": "bb37f8fd-40c6-4634-d48f-2e6928afd210"
      },
      "outputs": [
        {
          "data": {
            "image/png": "[encoded data removed]",
            "text/plain": [
              "<Figure size 720x432 with 1 Axes>"
            ]
          },
          "metadata": {},
          "output_type": "display_data"
        }
      ],
      "source": [
        "causation_table = pd.crosstab(df_soccer['WON_LOST_Back'], df_soccer['FAV_more_possession'], margins=False)\n",
        "\n",
        "causation_table.plot(kind='barh', \n",
        "                    stacked=True, \n",
        "                    color=['red','lightblue'], \n",
        "                    figsize=(10, 6))\n",
        "\n",
        "plt.legend(loc=\"lower right\", ncol=2)\n",
        "plt.xlabel(\"Match outcome\")\n",
        "plt.ylabel(\"Does the possession helped the teams win more matches\")\n",
        "plt.title(\"Favorites having more possession of the ball X Match results\")\n",
        "plt.show()\n"
      ]
    },
    {
      "cell_type": "markdown",
      "id": "47f6a193",
      "metadata": {
        "id": "47f6a193"
      },
      "source": [
        "# SECTION II: CORRELATION"
      ]
    },
    {
      "cell_type": "markdown",
      "id": "c9b8dd37",
      "metadata": {
        "id": "c9b8dd37"
      },
      "source": [
        "#### For this study I will drop the lines where the odds of the favorite are bigger than @4 since any number over that defeats the purpose of having a favorite, since the bigger the odd, the less favorite a team is. It is important to take into consideration that the favorite in this case can be the team playing home or away.\n"
      ]
    },
    {
      "cell_type": "code",
      "execution_count": null,
      "id": "6c066e84",
      "metadata": {
        "id": "6c066e84"
      },
      "outputs": [],
      "source": [
        "df_soccer.drop(df_soccer.loc[df_soccer['FAVORITE_odd']>=4].index, inplace=True)"
      ]
    },
    {
      "cell_type": "code",
      "execution_count": null,
      "id": "2350b460",
      "metadata": {
        "id": "2350b460",
        "outputId": "37daaa61-39e3-4264-dc24-ec61aef2bfdb"
      },
      "outputs": [
        {
          "data": {
            "text/html": [
              "<div>\n",
              "<style scoped>\n",
              "    .dataframe tbody tr th:only-of-type {\n",
              "        vertical-align: middle;\n",
              "    }\n",
              "\n",
              "    .dataframe tbody tr th {\n",
              "        vertical-align: top;\n",
              "    }\n",
              "\n",
              "    .dataframe thead th {\n",
              "        text-align: right;\n",
              "    }\n",
              "</style>\n",
              "<table border=\"1\" class=\"dataframe\">\n",
              "  <thead>\n",
              "    <tr style=\"text-align: right;\">\n",
              "      <th></th>\n",
              "      <th>FAVORITE_odd</th>\n",
              "      <th>Home_odd</th>\n",
              "      <th>Away_odd</th>\n",
              "      <th>Ball_possession_h</th>\n",
              "      <th>Ball_possession_a</th>\n",
              "      <th>Ball_possession_Fav</th>\n",
              "    </tr>\n",
              "  </thead>\n",
              "  <tbody>\n",
              "    <tr>\n",
              "      <th>count</th>\n",
              "      <td>9231.000000</td>\n",
              "      <td>9231.000000</td>\n",
              "      <td>9231.000000</td>\n",
              "      <td>9231.000000</td>\n",
              "      <td>9231.000000</td>\n",
              "      <td>9231.000000</td>\n",
              "    </tr>\n",
              "    <tr>\n",
              "      <th>mean</th>\n",
              "      <td>2.100737</td>\n",
              "      <td>2.662676</td>\n",
              "      <td>4.438480</td>\n",
              "      <td>0.514774</td>\n",
              "      <td>0.485229</td>\n",
              "      <td>54.052865</td>\n",
              "    </tr>\n",
              "    <tr>\n",
              "      <th>std</th>\n",
              "      <td>0.635133</td>\n",
              "      <td>1.869909</td>\n",
              "      <td>3.885933</td>\n",
              "      <td>0.099466</td>\n",
              "      <td>0.099467</td>\n",
              "      <td>9.202738</td>\n",
              "    </tr>\n",
              "    <tr>\n",
              "      <th>min</th>\n",
              "      <td>1.030000</td>\n",
              "      <td>1.030000</td>\n",
              "      <td>1.070000</td>\n",
              "      <td>0.180000</td>\n",
              "      <td>0.160000</td>\n",
              "      <td>19.000000</td>\n",
              "    </tr>\n",
              "    <tr>\n",
              "      <th>25%</th>\n",
              "      <td>1.620000</td>\n",
              "      <td>1.700000</td>\n",
              "      <td>2.500000</td>\n",
              "      <td>0.450000</td>\n",
              "      <td>0.420000</td>\n",
              "      <td>48.000000</td>\n",
              "    </tr>\n",
              "    <tr>\n",
              "      <th>50%</th>\n",
              "      <td>2.020000</td>\n",
              "      <td>2.220000</td>\n",
              "      <td>3.300000</td>\n",
              "      <td>0.520000</td>\n",
              "      <td>0.480000</td>\n",
              "      <td>54.000000</td>\n",
              "    </tr>\n",
              "    <tr>\n",
              "      <th>75%</th>\n",
              "      <td>2.500000</td>\n",
              "      <td>2.870000</td>\n",
              "      <td>4.850000</td>\n",
              "      <td>0.580000</td>\n",
              "      <td>0.550000</td>\n",
              "      <td>60.000000</td>\n",
              "    </tr>\n",
              "    <tr>\n",
              "      <th>max</th>\n",
              "      <td>3.900000</td>\n",
              "      <td>27.000000</td>\n",
              "      <td>51.000000</td>\n",
              "      <td>0.840000</td>\n",
              "      <td>0.820000</td>\n",
              "      <td>84.000000</td>\n",
              "    </tr>\n",
              "  </tbody>\n",
              "</table>\n",
              "</div>"
            ],
            "text/plain": [
              "       FAVORITE_odd     Home_odd     Away_odd  Ball_possession_h  \\\n",
              "count   9231.000000  9231.000000  9231.000000        9231.000000   \n",
              "mean       2.100737     2.662676     4.438480           0.514774   \n",
              "std        0.635133     1.869909     3.885933           0.099466   \n",
              "min        1.030000     1.030000     1.070000           0.180000   \n",
              "25%        1.620000     1.700000     2.500000           0.450000   \n",
              "50%        2.020000     2.220000     3.300000           0.520000   \n",
              "75%        2.500000     2.870000     4.850000           0.580000   \n",
              "max        3.900000    27.000000    51.000000           0.840000   \n",
              "\n",
              "       Ball_possession_a  Ball_possession_Fav  \n",
              "count        9231.000000          9231.000000  \n",
              "mean            0.485229            54.052865  \n",
              "std             0.099467             9.202738  \n",
              "min             0.160000            19.000000  \n",
              "25%             0.420000            48.000000  \n",
              "50%             0.480000            54.000000  \n",
              "75%             0.550000            60.000000  \n",
              "max             0.820000            84.000000  "
            ]
          },
          "execution_count": 32,
          "metadata": {},
          "output_type": "execute_result"
        }
      ],
      "source": [
        "df_soccer.describe()"
      ]
    },
    {
      "cell_type": "code",
      "execution_count": null,
      "id": "38822a9e",
      "metadata": {
        "scrolled": false,
        "id": "38822a9e",
        "outputId": "5644b207-3319-4c70-d9bd-5a7f4eb17ea6"
      },
      "outputs": [
        {
          "data": {
            "image/png": "[encoded data removed]",
            "text/plain": [
              "<Figure size 432x288 with 2 Axes>"
            ]
          },
          "metadata": {},
          "output_type": "display_data"
        }
      ],
      "source": [
        "correlation = df_soccer.corr()\n",
        "plot = sns.heatmap(correlation, annot = True, fmt=\".2f\",linewidths=.5, vmin=-1, vmax=1, cmap= \"YlGnBu\")\n",
        "plot.set_title('Correlation Heatmap', fontdict={'fontsize':12}, pad=12);"
      ]
    },
    {
      "cell_type": "code",
      "execution_count": null,
      "id": "b6655eb2",
      "metadata": {
        "id": "b6655eb2",
        "outputId": "4a3ef863-c30e-46df-ca80-a41193d2435a"
      },
      "outputs": [
        {
          "data": {
            "image/png": "[encoded data removed]",
            "text/plain": [
              "<Figure size 432x288 with 1 Axes>"
            ]
          },
          "metadata": {},
          "output_type": "display_data"
        }
      ],
      "source": [
        "sns.scatterplot(data=df_soccer, x=\"FAVORITE_odd\", y=\"Ball_possession_Fav\");"
      ]
    },
    {
      "cell_type": "code",
      "execution_count": null,
      "id": "a3437386",
      "metadata": {
        "id": "a3437386",
        "outputId": "79521d17-3819-460b-cc72-f2289e029bf1"
      },
      "outputs": [
        {
          "data": {
            "image/png": "[encoded data removed]",
            "text/plain": [
              "<Figure size 432x288 with 1 Axes>"
            ]
          },
          "metadata": {},
          "output_type": "display_data"
        }
      ],
      "source": [
        "sns.scatterplot(data=df_soccer, x=\"Ball_possession_h\", y=\"Ball_possession_a\");"
      ]
    },
    {
      "cell_type": "markdown",
      "id": "26a316b7",
      "metadata": {
        "id": "26a316b7"
      },
      "source": [
        "# SECTION III: LINEAR REGRESSION\n",
        "\n",
        "### Forecast the ball possession of the favorite team according to the odd it has before the match start.\n",
        "\n",
        "1. y = dependent variable = Ball possession\n",
        "2. x = independent variable = odd"
      ]
    },
    {
      "cell_type": "code",
      "execution_count": null,
      "id": "b2afef10",
      "metadata": {
        "scrolled": false,
        "id": "b2afef10",
        "outputId": "0c33e0f7-2439-44de-de02-ff9f3acba789"
      },
      "outputs": [
        {
          "data": {
            "text/html": [
              "<div>\n",
              "<style scoped>\n",
              "    .dataframe tbody tr th:only-of-type {\n",
              "        vertical-align: middle;\n",
              "    }\n",
              "\n",
              "    .dataframe tbody tr th {\n",
              "        vertical-align: top;\n",
              "    }\n",
              "\n",
              "    .dataframe thead th {\n",
              "        text-align: right;\n",
              "    }\n",
              "</style>\n",
              "<table border=\"1\" class=\"dataframe\">\n",
              "  <thead>\n",
              "    <tr style=\"text-align: right;\">\n",
              "      <th></th>\n",
              "      <th>Home_team</th>\n",
              "      <th>Away_team</th>\n",
              "      <th>FAVORITE</th>\n",
              "      <th>RESULTS</th>\n",
              "      <th>FAVORITE_odd</th>\n",
              "      <th>Home_odd</th>\n",
              "      <th>Away_odd</th>\n",
              "      <th>Ball_possession_h</th>\n",
              "      <th>Ball_possession_a</th>\n",
              "      <th>WON_LOST_Back</th>\n",
              "      <th>Ball_possession_Fav</th>\n",
              "      <th>FAV_more_possession</th>\n",
              "    </tr>\n",
              "  </thead>\n",
              "  <tbody>\n",
              "    <tr>\n",
              "      <th>1</th>\n",
              "      <td>Houston Dynamo</td>\n",
              "      <td>Atlanta Utd</td>\n",
              "      <td>HOME</td>\n",
              "      <td>HOME</td>\n",
              "      <td>2.55</td>\n",
              "      <td>2.55</td>\n",
              "      <td>2.65</td>\n",
              "      <td>0.41</td>\n",
              "      <td>0.59</td>\n",
              "      <td>Won</td>\n",
              "      <td>41.0</td>\n",
              "      <td>NO</td>\n",
              "    </tr>\n",
              "    <tr>\n",
              "      <th>2</th>\n",
              "      <td>Philadelphia Union</td>\n",
              "      <td>New England Revolution</td>\n",
              "      <td>HOME</td>\n",
              "      <td>HOME</td>\n",
              "      <td>1.93</td>\n",
              "      <td>1.93</td>\n",
              "      <td>3.90</td>\n",
              "      <td>0.64</td>\n",
              "      <td>0.36</td>\n",
              "      <td>Won</td>\n",
              "      <td>64.0</td>\n",
              "      <td>YES</td>\n",
              "    </tr>\n",
              "    <tr>\n",
              "      <th>3</th>\n",
              "      <td>Orlando City</td>\n",
              "      <td>DC United</td>\n",
              "      <td>HOME</td>\n",
              "      <td>DRAW</td>\n",
              "      <td>2.25</td>\n",
              "      <td>2.25</td>\n",
              "      <td>3.05</td>\n",
              "      <td>0.59</td>\n",
              "      <td>0.41</td>\n",
              "      <td>Draw</td>\n",
              "      <td>59.0</td>\n",
              "      <td>YES</td>\n",
              "    </tr>\n",
              "    <tr>\n",
              "      <th>4</th>\n",
              "      <td>FC Dallas</td>\n",
              "      <td>Real Salt Lake</td>\n",
              "      <td>HOME</td>\n",
              "      <td>DRAW</td>\n",
              "      <td>1.70</td>\n",
              "      <td>1.70</td>\n",
              "      <td>4.75</td>\n",
              "      <td>0.53</td>\n",
              "      <td>0.47</td>\n",
              "      <td>Draw</td>\n",
              "      <td>53.0</td>\n",
              "      <td>YES</td>\n",
              "    </tr>\n",
              "    <tr>\n",
              "      <th>5</th>\n",
              "      <td>San Jose Earthquakes</td>\n",
              "      <td>Minnesota United</td>\n",
              "      <td>HOME</td>\n",
              "      <td>HOME</td>\n",
              "      <td>1.57</td>\n",
              "      <td>1.57</td>\n",
              "      <td>5.50</td>\n",
              "      <td>0.44</td>\n",
              "      <td>0.56</td>\n",
              "      <td>Won</td>\n",
              "      <td>44.0</td>\n",
              "      <td>NO</td>\n",
              "    </tr>\n",
              "  </tbody>\n",
              "</table>\n",
              "</div>"
            ],
            "text/plain": [
              "              Home_team               Away_team FAVORITE RESULTS  \\\n",
              "1        Houston Dynamo             Atlanta Utd     HOME    HOME   \n",
              "2    Philadelphia Union  New England Revolution     HOME    HOME   \n",
              "3          Orlando City               DC United     HOME    DRAW   \n",
              "4             FC Dallas          Real Salt Lake     HOME    DRAW   \n",
              "5  San Jose Earthquakes        Minnesota United     HOME    HOME   \n",
              "\n",
              "   FAVORITE_odd  Home_odd  Away_odd  Ball_possession_h  Ball_possession_a  \\\n",
              "1          2.55      2.55      2.65               0.41               0.59   \n",
              "2          1.93      1.93      3.90               0.64               0.36   \n",
              "3          2.25      2.25      3.05               0.59               0.41   \n",
              "4          1.70      1.70      4.75               0.53               0.47   \n",
              "5          1.57      1.57      5.50               0.44               0.56   \n",
              "\n",
              "  WON_LOST_Back  Ball_possession_Fav FAV_more_possession  \n",
              "1           Won                 41.0                  NO  \n",
              "2           Won                 64.0                 YES  \n",
              "3          Draw                 59.0                 YES  \n",
              "4          Draw                 53.0                 YES  \n",
              "5           Won                 44.0                  NO  "
            ]
          },
          "execution_count": 36,
          "metadata": {},
          "output_type": "execute_result"
        }
      ],
      "source": [
        "df_soccer.head()"
      ]
    },
    {
      "cell_type": "markdown",
      "id": "68fd52c8",
      "metadata": {
        "id": "68fd52c8"
      },
      "source": [
        "#### For this study I will drop the lines where the odds of the favorite are equal or bigger than @2.7 since any number over that defeats the purpose of having a favorite, since the bigger the odd, the less favorite a team is. It is important to take into consideration that this study is focused on the team playing at home.\n"
      ]
    },
    {
      "cell_type": "code",
      "execution_count": null,
      "id": "15965af2",
      "metadata": {
        "id": "15965af2"
      },
      "outputs": [],
      "source": [
        "df_soccer.drop(df_soccer.loc[df_soccer['Home_odd']>=2.7].index, inplace=True)"
      ]
    },
    {
      "cell_type": "code",
      "execution_count": null,
      "id": "65f60e1c",
      "metadata": {
        "id": "65f60e1c",
        "outputId": "9d1af044-1c11-4f0b-a778-a31a8c4c6a07"
      },
      "outputs": [
        {
          "data": {
            "text/html": [
              "<div>\n",
              "<style scoped>\n",
              "    .dataframe tbody tr th:only-of-type {\n",
              "        vertical-align: middle;\n",
              "    }\n",
              "\n",
              "    .dataframe tbody tr th {\n",
              "        vertical-align: top;\n",
              "    }\n",
              "\n",
              "    .dataframe thead th {\n",
              "        text-align: right;\n",
              "    }\n",
              "</style>\n",
              "<table border=\"1\" class=\"dataframe\">\n",
              "  <thead>\n",
              "    <tr style=\"text-align: right;\">\n",
              "      <th></th>\n",
              "      <th>Home_odd</th>\n",
              "      <th>Ball_possession_h</th>\n",
              "    </tr>\n",
              "  </thead>\n",
              "  <tbody>\n",
              "    <tr>\n",
              "      <th>1</th>\n",
              "      <td>2.55</td>\n",
              "      <td>0.41</td>\n",
              "    </tr>\n",
              "    <tr>\n",
              "      <th>2</th>\n",
              "      <td>1.93</td>\n",
              "      <td>0.64</td>\n",
              "    </tr>\n",
              "    <tr>\n",
              "      <th>3</th>\n",
              "      <td>2.25</td>\n",
              "      <td>0.59</td>\n",
              "    </tr>\n",
              "    <tr>\n",
              "      <th>4</th>\n",
              "      <td>1.70</td>\n",
              "      <td>0.53</td>\n",
              "    </tr>\n",
              "    <tr>\n",
              "      <th>5</th>\n",
              "      <td>1.57</td>\n",
              "      <td>0.44</td>\n",
              "    </tr>\n",
              "  </tbody>\n",
              "</table>\n",
              "</div>"
            ],
            "text/plain": [
              "   Home_odd  Ball_possession_h\n",
              "1      2.55               0.41\n",
              "2      1.93               0.64\n",
              "3      2.25               0.59\n",
              "4      1.70               0.53\n",
              "5      1.57               0.44"
            ]
          },
          "execution_count": 38,
          "metadata": {},
          "output_type": "execute_result"
        }
      ],
      "source": [
        "data = [df_soccer[\"Home_odd\"], df_soccer[\"Ball_possession_h\"]]\n",
        "\n",
        "headers = [\"Home_odd\", \"Ball_possession_h\"]\n",
        "\n",
        "df = pd.concat(data, axis=1, keys=headers)\n",
        "df.head()"
      ]
    },
    {
      "cell_type": "markdown",
      "id": "4eada828",
      "metadata": {
        "id": "4eada828"
      },
      "source": [
        "### Visuzalize relationship between variables using scatterplot"
      ]
    },
    {
      "cell_type": "code",
      "execution_count": null,
      "id": "322c957a",
      "metadata": {
        "id": "322c957a",
        "outputId": "332eefa6-aa41-4fa4-a491-7205ca8b711e"
      },
      "outputs": [
        {
          "data": {
            "image/png": "[encoded data removed]",
            "text/plain": [
              "<Figure size 432x288 with 1 Axes>"
            ]
          },
          "metadata": {},
          "output_type": "display_data"
        }
      ],
      "source": [
        "sns.scatterplot(data=df, x=\"Home_odd\", y=\"Ball_possession_h\");"
      ]
    },
    {
      "cell_type": "markdown",
      "id": "b404cfea",
      "metadata": {
        "id": "b404cfea"
      },
      "source": [
        "#### We can make sure if there is a correlation doing the code below. It seems that the variables have a negative moderated correlation due to the coefficient found of -0.416852\n"
      ]
    },
    {
      "cell_type": "code",
      "execution_count": null,
      "id": "2eda3924",
      "metadata": {
        "id": "2eda3924",
        "outputId": "72d246b8-1a48-4ff0-f2cc-ed001bd9f17e"
      },
      "outputs": [
        {
          "data": {
            "text/html": [
              "<div>\n",
              "<style scoped>\n",
              "    .dataframe tbody tr th:only-of-type {\n",
              "        vertical-align: middle;\n",
              "    }\n",
              "\n",
              "    .dataframe tbody tr th {\n",
              "        vertical-align: top;\n",
              "    }\n",
              "\n",
              "    .dataframe thead th {\n",
              "        text-align: right;\n",
              "    }\n",
              "</style>\n",
              "<table border=\"1\" class=\"dataframe\">\n",
              "  <thead>\n",
              "    <tr style=\"text-align: right;\">\n",
              "      <th></th>\n",
              "      <th>Home_odd</th>\n",
              "      <th>Ball_possession_h</th>\n",
              "    </tr>\n",
              "  </thead>\n",
              "  <tbody>\n",
              "    <tr>\n",
              "      <th>Home_odd</th>\n",
              "      <td>1.000000</td>\n",
              "      <td>-0.416852</td>\n",
              "    </tr>\n",
              "    <tr>\n",
              "      <th>Ball_possession_h</th>\n",
              "      <td>-0.416852</td>\n",
              "      <td>1.000000</td>\n",
              "    </tr>\n",
              "  </tbody>\n",
              "</table>\n",
              "</div>"
            ],
            "text/plain": [
              "                   Home_odd  Ball_possession_h\n",
              "Home_odd           1.000000          -0.416852\n",
              "Ball_possession_h -0.416852           1.000000"
            ]
          },
          "execution_count": 40,
          "metadata": {},
          "output_type": "execute_result"
        }
      ],
      "source": [
        "df.corr(method='pearson')"
      ]
    },
    {
      "cell_type": "code",
      "execution_count": null,
      "id": "3d67791b",
      "metadata": {
        "id": "3d67791b",
        "outputId": "5832d062-3922-4ff5-ebd0-2641c870f254"
      },
      "outputs": [
        {
          "data": {
            "text/plain": [
              "array([-0.0907896 ,  0.71391881])"
            ]
          },
          "execution_count": 41,
          "metadata": {},
          "output_type": "execute_result"
        }
      ],
      "source": [
        "ball_possesion_fit = np.polyfit(df.Home_odd, df.Ball_possession_h, 1)\n",
        "\n",
        "ball_possesion_fit"
      ]
    },
    {
      "cell_type": "markdown",
      "id": "a43f45e6",
      "metadata": {
        "id": "a43f45e6"
      },
      "source": [
        "* Ball_possession: B\n",
        "* Odds: O\n",
        "\n",
        "Linear Regression Model: **B = -0.091*O - 0.71**"
      ]
    },
    {
      "cell_type": "code",
      "execution_count": null,
      "id": "e59e666b",
      "metadata": {
        "id": "e59e666b",
        "outputId": "1a7b415d-2b4a-4a2b-dada-16154b9697d4"
      },
      "outputs": [
        {
          "data": {
            "image/png": "[encoded data removed]",
            "text/plain": [
              "<Figure size 432x288 with 1 Axes>"
            ]
          },
          "metadata": {},
          "output_type": "display_data"
        }
      ],
      "source": [
        "#### Scatter plots.\n",
        "ax1 = df.plot(kind='scatter', x='Home_odd', y='Ball_possession_h', color='blue', alpha=0.5)\n",
        "\n",
        "#### regression lines\n",
        "plt.plot(df.Home_odd, ball_possesion_fit[0] * df.Home_odd + ball_possesion_fit[1], color='darkred')\n",
        "\n",
        "#### regression equations\n",
        "plt.text(1, 1,'y={:.2f}+{:.2f}*x'.format( ball_possesion_fit[1],  ball_possesion_fit[0]), color='darkblue')\n",
        "\n",
        "#### legend, title and labels.\n",
        "\n",
        "plt.legend(labels=['Ball possession Regresion Line', 'Home odds', 'Ball possession'])\n",
        "plt.title('Relationship between Odds and ball possession')\n",
        "plt.xlabel('Home odds')\n",
        "plt.ylabel('Ball possession');"
      ]
    },
    {
      "cell_type": "markdown",
      "id": "20bac3dd",
      "metadata": {
        "id": "20bac3dd"
      },
      "source": [
        "### The code below is going to give us the same result we achieved using numpy"
      ]
    },
    {
      "cell_type": "code",
      "execution_count": null,
      "id": "f9728775",
      "metadata": {
        "id": "f9728775",
        "outputId": "5b7ebfcb-a4c7-44f7-e3b7-e12e37292a3d"
      },
      "outputs": [
        {
          "name": "stdout",
          "output_type": "stream",
          "text": [
            "0.7139188147296436\n",
            "[-0.0907896]\n"
          ]
        }
      ],
      "source": [
        "from sklearn.linear_model import LinearRegression\n",
        "\n",
        "\n",
        "# create linear regression object\n",
        "lr_ball_possession = LinearRegression()\n",
        "\n",
        "# fit linear regression\n",
        "lr_ball_possession.fit(df[['Home_odd']], df['Ball_possession_h'])\n",
        "\n",
        "# get the slope and intercept of the line best fit\n",
        "print(lr_ball_possession.intercept_)\n",
        "\n",
        "print(lr_ball_possession.coef_)"
      ]
    },
    {
      "cell_type": "markdown",
      "id": "2d791239",
      "metadata": {
        "id": "2d791239"
      },
      "source": [
        "### Let´s use the code below to make prediction using numpy"
      ]
    },
    {
      "cell_type": "code",
      "execution_count": null,
      "id": "435d0075",
      "metadata": {
        "id": "435d0075",
        "outputId": "1a4245ae-dcc9-4e3f-c552-b50ddf559325"
      },
      "outputs": [
        {
          "data": {
            "text/html": [
              "<div>\n",
              "<style scoped>\n",
              "    .dataframe tbody tr th:only-of-type {\n",
              "        vertical-align: middle;\n",
              "    }\n",
              "\n",
              "    .dataframe tbody tr th {\n",
              "        vertical-align: top;\n",
              "    }\n",
              "\n",
              "    .dataframe thead th {\n",
              "        text-align: right;\n",
              "    }\n",
              "</style>\n",
              "<table border=\"1\" class=\"dataframe\">\n",
              "  <thead>\n",
              "    <tr style=\"text-align: right;\">\n",
              "      <th></th>\n",
              "      <th>Home_odd</th>\n",
              "      <th>Ball_possession_h</th>\n",
              "      <th>predicted_possession</th>\n",
              "    </tr>\n",
              "  </thead>\n",
              "  <tbody>\n",
              "    <tr>\n",
              "      <th>1</th>\n",
              "      <td>2.55</td>\n",
              "      <td>0.41</td>\n",
              "      <td>0.482405</td>\n",
              "    </tr>\n",
              "    <tr>\n",
              "      <th>2</th>\n",
              "      <td>1.93</td>\n",
              "      <td>0.64</td>\n",
              "      <td>0.538695</td>\n",
              "    </tr>\n",
              "    <tr>\n",
              "      <th>3</th>\n",
              "      <td>2.25</td>\n",
              "      <td>0.59</td>\n",
              "      <td>0.509642</td>\n",
              "    </tr>\n",
              "    <tr>\n",
              "      <th>4</th>\n",
              "      <td>1.70</td>\n",
              "      <td>0.53</td>\n",
              "      <td>0.559576</td>\n",
              "    </tr>\n",
              "    <tr>\n",
              "      <th>5</th>\n",
              "      <td>1.57</td>\n",
              "      <td>0.44</td>\n",
              "      <td>0.571379</td>\n",
              "    </tr>\n",
              "  </tbody>\n",
              "</table>\n",
              "</div>"
            ],
            "text/plain": [
              "   Home_odd  Ball_possession_h  predicted_possession\n",
              "1      2.55               0.41              0.482405\n",
              "2      1.93               0.64              0.538695\n",
              "3      2.25               0.59              0.509642\n",
              "4      1.70               0.53              0.559576\n",
              "5      1.57               0.44              0.571379"
            ]
          },
          "execution_count": 44,
          "metadata": {},
          "output_type": "execute_result"
        }
      ],
      "source": [
        "df['predicted_possession'] = np.polyval(ball_possesion_fit,df[['Home_odd']])\n",
        "\n",
        "df.head()"
      ]
    },
    {
      "cell_type": "code",
      "execution_count": null,
      "id": "c9e17e05",
      "metadata": {
        "id": "c9e17e05",
        "outputId": "5cc18c77-f734-44c8-d7f0-b7f6ce76b309"
      },
      "outputs": [
        {
          "name": "stdout",
          "output_type": "stream",
          "text": [
            "Coefficient of Determination 0.17376551475988433\n"
          ]
        }
      ],
      "source": [
        "actual_possession = df['Ball_possession_h']\n",
        "predicted_possession = df['predicted_possession']\n",
        "R_square = r2_score(actual_possession,predicted_possession) \n",
        "print('Coefficient of Determination', R_square)"
      ]
    },
    {
      "cell_type": "code",
      "execution_count": null,
      "id": "cd6fcb7f",
      "metadata": {
        "id": "cd6fcb7f"
      },
      "outputs": [],
      "source": []
    }
  ],
  "metadata": {
    "kernelspec": {
      "display_name": "Python 3",
      "language": "python",
      "name": "python3"
    },
    "language_info": {
      "codemirror_mode": {
        "name": "ipython",
        "version": 3
      },
      "file_extension": ".py",
      "mimetype": "text/x-python",
      "name": "python",
      "nbconvert_exporter": "python",
      "pygments_lexer": "ipython3",
      "version": "3.8.8"
    },
    "colab": {
      "provenance": []
    }
  },
  "nbformat": 4,
  "nbformat_minor": 5
}